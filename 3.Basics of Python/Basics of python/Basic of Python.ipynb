{
  "nbformat": 4,
  "nbformat_minor": 0,
  "metadata": {
    "colab": {
      "provenance": []
    },
    "kernelspec": {
      "name": "python3",
      "display_name": "Python 3"
    },
    "language_info": {
      "name": "python"
    }
  },
  "cells": [
    {
      "cell_type": "markdown",
      "source": [
        "# **Coding Exercises**"
      ],
      "metadata": {
        "id": "YdckPuJuRkME"
      }
    },
    {
      "cell_type": "markdown",
      "source": [
        "### **Exercise 1: Prime Numbers**"
      ],
      "metadata": {
        "id": "BL3VW5jLRyQM"
      }
    },
    {
      "cell_type": "markdown",
      "source": [
        "Write a Python program that checks whether a given number is prime or not. A prime number is a natural number greater than 1 that has no positive divisors other than 1 and itself."
      ],
      "metadata": {
        "id": "aCzSeV18Sp5c"
      }
    },
    {
      "cell_type": "code",
      "execution_count": 1,
      "metadata": {
        "id": "lIYrF7_3Rg68"
      },
      "outputs": [],
      "source": [
        "def is_prime(number):\n",
        "    if number <= 1:\n",
        "        return False\n",
        "    elif number <= 3:\n",
        "        return True\n",
        "    elif number % 2 == 0 or number % 3 == 0:\n",
        "        return False\n",
        "    i = 5\n",
        "    while i * i <= number:\n",
        "        if number % i == 0 or number % (i + 2) == 0:\n",
        "            return False\n",
        "        i += 6\n",
        "    return True"
      ]
    },
    {
      "cell_type": "markdown",
      "source": [
        "\n",
        "Test the function\n"
      ],
      "metadata": {
        "id": "fvUX4YzhSH-0"
      }
    },
    {
      "cell_type": "code",
      "source": [
        "num = int(input(\"Enter a number to check if it's prime: \"))\n",
        "if is_prime(num):\n",
        "    print(f\"{num} is a prime number.\")\n",
        "else:\n",
        "    print(f\"{num} is not a prime number.\")"
      ],
      "metadata": {
        "colab": {
          "base_uri": "https://localhost:8080/"
        },
        "id": "KIvPEqO5SDR0",
        "outputId": "b9aa76ef-f76b-431e-960c-51cc6f593c89"
      },
      "execution_count": 3,
      "outputs": [
        {
          "output_type": "stream",
          "name": "stdout",
          "text": [
            "Enter a number to check if it's prime: 2\n",
            "2 is a prime number.\n"
          ]
        }
      ]
    },
    {
      "cell_type": "markdown",
      "source": [
        "### **Exercise 2: Product of Random Numbers**"
      ],
      "metadata": {
        "id": "-SLxo_XrSYjE"
      }
    },
    {
      "cell_type": "markdown",
      "source": [
        "Develop a Python program that generates two random numbers and asks the user to enter the product of these numbers. The program should then check if the user's answer is correct and display an appropriate message."
      ],
      "metadata": {
        "id": "t-vVJDIiS3e1"
      }
    },
    {
      "cell_type": "code",
      "source": [
        "import random\n",
        "\n",
        "def generate_numbers():\n",
        "    num1 = random.randint(1, 10)\n",
        "    num2 = random.randint(1, 10)\n",
        "    return num1, num2\n",
        "\n",
        "def main():\n",
        "    num1, num2 = generate_numbers()\n",
        "    product = num1 * num2\n",
        "\n",
        "    print(\"Multiply these two numbers:\")\n",
        "    print(num1)\n",
        "    print(\"x\")\n",
        "    print(num2)\n",
        "    user_answer = int(input(\"Enter the product of these numbers: \"))\n",
        "\n",
        "    if user_answer == product:\n",
        "        print(\"Correct! Well done.\")\n",
        "    else:\n",
        "        print(f\"Wrong answer. The correct product is {product}.\")\n",
        "\n",
        "if __name__ == \"__main__\":\n",
        "    main()"
      ],
      "metadata": {
        "colab": {
          "base_uri": "https://localhost:8080/"
        },
        "id": "Amy8nmEDSlBK",
        "outputId": "61ee17c4-a3a0-4093-c25b-7078f7bb6f59"
      },
      "execution_count": 6,
      "outputs": [
        {
          "output_type": "stream",
          "name": "stdout",
          "text": [
            "Multiply these two numbers:\n",
            "1\n",
            "x\n",
            "5\n",
            "Enter the product of these numbers: 5\n",
            "Correct! Well done.\n"
          ]
        }
      ]
    },
    {
      "cell_type": "markdown",
      "source": [
        "### **Exercise 3: Squares of Even/Odd Numbers**"
      ],
      "metadata": {
        "id": "pO3DwtNeTS7H"
      }
    },
    {
      "cell_type": "markdown",
      "source": [
        "Create a Python script that prints the squares of all even or odd numbers within the range of 100 to 200. Choose either even or odd numbers and document your choice in the code."
      ],
      "metadata": {
        "id": "rj9EGj-jTgYE"
      }
    },
    {
      "cell_type": "code",
      "source": [
        "def print_even_squares():\n",
        "    print(\"Squares of even numbers within the range of 100 to 200:\")\n",
        "    for num in range(100, 201):\n",
        "        if num % 2 == 0:  # Choosing even numbers\n",
        "            print(num ** 2)\n",
        "\n",
        "print_even_squares()"
      ],
      "metadata": {
        "colab": {
          "base_uri": "https://localhost:8080/"
        },
        "id": "thYoayLmTmCk",
        "outputId": "89090969-a406-43f0-81f3-1775630438f0"
      },
      "execution_count": 7,
      "outputs": [
        {
          "output_type": "stream",
          "name": "stdout",
          "text": [
            "Squares of even numbers within the range of 100 to 200:\n",
            "10000\n",
            "10404\n",
            "10816\n",
            "11236\n",
            "11664\n",
            "12100\n",
            "12544\n",
            "12996\n",
            "13456\n",
            "13924\n",
            "14400\n",
            "14884\n",
            "15376\n",
            "15876\n",
            "16384\n",
            "16900\n",
            "17424\n",
            "17956\n",
            "18496\n",
            "19044\n",
            "19600\n",
            "20164\n",
            "20736\n",
            "21316\n",
            "21904\n",
            "22500\n",
            "23104\n",
            "23716\n",
            "24336\n",
            "24964\n",
            "25600\n",
            "26244\n",
            "26896\n",
            "27556\n",
            "28224\n",
            "28900\n",
            "29584\n",
            "30276\n",
            "30976\n",
            "31684\n",
            "32400\n",
            "33124\n",
            "33856\n",
            "34596\n",
            "35344\n",
            "36100\n",
            "36864\n",
            "37636\n",
            "38416\n",
            "39204\n",
            "40000\n"
          ]
        }
      ]
    },
    {
      "cell_type": "markdown",
      "source": [
        "### **Exercise 4: Word counter**"
      ],
      "metadata": {
        "id": "9k9pHKm7Twj8"
      }
    },
    {
      "cell_type": "markdown",
      "source": [
        "Write a Program to count the number of words in a given text.\n"
      ],
      "metadata": {
        "id": "NZpbDPgIT2Ak"
      }
    },
    {
      "cell_type": "code",
      "source": [
        "def count_words(text):\n",
        "    word_count = {}\n",
        "    words = text.split()\n",
        "    for word in words:\n",
        "        word = word.strip('.,?!')  # Remove punctuation marks\n",
        "        if word in word_count:\n",
        "            word_count[word] += 1\n",
        "        else:\n",
        "            word_count[word] = 1\n",
        "    return word_count\n",
        "\n",
        "input_text = \"This is a sample text. This text will be used to demonstrate the word counter.\"\n",
        "word_counts = count_words(input_text)\n",
        "\n",
        "print(\"Word counts:\")\n",
        "for word, count in word_counts.items():\n",
        "    print(f\"'{word}': {count}\")\n"
      ],
      "metadata": {
        "colab": {
          "base_uri": "https://localhost:8080/"
        },
        "id": "KHW8CPojT-V8",
        "outputId": "4f2baf3e-8cf9-4b43-9f60-18bc8e422be7"
      },
      "execution_count": 8,
      "outputs": [
        {
          "output_type": "stream",
          "name": "stdout",
          "text": [
            "Word counts:\n",
            "'This': 2\n",
            "'is': 1\n",
            "'a': 1\n",
            "'sample': 1\n",
            "'text': 2\n",
            "'will': 1\n",
            "'be': 1\n",
            "'used': 1\n",
            "'to': 1\n",
            "'demonstrate': 1\n",
            "'the': 1\n",
            "'word': 1\n",
            "'counter': 1\n"
          ]
        }
      ]
    },
    {
      "cell_type": "markdown",
      "source": [
        "### **Exercise 5: Check for Palindrome**"
      ],
      "metadata": {
        "id": "jml8sk7_VcSd"
      }
    },
    {
      "cell_type": "markdown",
      "source": [
        "Write a Python function called is_palindrome that takes a string as input and returns True if the string is a palindrome, and False otherwise. A palindrome is a word, phrase, number, or other sequence of characters that reads the same forward and backward, ignoring spaces, punctuation, and capitalization.\n",
        "\n",
        "Example:\n",
        "Input: \"racecar\"\n",
        "Expected Output: True\n"
      ],
      "metadata": {
        "id": "F5N-L48zVjy7"
      }
    },
    {
      "cell_type": "code",
      "source": [
        "def is_palindrome(s):\n",
        "    # Remove spaces and punctuation and convert to lowercase\n",
        "    s = ''.join(char.lower() for char in s if char.isalnum())\n",
        "    # Check if the reversed string is equal to the original string\n",
        "    return s == s[::-1]\n",
        "\n",
        "\n"
      ],
      "metadata": {
        "id": "RHdMLucBVtdq"
      },
      "execution_count": 10,
      "outputs": []
    },
    {
      "cell_type": "markdown",
      "source": [
        "Test the function"
      ],
      "metadata": {
        "id": "lAkADYWxVz6A"
      }
    },
    {
      "cell_type": "code",
      "source": [
        "input_str = \"racecar\"\n",
        "print(is_palindrome(input_str))  # Output: True"
      ],
      "metadata": {
        "colab": {
          "base_uri": "https://localhost:8080/"
        },
        "id": "y0uy9I0HV1lE",
        "outputId": "cb62a59d-5e75-41e9-f2a6-5ee94b503986"
      },
      "execution_count": 15,
      "outputs": [
        {
          "output_type": "stream",
          "name": "stdout",
          "text": [
            "True\n"
          ]
        }
      ]
    }
  ]
}