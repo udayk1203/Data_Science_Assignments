{
  "nbformat": 4,
  "nbformat_minor": 0,
  "metadata": {
    "colab": {
      "provenance": []
    },
    "kernelspec": {
      "name": "python3",
      "display_name": "Python 3"
    },
    "language_info": {
      "name": "python"
    }
  },
  "cells": [
    {
      "cell_type": "markdown",
      "source": [
        "# **Recommendation System**"
      ],
      "metadata": {
        "id": "y1NPkvnFvuKC"
      }
    },
    {
      "cell_type": "markdown",
      "source": [
        "## **Data Description:**\n",
        "* ### Unique ID of each anime.\n",
        "\n",
        "* ### Anime title.\n",
        "\n",
        "* ### Anime broadcast type, such as TV, OVA, etc.\n",
        "\n",
        "* ### anime genre.\n",
        "\n",
        "* ### The number of episodes of each anime.\n",
        "\n",
        "* ### The average rating for each anime compared to the number of users who gave ratings.\n",
        "* ### Number of community members for each anime."
      ],
      "metadata": {
        "id": "Y-JuvXv9v8lB"
      }
    },
    {
      "cell_type": "markdown",
      "source": [
        "## **Objective:**\n",
        "\n",
        "* ### The objective of this assignment is to implement a recommendation system using cosine similarity on an anime dataset."
      ],
      "metadata": {
        "id": "1UCrOpZMxCeb"
      }
    },
    {
      "cell_type": "markdown",
      "source": [
        "## **Dataset:**\n",
        "* ### Use the Anime Dataset which contains information about various anime, including their titles, genres,No.of episodes and user ratings etc."
      ],
      "metadata": {
        "id": "XlNyjsS1xMbY"
      }
    },
    {
      "cell_type": "code",
      "source": [
        "import pandas as pd\n",
        "import numpy as np\n",
        "from sklearn.metrics.pairwise import cosine_similarity\n",
        "from sklearn.model_selection import train_test_split\n",
        "from sklearn.preprocessing import MultiLabelBinarizer, StandardScaler\n",
        "from sklearn.metrics import precision_score, recall_score, f1_score"
      ],
      "metadata": {
        "id": "r-SgWsi8xRG5"
      },
      "execution_count": null,
      "outputs": []
    },
    {
      "cell_type": "markdown",
      "source": [
        "## **Tasks:**"
      ],
      "metadata": {
        "id": "oOU03GxgyFKi"
      }
    },
    {
      "cell_type": "markdown",
      "source": [
        "## **Data Preprocessing:**"
      ],
      "metadata": {
        "id": "2r1nfz7fyG3a"
      }
    },
    {
      "cell_type": "markdown",
      "source": [
        "## Load the dataset into a suitable data structure (e.g., pandas DataFrame)."
      ],
      "metadata": {
        "id": "BA4bfsgHyKHr"
      }
    },
    {
      "cell_type": "code",
      "source": [
        "# Load the dataset\n",
        "df = pd.read_csv('/content/anime.csv')"
      ],
      "metadata": {
        "id": "kCeF2JXLxhX5"
      },
      "execution_count": null,
      "outputs": []
    },
    {
      "cell_type": "code",
      "source": [
        "# Display the first few rows of the dataset\n",
        "print(df.head())"
      ],
      "metadata": {
        "collapsed": true,
        "colab": {
          "base_uri": "https://localhost:8080/"
        },
        "id": "GmwgTKBRxz3T",
        "outputId": "47474f5f-c2b4-4a3a-bcc7-e1ed307112d1"
      },
      "execution_count": null,
      "outputs": [
        {
          "output_type": "stream",
          "name": "stdout",
          "text": [
            "   anime_id                              name  \\\n",
            "0     32281                    Kimi no Na wa.   \n",
            "1      5114  Fullmetal Alchemist: Brotherhood   \n",
            "2     28977                          Gintama°   \n",
            "3      9253                       Steins;Gate   \n",
            "4      9969                     Gintama&#039;   \n",
            "\n",
            "                                               genre   type episodes  rating  \\\n",
            "0               Drama, Romance, School, Supernatural  Movie        1    9.37   \n",
            "1  Action, Adventure, Drama, Fantasy, Magic, Mili...     TV       64    9.26   \n",
            "2  Action, Comedy, Historical, Parody, Samurai, S...     TV       51    9.25   \n",
            "3                                   Sci-Fi, Thriller     TV       24    9.17   \n",
            "4  Action, Comedy, Historical, Parody, Samurai, S...     TV       51    9.16   \n",
            "\n",
            "   members  \n",
            "0   200630  \n",
            "1   793665  \n",
            "2   114262  \n",
            "3   673572  \n",
            "4   151266  \n"
          ]
        }
      ]
    },
    {
      "cell_type": "markdown",
      "source": [
        "## Handle missing values, if any."
      ],
      "metadata": {
        "id": "n9J93YzVyOKy"
      }
    },
    {
      "cell_type": "code",
      "source": [
        "# Handle missing values\n",
        "df.fillna({'rating': df['rating'].mean(), 'genre': ''}, inplace=True)"
      ],
      "metadata": {
        "id": "txcoxU8rx2ca"
      },
      "execution_count": null,
      "outputs": []
    },
    {
      "cell_type": "markdown",
      "source": [
        "## Explore the dataset to understand its structure and attributes."
      ],
      "metadata": {
        "id": "vACQPgs2ySm5"
      }
    },
    {
      "cell_type": "code",
      "source": [
        "# Explore the dataset\n",
        "print(df.info())"
      ],
      "metadata": {
        "colab": {
          "base_uri": "https://localhost:8080/"
        },
        "id": "Ms8RW9Gtx4_S",
        "outputId": "ed70dfc8-1b86-4758-b80d-fb732687a36d"
      },
      "execution_count": null,
      "outputs": [
        {
          "output_type": "stream",
          "name": "stdout",
          "text": [
            "<class 'pandas.core.frame.DataFrame'>\n",
            "RangeIndex: 12294 entries, 0 to 12293\n",
            "Data columns (total 7 columns):\n",
            " #   Column    Non-Null Count  Dtype  \n",
            "---  ------    --------------  -----  \n",
            " 0   anime_id  12294 non-null  int64  \n",
            " 1   name      12294 non-null  object \n",
            " 2   genre     12294 non-null  object \n",
            " 3   type      12269 non-null  object \n",
            " 4   episodes  12294 non-null  object \n",
            " 5   rating    12294 non-null  float64\n",
            " 6   members   12294 non-null  int64  \n",
            "dtypes: float64(1), int64(2), object(4)\n",
            "memory usage: 672.5+ KB\n",
            "None\n"
          ]
        }
      ]
    },
    {
      "cell_type": "markdown",
      "source": [
        "## **Feature Extraction:**"
      ],
      "metadata": {
        "id": "GoIYliyUyUKZ"
      }
    },
    {
      "cell_type": "markdown",
      "source": [
        "## Convert categorical features into numerical representations if necessary."
      ],
      "metadata": {
        "id": "9zPZWSqdyuiL"
      }
    },
    {
      "cell_type": "code",
      "source": [
        "# Convert genres into numerical representations\n",
        "mlb = MultiLabelBinarizer()\n",
        "df['genre'] = df['genre'].apply(lambda x: x.split(', ') if pd.notna(x) else [])\n",
        "genres = mlb.fit_transform(df['genre'])"
      ],
      "metadata": {
        "id": "6kQIaWDZyWGS"
      },
      "execution_count": null,
      "outputs": []
    },
    {
      "cell_type": "markdown",
      "source": [
        "## Decide on the features that will be used for computing similarity (e.g., genres, user ratings)."
      ],
      "metadata": {
        "id": "sSqJAdJBy0xq"
      }
    },
    {
      "cell_type": "code",
      "source": [
        "# Combine numerical features\n",
        "features = pd.concat([pd.DataFrame(genres, columns=mlb.classes_), df[['rating', 'members']]], axis=1)"
      ],
      "metadata": {
        "id": "3reEM97Myijy"
      },
      "execution_count": null,
      "outputs": []
    },
    {
      "cell_type": "markdown",
      "source": [
        "## Normalize numerical features if required."
      ],
      "metadata": {
        "id": "ypQLkIJGy6Ma"
      }
    },
    {
      "cell_type": "code",
      "source": [
        "# Normalize numerical features\n",
        "scaler = StandardScaler()\n",
        "features[['rating', 'members']] = scaler.fit_transform(features[['rating', 'members']])"
      ],
      "metadata": {
        "id": "bpTp_JhOykzp"
      },
      "execution_count": null,
      "outputs": []
    },
    {
      "cell_type": "markdown",
      "source": [
        "## **Recommendation System:**"
      ],
      "metadata": {
        "id": "01NTnnBPy-u5"
      }
    },
    {
      "cell_type": "markdown",
      "source": [
        "## Design a function to recommend anime based on cosine similarity."
      ],
      "metadata": {
        "id": "ENaQYXRWzL0x"
      }
    },
    {
      "cell_type": "code",
      "source": [
        "# Compute cosine similarity\n",
        "cosine_sim = cosine_similarity(features)"
      ],
      "metadata": {
        "id": "RflySB9mzIIm"
      },
      "execution_count": null,
      "outputs": []
    },
    {
      "cell_type": "markdown",
      "source": [
        "## Given a target anime, recommend a list of similar anime based on cosine similarity scores."
      ],
      "metadata": {
        "id": "fmVkDV-vzP16"
      }
    },
    {
      "cell_type": "code",
      "source": [
        "# Function to recommend anime with similarity threshold\n",
        "def recommend_anime(anime_title, cosine_sim=cosine_sim, df=df, top_n=10, threshold=0.5):\n",
        "    idx = df[df['name'] == anime_title].index[0]\n",
        "    sim_scores = list(enumerate(cosine_sim[idx]))\n",
        "    sim_scores = sorted(sim_scores, key=lambda x: x[1], reverse=True)\n",
        "    sim_scores = [score for score in sim_scores if score[1] > threshold]\n",
        "    sim_scores = sim_scores[1:top_n+1]\n",
        "    anime_indices = [i[0] for i in sim_scores]\n",
        "    return df['name'].iloc[anime_indices]"
      ],
      "metadata": {
        "id": "rKClTxuBzQyB"
      },
      "execution_count": null,
      "outputs": []
    },
    {
      "cell_type": "markdown",
      "source": [
        "## Experiment with different threshold values for similarity scores to adjust the recommendation list size."
      ],
      "metadata": {
        "id": "V_LpXQBl0jHB"
      }
    },
    {
      "cell_type": "code",
      "source": [
        "# Example recommendation with different thresholds\n",
        "print(\"Recommendations for 'Naruto' with threshold 0.3:\")\n",
        "print(recommend_anime('Naruto', threshold=0.3))\n",
        "\n",
        "print(\"Recommendations for 'Naruto' with threshold 0.5:\")\n",
        "print(recommend_anime('Naruto', threshold=0.5))\n",
        "\n",
        "print(\"Recommendations for 'Naruto' with threshold 0.7:\")\n",
        "print(recommend_anime('Naruto', threshold=0.7))"
      ],
      "metadata": {
        "colab": {
          "base_uri": "https://localhost:8080/"
        },
        "collapsed": true,
        "id": "VW92koy20SIj",
        "outputId": "57acd93e-e1eb-417a-ac92-b486a38194b4"
      },
      "execution_count": null,
      "outputs": [
        {
          "output_type": "stream",
          "name": "stdout",
          "text": [
            "Recommendations for 'Naruto' with threshold 0.3:\n",
            "615    Naruto: Shippuuden\n",
            "582                Bleach\n",
            "86     Shingeki no Kyojin\n",
            "281          Kill la Kill\n",
            "159          Angel Beats!\n",
            "440            Soul Eater\n",
            "804      Sword Art Online\n",
            "288            Fairy Tail\n",
            "643        Ao no Exorcist\n",
            "40             Death Note\n",
            "Name: name, dtype: object\n",
            "Recommendations for 'Naruto' with threshold 0.5:\n",
            "615    Naruto: Shippuuden\n",
            "582                Bleach\n",
            "86     Shingeki no Kyojin\n",
            "281          Kill la Kill\n",
            "159          Angel Beats!\n",
            "440            Soul Eater\n",
            "804      Sword Art Online\n",
            "288            Fairy Tail\n",
            "643        Ao no Exorcist\n",
            "40             Death Note\n",
            "Name: name, dtype: object\n",
            "Recommendations for 'Naruto' with threshold 0.7:\n",
            "615    Naruto: Shippuuden\n",
            "582                Bleach\n",
            "86     Shingeki no Kyojin\n",
            "281          Kill la Kill\n",
            "159          Angel Beats!\n",
            "440            Soul Eater\n",
            "804      Sword Art Online\n",
            "288            Fairy Tail\n",
            "643        Ao no Exorcist\n",
            "40             Death Note\n",
            "Name: name, dtype: object\n"
          ]
        }
      ]
    },
    {
      "cell_type": "markdown",
      "source": [
        "## **Evaluation:**"
      ],
      "metadata": {
        "id": "Svl_T6Uy0mta"
      }
    },
    {
      "cell_type": "markdown",
      "source": [
        "## Split the dataset into training and testing sets."
      ],
      "metadata": {
        "id": "UvFNPqlC0q4h"
      }
    },
    {
      "cell_type": "code",
      "source": [
        "# Split the dataset into training and testing sets\n",
        "train, test = train_test_split(df, test_size=0.2, random_state=42)"
      ],
      "metadata": {
        "id": "gUuH11HD0u4y"
      },
      "execution_count": null,
      "outputs": []
    },
    {
      "cell_type": "markdown",
      "source": [
        "## Evaluate the recommendation system using appropriate metrics such as precision, recall, and F1-score."
      ],
      "metadata": {
        "id": "aAPf5c-Q06yy"
      }
    },
    {
      "cell_type": "code",
      "source": [
        "# Evaluate the recommendation system\n",
        "def evaluate_recommendation_system(train, test, cosine_sim, df, top_n=10, threshold=0.5):\n",
        "    y_true = []\n",
        "    y_pred = []\n",
        "    for idx, row in test.iterrows():\n",
        "        recommended_anime = recommend_anime(row['name'], cosine_sim, df, top_n, threshold)\n",
        "        for anime in recommended_anime:\n",
        "            y_true.append(row['name'])\n",
        "            y_pred.append(anime)\n",
        "    precision = precision_score(y_true, y_pred, average='micro')\n",
        "    recall = recall_score(y_true, y_pred, average='micro')\n",
        "    f1 = f1_score(y_true, y_pred, average='micro')\n",
        "    return precision, recall, f1"
      ],
      "metadata": {
        "id": "O-Ph6nVk07xi"
      },
      "execution_count": null,
      "outputs": []
    },
    {
      "cell_type": "code",
      "source": [
        "# Evaluate with different thresholds\n",
        "precision, recall, f1 = evaluate_recommendation_system(train, test, cosine_sim, df, threshold=0.3)\n",
        "print(f'Precision with threshold 0.3: {precision}, Recall: {recall}, F1-Score: {f1}')\n",
        "\n",
        "precision, recall, f1 = evaluate_recommendation_system(train, test, cosine_sim, df, threshold=0.5)\n",
        "print(f'Precision with threshold 0.5: {precision}, Recall: {recall}, F1-Score: {f1}')\n",
        "\n",
        "precision, recall, f1 = evaluate_recommendation_system(train, test, cosine_sim, df, threshold=0.7)\n",
        "print(f'Precision with threshold 0.7: {precision}, Recall: {recall}, F1-Score: {f1}')\n"
      ],
      "metadata": {
        "colab": {
          "base_uri": "https://localhost:8080/"
        },
        "id": "Of_zUeDk1U-D",
        "outputId": "5d21ea8d-8eb9-4bca-af06-bad8823d77bc"
      },
      "execution_count": null,
      "outputs": [
        {
          "output_type": "stream",
          "name": "stdout",
          "text": [
            "Precision with threshold 0.3: 0.0001220008133387556, Recall: 0.0001220008133387556, F1-Score: 0.0001220008133387556\n",
            "Precision with threshold 0.5: 0.0001220008133387556, Recall: 0.0001220008133387556, F1-Score: 0.0001220008133387556\n",
            "Precision with threshold 0.7: 0.00012339077859581293, Recall: 0.00012339077859581293, F1-Score: 0.00012339077859581293\n"
          ]
        }
      ]
    },
    {
      "cell_type": "markdown",
      "source": [
        "## Analyze the performance of the recommendation system and identify areas of improvement."
      ],
      "metadata": {
        "id": "5fLQRSxw1R7C"
      }
    },
    {
      "cell_type": "markdown",
      "source": [
        "## **Analysis of Performance**\n",
        "\n",
        "### 1. Threshold 0.3:\n",
        "\n",
        "**Precision: Precision is likely to be lower because the threshold is lenient, allowing more recommendations, including less relevant ones.**\n",
        "\n",
        "**Recall: Recall might be higher since more recommendations are considered, increasing the chance of hitting relevant ones.**\n",
        "\n",
        "**F1-Score: Balances precision and recall. A low precision might drag the F1-score down.**\n",
        "\n",
        "### 2. Threshold 0.5:\n",
        "\n",
        "**Precision: Expected to be better than at 0.3 as the threshold filters out less similar anime.**\n",
        "\n",
        "**Recall: Might decrease slightly as fewer recommendations are made.\n",
        "F1-Score: Should improve if precision improves more than recall decreases.**\n",
        "\n",
        "### 3. Threshold 0.7:\n",
        "\n",
        "**Precision: Should be highest among the three since only highly similar anime are recommended.**\n",
        "\n",
        "**Recall: Expected to be the lowest since fewer recommendations are made.**\n",
        "\n",
        "**F1-Score: Can be high if the system finds a balance, but might drop if recall falls significantly.**"
      ],
      "metadata": {
        "id": "dJzdKvj02t2g"
      }
    },
    {
      "cell_type": "markdown",
      "source": [
        "## **Areas of Improvement**\n",
        "\n",
        "### 1. Data Quality:\n",
        "\n",
        "**Missing Data: Ensure all relevant data is filled accurately. Currently, missing ratings are filled with the mean, which might not be the best strategy.**\n",
        "\n",
        "**Detailed Genres: Split multi-genre entries for better feature extraction.**\n",
        "\n",
        "### 2. Feature Selection:\n",
        "\n",
        "**Additional Features: Include more features like anime broadcast type and number of episodes.**\n",
        "\n",
        "**User Preferences: Incorporate user-specific features if available (e.g., user ratings for specific anime).**\n",
        "\n",
        "### 3. Algorithm:\n",
        "\n",
        "**Hybrid Approach: Combine content-based filtering (like cosine similarity) with collaborative filtering for better recommendations.**\n",
        "\n",
        "**Advanced Models: Use more sophisticated models like matrix factorization or neural networks.**\n",
        "\n",
        "### 4. Evaluation Metrics:\n",
        "\n",
        "**Diversity and Novelty: Ensure the recommendations are not only accurate but also diverse and novel.**\n",
        "\n",
        "**User Feedback: Incorporate real user feedback for continuous improvement.**\n",
        "\n",
        "### 5. Threshold Tuning:\n",
        "\n",
        "**Dynamic Thresholds: Adjust thresholds dynamically based on user profiles or real-time feedback.**\n",
        "\n",
        "**Personalized Thresholds: Customize thresholds for different user segments.**"
      ],
      "metadata": {
        "id": "jn4_WfSj3teb"
      }
    }
  ]
}