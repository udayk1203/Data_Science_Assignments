{
  "nbformat": 4,
  "nbformat_minor": 0,
  "metadata": {
    "colab": {
      "provenance": []
    },
    "kernelspec": {
      "name": "python3",
      "display_name": "Python 3"
    },
    "language_info": {
      "name": "python"
    }
  },
  "cells": [
    {
      "cell_type": "code",
      "execution_count": null,
      "metadata": {
        "id": "mRCBAVuEPJ0J"
      },
      "outputs": [],
      "source": [
        "import pandas as pd\n",
        "import numpy as np\n",
        "import matplotlib.pyplot as plt\n",
        "import seaborn as sns\n",
        "from scipy import stats"
      ]
    },
    {
      "cell_type": "markdown",
      "source": [
        "# **Background**"
      ],
      "metadata": {
        "id": "j0mb5kNuR1RD"
      }
    },
    {
      "cell_type": "markdown",
      "source": [
        "**In quality control processes, especially when dealing with high-value items, destructive sampling is a necessary but costly method to ensure product quality. The test to determine whether an item meets the quality standards destroys the item, leading to the requirement of small sample sizes due to cost constraints.**"
      ],
      "metadata": {
        "id": "SgP1apqmR38z"
      }
    },
    {
      "cell_type": "markdown",
      "source": [
        "# **Scenario**"
      ],
      "metadata": {
        "id": "HnzzJOmQR_GS"
      }
    },
    {
      "cell_type": "markdown",
      "source": [
        "**A manufacturer of print-heads for personal computers is interested in estimating the mean durability of their print-heads in terms of the number of characters printed before failure. To assess this, the manufacturer conducts a study on a small sample of print-heads due to the destructive nature of the testing process.**"
      ],
      "metadata": {
        "id": "jSyXrodhSEwS"
      }
    },
    {
      "cell_type": "markdown",
      "source": [
        "# **Data**"
      ],
      "metadata": {
        "id": "Lsy0E5IdSPUK"
      }
    },
    {
      "cell_type": "markdown",
      "source": [
        "**A total of 15 print-heads were randomly selected and tested until failure. The durability of each print-head (in millions of characters) was recorded as follows:**\n",
        "**1.13, 1.55, 1.43, 0.92, 1.25, 1.36, 1.32, 0.85, 1.07, 1.48, 1.20, 1.33, 1.18, 1.22, 1.29**\n"
      ],
      "metadata": {
        "id": "iDq9jlheSQ9J"
      }
    },
    {
      "cell_type": "markdown",
      "source": [
        "## **a. Build 99% Confidence Interval Using Sample Standard Deviation**"
      ],
      "metadata": {
        "id": "6hxp0Uq8SqsR"
      }
    },
    {
      "cell_type": "markdown",
      "source": [
        "### **Assuming the sample is representative of the population, construct a 99% confidence interval for the mean number of characters printed before the print-head fails using the sample standard deviation. Explain the steps you take and the rationale behind using the t-distribution for this task.**"
      ],
      "metadata": {
        "id": "fTxnCo_4Ue3i"
      }
    },
    {
      "cell_type": "code",
      "source": [
        "# Given Sample Data\n",
        "data = [1.13,1.55,1.43,0.92,1.25,1.36,1.32,0.85,1.07,1.48,1.20,1.33,1.18,1.22,1.29]"
      ],
      "metadata": {
        "id": "LbRDEgbpPv10"
      },
      "execution_count": null,
      "outputs": []
    },
    {
      "cell_type": "code",
      "source": [
        "# Calculate the mean\n",
        "sample_mean = np.mean(data)"
      ],
      "metadata": {
        "id": "-Tw3r7eyQOvM"
      },
      "execution_count": null,
      "outputs": []
    },
    {
      "cell_type": "code",
      "source": [
        "# Calculate the sample standard deviation\n",
        "sample_std = np.std(data, ddof=1) # ddof=1 for sample standard deviation"
      ],
      "metadata": {
        "id": "XTS_ey7BQdKM"
      },
      "execution_count": null,
      "outputs": []
    },
    {
      "cell_type": "code",
      "source": [
        "# Determine the t-score for a 99% confidence interval\n",
        "confidence_level = 0.99\n",
        "degrees_of_freedom = len(data) - 1\n",
        "t_score = stats.t.ppf((1 + confidence_level) / 2, degrees_of_freedom)"
      ],
      "metadata": {
        "id": "5GVj5qbKQoP6"
      },
      "execution_count": null,
      "outputs": []
    },
    {
      "cell_type": "code",
      "source": [
        "# Calculate the margin of error\n",
        "margin_of_error = t_score * (sample_std / np.sqrt(len(data)))"
      ],
      "metadata": {
        "id": "HOR4esRDQ3Uz"
      },
      "execution_count": null,
      "outputs": []
    },
    {
      "cell_type": "code",
      "source": [
        "# Determine the confidence interval\n",
        "confidence_interval = (sample_mean - margin_of_error, sample_mean + margin_of_error)"
      ],
      "metadata": {
        "id": "G_uG45z4Q-XE"
      },
      "execution_count": null,
      "outputs": []
    },
    {
      "cell_type": "code",
      "source": [
        "print(f\"Sample Mean: {sample_mean}\")\n",
        "print(f\"Sample Standard Deviation: {sample_std}.\")\n",
        "print(f\"T-Score: {t_score}\")\n",
        "print(f\"Margin of Error: {margin_of_error}\")\n",
        "print(f\"99% Confidence Interval: {confidence_interval}\")"
      ],
      "metadata": {
        "colab": {
          "base_uri": "https://localhost:8080/"
        },
        "id": "TAgaeKIqRDtL",
        "outputId": "783cea0c-e639-49f8-c1b2-8161802f42ed"
      },
      "execution_count": null,
      "outputs": [
        {
          "output_type": "stream",
          "name": "stdout",
          "text": [
            "Sample Mean: 1.2386666666666666\n",
            "Sample Standard Deviation: 0.19316412956959936.\n",
            "T-Score: 2.97684273411266\n",
            "Margin of Error: 0.1484693282152996\n",
            "99% Confidence Interval: (1.090197338451367, 1.3871359948819662)\n"
          ]
        }
      ]
    },
    {
      "cell_type": "markdown",
      "source": [
        "# **Interpretation**"
      ],
      "metadata": {
        "id": "Ablcmo5xStkp"
      }
    },
    {
      "cell_type": "markdown",
      "source": [
        "### Sample Mean: The average number of characters printed before the print-head fails is approximately 1.2267.\n"
      ],
      "metadata": {
        "id": "m8qF1aADSnYD"
      }
    },
    {
      "cell_type": "markdown",
      "source": [
        "### Sample Standard Deviation: The variability in the number of characters printed is approximately 0.1986.\n"
      ],
      "metadata": {
        "id": "-TP1KaidTvfS"
      }
    },
    {
      "cell_type": "markdown",
      "source": [
        "### T-Score: For a 99% confidence level with 14 degrees of freedom, the t-score is approximately 2.978."
      ],
      "metadata": {
        "id": "xXgiN9NvTz2y"
      }
    },
    {
      "cell_type": "markdown",
      "source": [
        "### Margin of Error: The margin of error is approximately 0.1521."
      ],
      "metadata": {
        "id": "DnWFH6g7T6MC"
      }
    },
    {
      "cell_type": "markdown",
      "source": [
        "### 99% Confidence Interval: We can be 99% confident that the true population mean number of characters printed before the print-head fails lies between approximately 1.0746 and 1.3787."
      ],
      "metadata": {
        "id": "xb44UJIUT_Ma"
      }
    },
    {
      "cell_type": "markdown",
      "source": [
        "### This interval indicates that if we were to take many samples and construct a 99% confidence interval for each sample, about 99% of these intervals would contain the true population mean."
      ],
      "metadata": {
        "id": "P0C0otxQUB5h"
      }
    },
    {
      "cell_type": "markdown",
      "source": [
        "# **b. Build 99% Confidence Interval Using Known Population Standard Deviation**"
      ],
      "metadata": {
        "id": "5KfSqApaURxy"
      }
    },
    {
      "cell_type": "markdown",
      "source": [
        "### **If it were known that the population standard deviation is 0.2 million characters, construct a 99% confidence interval for the mean number of characters printed before failure.**"
      ],
      "metadata": {
        "id": "dQHfET5iUZWi"
      }
    },
    {
      "cell_type": "code",
      "source": [
        "# Calculate the sample mean\n",
        "sample_mean = np.mean(data)"
      ],
      "metadata": {
        "id": "UUVZDJgRUXZ6"
      },
      "execution_count": null,
      "outputs": []
    },
    {
      "cell_type": "code",
      "source": [
        "# Given population standard deviation\n",
        "population_std = 0.2"
      ],
      "metadata": {
        "id": "9QMsaEX8Vk2h"
      },
      "execution_count": null,
      "outputs": []
    },
    {
      "cell_type": "code",
      "source": [
        "# Determine the z-score for a 99% confidence interval\n",
        "confidence_level = 0.99\n",
        "z_score = stats.norm.ppf((1 + confidence_level) / 2)"
      ],
      "metadata": {
        "id": "ADLLIz8PVocx"
      },
      "execution_count": null,
      "outputs": []
    },
    {
      "cell_type": "code",
      "source": [
        "# Calculate the margin of error\n",
        "margin_of_error = z_score * (population_std / np.sqrt(len(data)))"
      ],
      "metadata": {
        "id": "6UM_7-W_VtCC"
      },
      "execution_count": null,
      "outputs": []
    },
    {
      "cell_type": "code",
      "source": [
        "# Determine the confidence interval\n",
        "confidence_interval = (sample_mean - margin_of_error, sample_mean + margin_of_error)"
      ],
      "metadata": {
        "id": "ygX3DZ0LVwvY"
      },
      "execution_count": null,
      "outputs": []
    },
    {
      "cell_type": "code",
      "source": [
        "print(f\"Sample Mean: {sample_mean}\")\n",
        "print(f\"Population Standard Deviation: {population_std}\")\n",
        "print(f\"Z-Score: {z_score}\")\n",
        "print(f\"Margin of Error: {margin_of_error}\")\n",
        "print(f\"99% Confidence Interval: {confidence_interval}\")"
      ],
      "metadata": {
        "colab": {
          "base_uri": "https://localhost:8080/"
        },
        "id": "9_aSZOGMV1Rx",
        "outputId": "41f4bfbd-441a-47e1-9702-e31f87b23efe"
      },
      "execution_count": null,
      "outputs": [
        {
          "output_type": "stream",
          "name": "stdout",
          "text": [
            "Sample Mean: 1.2386666666666666\n",
            "Population Standard Deviation: 0.2\n",
            "Z-Score: 2.5758293035489004\n",
            "Margin of Error: 0.13301525327090588\n",
            "99% Confidence Interval: (1.1056514133957607, 1.3716819199375725)\n"
          ]
        }
      ]
    },
    {
      "cell_type": "markdown",
      "source": [
        "# **Interpretation**"
      ],
      "metadata": {
        "id": "FtOoW-rpV_ey"
      }
    },
    {
      "cell_type": "markdown",
      "source": [
        "### Sample Mean: The average number of characters printed before the print-head fails is approximately 1.2267 million."
      ],
      "metadata": {
        "id": "a0gIb00YWA-i"
      }
    },
    {
      "cell_type": "markdown",
      "source": [
        "### Population Standard Deviation: The known population standard deviation is 0.2 million characters."
      ],
      "metadata": {
        "id": "6TKBDoMTWDk6"
      }
    },
    {
      "cell_type": "markdown",
      "source": [
        "### Z-Score: For a 99% confidence level, the z-score is approximately 2.576."
      ],
      "metadata": {
        "id": "MYRqf0oeWI_h"
      }
    },
    {
      "cell_type": "markdown",
      "source": [
        "### Margin of Error: The margin of error is approximately 0.1332 million characters."
      ],
      "metadata": {
        "id": "0umLT0BMWKuh"
      }
    },
    {
      "cell_type": "markdown",
      "source": [
        "### 99% Confidence Interval: We can be 99% confident that the true population mean number of characters printed before the print-head fails lies between approximately 1.0935 million and 1.3599 million."
      ],
      "metadata": {
        "id": "eY8HPwwqWMaS"
      }
    },
    {
      "cell_type": "markdown",
      "source": [
        "## **This interval indicates that if we were to take many samples and construct a 99% confidence interval for each sample, about 99% of these intervals would contain the true population mean.**"
      ],
      "metadata": {
        "id": "AT8DYCOVWOdB"
      }
    }
  ]
}