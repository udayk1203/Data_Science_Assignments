{
  "nbformat": 4,
  "nbformat_minor": 0,
  "metadata": {
    "colab": {
      "provenance": []
    },
    "kernelspec": {
      "name": "python3",
      "display_name": "Python 3"
    },
    "language_info": {
      "name": "python"
    }
  },
  "cells": [
    {
      "cell_type": "code",
      "execution_count": 1,
      "metadata": {
        "id": "mkCRqEDWp228"
      },
      "outputs": [],
      "source": [
        "import numpy as np\n",
        "import scipy.stats as stats"
      ]
    },
    {
      "cell_type": "markdown",
      "source": [
        "# **HYPOTHESIS TESTING**"
      ],
      "metadata": {
        "id": "YZ22R33Pf3Hp"
      }
    },
    {
      "cell_type": "markdown",
      "source": [
        "**Background:**\n",
        "\n",
        "Bombay hospitality Ltd. operates a franchise model for producing exotic Norwegian dinners throughout New England. The operating cost for a franchise in a week (W) is given by the equation W = $1,000 + $5X, where X represents the number of units produced in a week. Recent feedback from restaurant owners suggests that this cost model may no longer be accurate, as their observed weekly operating costs are higher.\n"
      ],
      "metadata": {
        "id": "tqo-a7Izf-QZ"
      }
    },
    {
      "cell_type": "markdown",
      "source": [
        "**Objective:**\n",
        "\n",
        "To investigate the restaurant owners' claim about the increase in weekly operating costs using hypothesis testing.\n"
      ],
      "metadata": {
        "id": "Lp3dms0YgD_C"
      }
    },
    {
      "cell_type": "markdown",
      "source": [
        "**Data Provided:**\n",
        "\n",
        "•\tThe theoretical weekly operating cost model: W = $1,000 + $5X\n",
        "\n",
        "•\tSample of 25 restaurants with a mean weekly cost of Rs. 3,050\n",
        "\n",
        "•\tNumber of units produced in a week (X) follows a normal distribution with a mean (μ) of 600 units and a standard deviation (σ) of 25 units\n"
      ],
      "metadata": {
        "id": "OqTd-FGegIrI"
      }
    },
    {
      "cell_type": "markdown",
      "source": [
        "# **1.State the Hypotheses statement:**\n",
        "\n",
        "Null hypothesis (H0): The theoretical mean weekly operating cost model is accurate (μ = $1,000 + $5X)\n",
        "\n",
        "Alternative hypothesis (H1): The observed mean weekly operating cost is higher than the theoretical model"
      ],
      "metadata": {
        "id": "HCmYuXizgjpp"
      }
    },
    {
      "cell_type": "markdown",
      "source": [
        "Given Data"
      ],
      "metadata": {
        "id": "NRPN93-bg8iZ"
      }
    },
    {
      "cell_type": "code",
      "source": [
        "sample_mean = 3050\n",
        "theoretical_mean = 1000 + 5 * 600\n",
        "std_devia = 5 * 25\n",
        "sample_size = 25"
      ],
      "metadata": {
        "id": "hbXEJcPpf2tT"
      },
      "execution_count": 2,
      "outputs": []
    },
    {
      "cell_type": "markdown",
      "source": [
        "## **2.Calculate the Test Statistic:**"
      ],
      "metadata": {
        "id": "W8AisJpBhw4x"
      }
    },
    {
      "cell_type": "code",
      "source": [
        "test_statistic = (sample_mean - theoretical_mean) / (std_devia / np.sqrt(sample_size))"
      ],
      "metadata": {
        "id": "e8NcaDIshzJI"
      },
      "execution_count": 3,
      "outputs": []
    },
    {
      "cell_type": "code",
      "source": [
        "print(\"Test Statistic (t):\", test_statistic)"
      ],
      "metadata": {
        "colab": {
          "base_uri": "https://localhost:8080/"
        },
        "id": "2AALQSlTiD1P",
        "outputId": "1d653c24-e5b3-40ac-fa03-5196c7419d0d"
      },
      "execution_count": 4,
      "outputs": [
        {
          "output_type": "stream",
          "name": "stdout",
          "text": [
            "Test Statistic (t): -38.0\n"
          ]
        }
      ]
    },
    {
      "cell_type": "markdown",
      "source": [
        "## **3.Determine the Critical Value:**"
      ],
      "metadata": {
        "id": "aBhZEEojiIeX"
      }
    },
    {
      "cell_type": "code",
      "source": [
        "alpha = 0.05"
      ],
      "metadata": {
        "id": "tDGeeTb8iJi_"
      },
      "execution_count": 5,
      "outputs": []
    },
    {
      "cell_type": "markdown",
      "source": [
        "Since our alternative hypothesis is one-tailed (greater than), we find the critical value for a one-tailed test."
      ],
      "metadata": {
        "id": "DERIjg5CiRKp"
      }
    },
    {
      "cell_type": "code",
      "source": [
        "critical_value = stats.norm.ppf(1 - alpha)"
      ],
      "metadata": {
        "id": "xRbE1_eTiVEp"
      },
      "execution_count": 6,
      "outputs": []
    },
    {
      "cell_type": "code",
      "source": [
        "print(\"Critical Value:\", critical_value)"
      ],
      "metadata": {
        "colab": {
          "base_uri": "https://localhost:8080/"
        },
        "id": "XQuGxXVdiXSw",
        "outputId": "5b97f3f9-41d0-425f-ee3b-b666afd16dd9"
      },
      "execution_count": 7,
      "outputs": [
        {
          "output_type": "stream",
          "name": "stdout",
          "text": [
            "Critical Value: 1.6448536269514722\n"
          ]
        }
      ]
    },
    {
      "cell_type": "markdown",
      "source": [
        "## **4.Make a Decision:**"
      ],
      "metadata": {
        "id": "bTDFw6GjicbA"
      }
    },
    {
      "cell_type": "markdown",
      "source": [
        "If the absolute value of the test statistic is greater than the critical value, we reject the null hypothesis."
      ],
      "metadata": {
        "id": "o_z1KzPFinC4"
      }
    },
    {
      "cell_type": "code",
      "source": [
        "if test_statistic > critical_value:\n",
        "    print(\"Reject Null Hypothesis: There is strong evidence to support that the weekly operating costs are higher than the model suggests.\")\n",
        "else:\n",
        "    print(\"Fail to Reject Null Hypothesis: There is not enough evidence to support that the weekly operating costs are higher than the model suggests.\")"
      ],
      "metadata": {
        "colab": {
          "base_uri": "https://localhost:8080/"
        },
        "id": "l-lcsEJCikB_",
        "outputId": "b23b3cc2-b884-4cf9-dfb8-3680b328d2c1"
      },
      "execution_count": 8,
      "outputs": [
        {
          "output_type": "stream",
          "name": "stdout",
          "text": [
            "Fail to Reject Null Hypothesis: There is not enough evidence to support that the weekly operating costs are higher than the model suggests.\n"
          ]
        }
      ]
    },
    {
      "cell_type": "markdown",
      "source": [
        "## **5.Conclusion:**"
      ],
      "metadata": {
        "id": "EDrmd_ryi3wQ"
      }
    },
    {
      "cell_type": "markdown",
      "source": [
        "## There is not enough evidence to support that the weekly operating costs are higher than the model suggests."
      ],
      "metadata": {
        "id": "zeavuZY7i-c5"
      }
    }
  ]
}