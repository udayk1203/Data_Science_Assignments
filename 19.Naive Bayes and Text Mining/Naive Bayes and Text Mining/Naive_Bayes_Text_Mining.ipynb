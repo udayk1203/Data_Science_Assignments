{
  "nbformat": 4,
  "nbformat_minor": 0,
  "metadata": {
    "colab": {
      "provenance": []
    },
    "kernelspec": {
      "name": "python3",
      "display_name": "Python 3"
    },
    "language_info": {
      "name": "python"
    }
  },
  "cells": [
    {
      "cell_type": "markdown",
      "source": [
        "# **TEXT CLASSIFICATION USING NAIVE BAYES AND SENTIMENT ANALYSIS ON BLOG POSTS**"
      ],
      "metadata": {
        "id": "RSieyFFuDVii"
      }
    },
    {
      "cell_type": "code",
      "source": [
        "import pandas as pd\n",
        "import numpy as np\n",
        "import matplotlib.pyplot as plt\n",
        "import seaborn as sns\n",
        "import warnings\n",
        "warnings.filterwarnings('ignore')"
      ],
      "metadata": {
        "id": "tT0dA7JODYLp"
      },
      "execution_count": 1,
      "outputs": []
    },
    {
      "cell_type": "markdown",
      "source": [
        "### Upload the Dataset"
      ],
      "metadata": {
        "id": "MGNssovqDlOT"
      }
    },
    {
      "cell_type": "code",
      "execution_count": 2,
      "metadata": {
        "colab": {
          "base_uri": "https://localhost:8080/",
          "height": 423
        },
        "id": "bIVQV2-kCc0f",
        "outputId": "b5c3e6d7-008a-44e1-c2ff-7983923a2db6"
      },
      "outputs": [
        {
          "output_type": "execute_result",
          "data": {
            "text/plain": [
              "       Unnamed: 0                                               Data  \\\n",
              "0               0  Xref: cantaloupe.srv.cs.cmu.edu alt.atheism:49...   \n",
              "1               1  Xref: cantaloupe.srv.cs.cmu.edu alt.atheism:51...   \n",
              "2               2  Newsgroups: alt.atheism\\nPath: cantaloupe.srv....   \n",
              "3               3  Xref: cantaloupe.srv.cs.cmu.edu alt.atheism:51...   \n",
              "4               4  Xref: cantaloupe.srv.cs.cmu.edu alt.atheism:51...   \n",
              "...           ...                                                ...   \n",
              "19992       19992  Xref: cantaloupe.srv.cs.cmu.edu alt.atheism:54...   \n",
              "19993       19993  Xref: cantaloupe.srv.cs.cmu.edu alt.atheism:54...   \n",
              "19994       19994  Xref: cantaloupe.srv.cs.cmu.edu talk.religion....   \n",
              "19995       19995  Xref: cantaloupe.srv.cs.cmu.edu talk.religion....   \n",
              "19996       19996  Xref: cantaloupe.srv.cs.cmu.edu talk.abortion:...   \n",
              "\n",
              "                   Labels  \n",
              "0             alt.atheism  \n",
              "1             alt.atheism  \n",
              "2             alt.atheism  \n",
              "3             alt.atheism  \n",
              "4             alt.atheism  \n",
              "...                   ...  \n",
              "19992  talk.religion.misc  \n",
              "19993  talk.religion.misc  \n",
              "19994  talk.religion.misc  \n",
              "19995  talk.religion.misc  \n",
              "19996  talk.religion.misc  \n",
              "\n",
              "[19997 rows x 3 columns]"
            ],
            "text/html": [
              "\n",
              "  <div id=\"df-277c0958-54e5-4389-bd2c-2d8c47b0dab6\" class=\"colab-df-container\">\n",
              "    <div>\n",
              "<style scoped>\n",
              "    .dataframe tbody tr th:only-of-type {\n",
              "        vertical-align: middle;\n",
              "    }\n",
              "\n",
              "    .dataframe tbody tr th {\n",
              "        vertical-align: top;\n",
              "    }\n",
              "\n",
              "    .dataframe thead th {\n",
              "        text-align: right;\n",
              "    }\n",
              "</style>\n",
              "<table border=\"1\" class=\"dataframe\">\n",
              "  <thead>\n",
              "    <tr style=\"text-align: right;\">\n",
              "      <th></th>\n",
              "      <th>Unnamed: 0</th>\n",
              "      <th>Data</th>\n",
              "      <th>Labels</th>\n",
              "    </tr>\n",
              "  </thead>\n",
              "  <tbody>\n",
              "    <tr>\n",
              "      <th>0</th>\n",
              "      <td>0</td>\n",
              "      <td>Xref: cantaloupe.srv.cs.cmu.edu alt.atheism:49...</td>\n",
              "      <td>alt.atheism</td>\n",
              "    </tr>\n",
              "    <tr>\n",
              "      <th>1</th>\n",
              "      <td>1</td>\n",
              "      <td>Xref: cantaloupe.srv.cs.cmu.edu alt.atheism:51...</td>\n",
              "      <td>alt.atheism</td>\n",
              "    </tr>\n",
              "    <tr>\n",
              "      <th>2</th>\n",
              "      <td>2</td>\n",
              "      <td>Newsgroups: alt.atheism\\nPath: cantaloupe.srv....</td>\n",
              "      <td>alt.atheism</td>\n",
              "    </tr>\n",
              "    <tr>\n",
              "      <th>3</th>\n",
              "      <td>3</td>\n",
              "      <td>Xref: cantaloupe.srv.cs.cmu.edu alt.atheism:51...</td>\n",
              "      <td>alt.atheism</td>\n",
              "    </tr>\n",
              "    <tr>\n",
              "      <th>4</th>\n",
              "      <td>4</td>\n",
              "      <td>Xref: cantaloupe.srv.cs.cmu.edu alt.atheism:51...</td>\n",
              "      <td>alt.atheism</td>\n",
              "    </tr>\n",
              "    <tr>\n",
              "      <th>...</th>\n",
              "      <td>...</td>\n",
              "      <td>...</td>\n",
              "      <td>...</td>\n",
              "    </tr>\n",
              "    <tr>\n",
              "      <th>19992</th>\n",
              "      <td>19992</td>\n",
              "      <td>Xref: cantaloupe.srv.cs.cmu.edu alt.atheism:54...</td>\n",
              "      <td>talk.religion.misc</td>\n",
              "    </tr>\n",
              "    <tr>\n",
              "      <th>19993</th>\n",
              "      <td>19993</td>\n",
              "      <td>Xref: cantaloupe.srv.cs.cmu.edu alt.atheism:54...</td>\n",
              "      <td>talk.religion.misc</td>\n",
              "    </tr>\n",
              "    <tr>\n",
              "      <th>19994</th>\n",
              "      <td>19994</td>\n",
              "      <td>Xref: cantaloupe.srv.cs.cmu.edu talk.religion....</td>\n",
              "      <td>talk.religion.misc</td>\n",
              "    </tr>\n",
              "    <tr>\n",
              "      <th>19995</th>\n",
              "      <td>19995</td>\n",
              "      <td>Xref: cantaloupe.srv.cs.cmu.edu talk.religion....</td>\n",
              "      <td>talk.religion.misc</td>\n",
              "    </tr>\n",
              "    <tr>\n",
              "      <th>19996</th>\n",
              "      <td>19996</td>\n",
              "      <td>Xref: cantaloupe.srv.cs.cmu.edu talk.abortion:...</td>\n",
              "      <td>talk.religion.misc</td>\n",
              "    </tr>\n",
              "  </tbody>\n",
              "</table>\n",
              "<p>19997 rows × 3 columns</p>\n",
              "</div>\n",
              "    <div class=\"colab-df-buttons\">\n",
              "\n",
              "  <div class=\"colab-df-container\">\n",
              "    <button class=\"colab-df-convert\" onclick=\"convertToInteractive('df-277c0958-54e5-4389-bd2c-2d8c47b0dab6')\"\n",
              "            title=\"Convert this dataframe to an interactive table.\"\n",
              "            style=\"display:none;\">\n",
              "\n",
              "  <svg xmlns=\"http://www.w3.org/2000/svg\" height=\"24px\" viewBox=\"0 -960 960 960\">\n",
              "    <path d=\"M120-120v-720h720v720H120Zm60-500h600v-160H180v160Zm220 220h160v-160H400v160Zm0 220h160v-160H400v160ZM180-400h160v-160H180v160Zm440 0h160v-160H620v160ZM180-180h160v-160H180v160Zm440 0h160v-160H620v160Z\"/>\n",
              "  </svg>\n",
              "    </button>\n",
              "\n",
              "  <style>\n",
              "    .colab-df-container {\n",
              "      display:flex;\n",
              "      gap: 12px;\n",
              "    }\n",
              "\n",
              "    .colab-df-convert {\n",
              "      background-color: #E8F0FE;\n",
              "      border: none;\n",
              "      border-radius: 50%;\n",
              "      cursor: pointer;\n",
              "      display: none;\n",
              "      fill: #1967D2;\n",
              "      height: 32px;\n",
              "      padding: 0 0 0 0;\n",
              "      width: 32px;\n",
              "    }\n",
              "\n",
              "    .colab-df-convert:hover {\n",
              "      background-color: #E2EBFA;\n",
              "      box-shadow: 0px 1px 2px rgba(60, 64, 67, 0.3), 0px 1px 3px 1px rgba(60, 64, 67, 0.15);\n",
              "      fill: #174EA6;\n",
              "    }\n",
              "\n",
              "    .colab-df-buttons div {\n",
              "      margin-bottom: 4px;\n",
              "    }\n",
              "\n",
              "    [theme=dark] .colab-df-convert {\n",
              "      background-color: #3B4455;\n",
              "      fill: #D2E3FC;\n",
              "    }\n",
              "\n",
              "    [theme=dark] .colab-df-convert:hover {\n",
              "      background-color: #434B5C;\n",
              "      box-shadow: 0px 1px 3px 1px rgba(0, 0, 0, 0.15);\n",
              "      filter: drop-shadow(0px 1px 2px rgba(0, 0, 0, 0.3));\n",
              "      fill: #FFFFFF;\n",
              "    }\n",
              "  </style>\n",
              "\n",
              "    <script>\n",
              "      const buttonEl =\n",
              "        document.querySelector('#df-277c0958-54e5-4389-bd2c-2d8c47b0dab6 button.colab-df-convert');\n",
              "      buttonEl.style.display =\n",
              "        google.colab.kernel.accessAllowed ? 'block' : 'none';\n",
              "\n",
              "      async function convertToInteractive(key) {\n",
              "        const element = document.querySelector('#df-277c0958-54e5-4389-bd2c-2d8c47b0dab6');\n",
              "        const dataTable =\n",
              "          await google.colab.kernel.invokeFunction('convertToInteractive',\n",
              "                                                    [key], {});\n",
              "        if (!dataTable) return;\n",
              "\n",
              "        const docLinkHtml = 'Like what you see? Visit the ' +\n",
              "          '<a target=\"_blank\" href=https://colab.research.google.com/notebooks/data_table.ipynb>data table notebook</a>'\n",
              "          + ' to learn more about interactive tables.';\n",
              "        element.innerHTML = '';\n",
              "        dataTable['output_type'] = 'display_data';\n",
              "        await google.colab.output.renderOutput(dataTable, element);\n",
              "        const docLink = document.createElement('div');\n",
              "        docLink.innerHTML = docLinkHtml;\n",
              "        element.appendChild(docLink);\n",
              "      }\n",
              "    </script>\n",
              "  </div>\n",
              "\n",
              "\n",
              "<div id=\"df-d3aaf5f9-4dcc-48fc-8497-7264e38d963d\">\n",
              "  <button class=\"colab-df-quickchart\" onclick=\"quickchart('df-d3aaf5f9-4dcc-48fc-8497-7264e38d963d')\"\n",
              "            title=\"Suggest charts\"\n",
              "            style=\"display:none;\">\n",
              "\n",
              "<svg xmlns=\"http://www.w3.org/2000/svg\" height=\"24px\"viewBox=\"0 0 24 24\"\n",
              "     width=\"24px\">\n",
              "    <g>\n",
              "        <path d=\"M19 3H5c-1.1 0-2 .9-2 2v14c0 1.1.9 2 2 2h14c1.1 0 2-.9 2-2V5c0-1.1-.9-2-2-2zM9 17H7v-7h2v7zm4 0h-2V7h2v10zm4 0h-2v-4h2v4z\"/>\n",
              "    </g>\n",
              "</svg>\n",
              "  </button>\n",
              "\n",
              "<style>\n",
              "  .colab-df-quickchart {\n",
              "      --bg-color: #E8F0FE;\n",
              "      --fill-color: #1967D2;\n",
              "      --hover-bg-color: #E2EBFA;\n",
              "      --hover-fill-color: #174EA6;\n",
              "      --disabled-fill-color: #AAA;\n",
              "      --disabled-bg-color: #DDD;\n",
              "  }\n",
              "\n",
              "  [theme=dark] .colab-df-quickchart {\n",
              "      --bg-color: #3B4455;\n",
              "      --fill-color: #D2E3FC;\n",
              "      --hover-bg-color: #434B5C;\n",
              "      --hover-fill-color: #FFFFFF;\n",
              "      --disabled-bg-color: #3B4455;\n",
              "      --disabled-fill-color: #666;\n",
              "  }\n",
              "\n",
              "  .colab-df-quickchart {\n",
              "    background-color: var(--bg-color);\n",
              "    border: none;\n",
              "    border-radius: 50%;\n",
              "    cursor: pointer;\n",
              "    display: none;\n",
              "    fill: var(--fill-color);\n",
              "    height: 32px;\n",
              "    padding: 0;\n",
              "    width: 32px;\n",
              "  }\n",
              "\n",
              "  .colab-df-quickchart:hover {\n",
              "    background-color: var(--hover-bg-color);\n",
              "    box-shadow: 0 1px 2px rgba(60, 64, 67, 0.3), 0 1px 3px 1px rgba(60, 64, 67, 0.15);\n",
              "    fill: var(--button-hover-fill-color);\n",
              "  }\n",
              "\n",
              "  .colab-df-quickchart-complete:disabled,\n",
              "  .colab-df-quickchart-complete:disabled:hover {\n",
              "    background-color: var(--disabled-bg-color);\n",
              "    fill: var(--disabled-fill-color);\n",
              "    box-shadow: none;\n",
              "  }\n",
              "\n",
              "  .colab-df-spinner {\n",
              "    border: 2px solid var(--fill-color);\n",
              "    border-color: transparent;\n",
              "    border-bottom-color: var(--fill-color);\n",
              "    animation:\n",
              "      spin 1s steps(1) infinite;\n",
              "  }\n",
              "\n",
              "  @keyframes spin {\n",
              "    0% {\n",
              "      border-color: transparent;\n",
              "      border-bottom-color: var(--fill-color);\n",
              "      border-left-color: var(--fill-color);\n",
              "    }\n",
              "    20% {\n",
              "      border-color: transparent;\n",
              "      border-left-color: var(--fill-color);\n",
              "      border-top-color: var(--fill-color);\n",
              "    }\n",
              "    30% {\n",
              "      border-color: transparent;\n",
              "      border-left-color: var(--fill-color);\n",
              "      border-top-color: var(--fill-color);\n",
              "      border-right-color: var(--fill-color);\n",
              "    }\n",
              "    40% {\n",
              "      border-color: transparent;\n",
              "      border-right-color: var(--fill-color);\n",
              "      border-top-color: var(--fill-color);\n",
              "    }\n",
              "    60% {\n",
              "      border-color: transparent;\n",
              "      border-right-color: var(--fill-color);\n",
              "    }\n",
              "    80% {\n",
              "      border-color: transparent;\n",
              "      border-right-color: var(--fill-color);\n",
              "      border-bottom-color: var(--fill-color);\n",
              "    }\n",
              "    90% {\n",
              "      border-color: transparent;\n",
              "      border-bottom-color: var(--fill-color);\n",
              "    }\n",
              "  }\n",
              "</style>\n",
              "\n",
              "  <script>\n",
              "    async function quickchart(key) {\n",
              "      const quickchartButtonEl =\n",
              "        document.querySelector('#' + key + ' button');\n",
              "      quickchartButtonEl.disabled = true;  // To prevent multiple clicks.\n",
              "      quickchartButtonEl.classList.add('colab-df-spinner');\n",
              "      try {\n",
              "        const charts = await google.colab.kernel.invokeFunction(\n",
              "            'suggestCharts', [key], {});\n",
              "      } catch (error) {\n",
              "        console.error('Error during call to suggestCharts:', error);\n",
              "      }\n",
              "      quickchartButtonEl.classList.remove('colab-df-spinner');\n",
              "      quickchartButtonEl.classList.add('colab-df-quickchart-complete');\n",
              "    }\n",
              "    (() => {\n",
              "      let quickchartButtonEl =\n",
              "        document.querySelector('#df-d3aaf5f9-4dcc-48fc-8497-7264e38d963d button');\n",
              "      quickchartButtonEl.style.display =\n",
              "        google.colab.kernel.accessAllowed ? 'block' : 'none';\n",
              "    })();\n",
              "  </script>\n",
              "</div>\n",
              "\n",
              "  <div id=\"id_30eb9792-addc-423a-9cdd-df05361192dc\">\n",
              "    <style>\n",
              "      .colab-df-generate {\n",
              "        background-color: #E8F0FE;\n",
              "        border: none;\n",
              "        border-radius: 50%;\n",
              "        cursor: pointer;\n",
              "        display: none;\n",
              "        fill: #1967D2;\n",
              "        height: 32px;\n",
              "        padding: 0 0 0 0;\n",
              "        width: 32px;\n",
              "      }\n",
              "\n",
              "      .colab-df-generate:hover {\n",
              "        background-color: #E2EBFA;\n",
              "        box-shadow: 0px 1px 2px rgba(60, 64, 67, 0.3), 0px 1px 3px 1px rgba(60, 64, 67, 0.15);\n",
              "        fill: #174EA6;\n",
              "      }\n",
              "\n",
              "      [theme=dark] .colab-df-generate {\n",
              "        background-color: #3B4455;\n",
              "        fill: #D2E3FC;\n",
              "      }\n",
              "\n",
              "      [theme=dark] .colab-df-generate:hover {\n",
              "        background-color: #434B5C;\n",
              "        box-shadow: 0px 1px 3px 1px rgba(0, 0, 0, 0.15);\n",
              "        filter: drop-shadow(0px 1px 2px rgba(0, 0, 0, 0.3));\n",
              "        fill: #FFFFFF;\n",
              "      }\n",
              "    </style>\n",
              "    <button class=\"colab-df-generate\" onclick=\"generateWithVariable('df')\"\n",
              "            title=\"Generate code using this dataframe.\"\n",
              "            style=\"display:none;\">\n",
              "\n",
              "  <svg xmlns=\"http://www.w3.org/2000/svg\" height=\"24px\"viewBox=\"0 0 24 24\"\n",
              "       width=\"24px\">\n",
              "    <path d=\"M7,19H8.4L18.45,9,17,7.55,7,17.6ZM5,21V16.75L18.45,3.32a2,2,0,0,1,2.83,0l1.4,1.43a1.91,1.91,0,0,1,.58,1.4,1.91,1.91,0,0,1-.58,1.4L9.25,21ZM18.45,9,17,7.55Zm-12,3A5.31,5.31,0,0,0,4.9,8.1,5.31,5.31,0,0,0,1,6.5,5.31,5.31,0,0,0,4.9,4.9,5.31,5.31,0,0,0,6.5,1,5.31,5.31,0,0,0,8.1,4.9,5.31,5.31,0,0,0,12,6.5,5.46,5.46,0,0,0,6.5,12Z\"/>\n",
              "  </svg>\n",
              "    </button>\n",
              "    <script>\n",
              "      (() => {\n",
              "      const buttonEl =\n",
              "        document.querySelector('#id_30eb9792-addc-423a-9cdd-df05361192dc button.colab-df-generate');\n",
              "      buttonEl.style.display =\n",
              "        google.colab.kernel.accessAllowed ? 'block' : 'none';\n",
              "\n",
              "      buttonEl.onclick = () => {\n",
              "        google.colab.notebook.generateWithVariable('df');\n",
              "      }\n",
              "      })();\n",
              "    </script>\n",
              "  </div>\n",
              "\n",
              "    </div>\n",
              "  </div>\n"
            ],
            "application/vnd.google.colaboratory.intrinsic+json": {
              "type": "dataframe",
              "variable_name": "df",
              "summary": "{\n  \"name\": \"df\",\n  \"rows\": 19997,\n  \"fields\": [\n    {\n      \"column\": \"Unnamed: 0\",\n      \"properties\": {\n        \"dtype\": \"number\",\n        \"std\": 5772,\n        \"min\": 0,\n        \"max\": 19996,\n        \"num_unique_values\": 19997,\n        \"samples\": [\n          10747,\n          4949,\n          3352\n        ],\n        \"semantic_type\": \"\",\n        \"description\": \"\"\n      }\n    },\n    {\n      \"column\": \"Data\",\n      \"properties\": {\n        \"dtype\": \"string\",\n        \"num_unique_values\": 19466,\n        \"samples\": [\n          \"Xref: cantaloupe.srv.cs.cmu.edu soc.religion.christian:21662\\nPath: cantaloupe.srv.cs.cmu.edu!das-news.harvard.edu!noc.near.net!howland.reston.ans.net!agate!ames!pacbell.com!att-out!rutgers!igor.rutgers.edu!geneva.rutgers.edu!christian\\nFrom: af664@yfn.ysu.edu (Frank DeCenso, Jr.)\\nNewsgroups: soc.religion.christian\\nSubject: Re: _Christianity In Crisis_\\nMessage-ID: <May.18.00.54.53.1993.9551@geneva.rutgers.edu>\\nDate: 18 May 93 04:54:54 GMT\\nSender: hedrick@geneva.rutgers.edu\\nOrganization: Youngstown State/Youngstown Free-Net\\nLines: 371\\nApproved: christian@aramis.rutgers.edu\\n\\nFrom Bit.listserv.christia\\n\\nZane writes...\\n \\nFrom: FACN34B@SAUPM00.BITNET (zane of dhahan)\\n>Newsgroups: bit.listserv.christia\\nSubject: Christianity in Crisis\\nDate: Wed May 12 14:43:19 1993\\n \\n\\\"Frank, first of all, thanks for all of the great Scripture verses.  It\\nwas a pleasure to read them.\\\"\\n \\nMY REPLY...\\nYou are welcome, Zane.\\n \\nZane...\\n\\\"I am sure nothing that I will say will change your mind about it... but I\\nwould like to ask you if the book in question really does anything for you.\\nI mean, were you all caught up in the word/faith thing, but now that you\\nhave read the book you've been rescued from all of the error and pain that\\nwill result in your Christian life?\\\"\\n \\nMY REPLY...\\n(1) When I first became a Christian, I entered into the Word/Faith\\n    movement.  It was easy.  I wasn't grounded in the Word of God and sound\\n    doctrine.  When I visited Christian book stores, the cheapest books I\\n    could find to buy were the .50 and $1.00 books by Hagin and others.\\n    Consequently, I began receiving Hagin's monthly magazine (and they\\n    still send it to me), and also Copeland's (also, still sent to me).\\n    It wasn't until I read a booklet by Jimmy Swaggart called _Hyper Faith:\\n    The New Gnosticism_ that I began to realize the teachings I were\\n    partaking of were error.  I started reading the Bible more and studying\\n    more.  Sure enough, Jimmy was right in many points.  As part of my\\n    experience, I am alerting Christians, particularly new Christians, that\\n    these teachings are heretical and they need to do as the Bereans did in\\n    Acts 17:11 - check these teachings out with Scripture!\\n \\n(2) My brother in law was involved in a Word/Faith \\\"cult\\\" in my area - it's\\n    leader is real good friends with Benny Hinn.  Rather then going into\\n    much detail about this, suffice it to say he was deceived, mistreated, and\\n    has now fallen into atheism.  I'm still praying for him (Phil. 1:6).\\n \\n(3) The assistant pastor at the church I teach adult Sunday School in has been\\n    a `follower' of Copeland for 15 years.  He has thousands of tapes by the\\n    Faith teachers.  In the class recently, I quoted several of the teachers'\\n    heretical statements to his surprise.  Since then, I've been able to talk\\n    to him at length about these issues.\\n \\n(4) The leader of the Women's Group at my church is a Benny Hinn `fan'.\\n    Recently, I found that she has been lending _Good Morning, Holy Spirit_ to\\n    women in the church.  That prompted my quotes in Sunday School, as well as\\n    my lending CIC to people in the church.\\n \\nI'm well aware of the abuses and heresies perpetrated in this movement and\\nhave an urgency in my heart and life to warn people about the heresies.\\nWhat heresies?\\n    A. Jesus became sin - took on the very nature of the devil, and became\\n        one with him.\\n    B. Jesus' death on the cross wasn't enough to atone.\\n    C. Jesus was dragged to hell after His death, was beat and abused by\\n        Satan and demons, thus finishing our atonement.  Satan was ruling\\n        over Him there.\\n    D. Jesus was `born-again' in hell.\\n    E. Jesus died spiritually, lost His divinity, and reassumed it after\\n        the resurrection.\\n    F. We are gods.\\n \\nThese are heresies.  Documentation will be provided re: these teachings\\nupon request.\\n \\nZane...\\n\\\"Or what does it do for you?  Is it preventing you from going out and\\njoining up with the word/faith movement which you'd been contemplating\\njoining for so long, but now that you've read the book, you've been saved\\nfrom all of that?\\\"\\n \\nMY REPLY...\\nIt wasn't _Christianity In Crisis_ that helped me; it was a booklet by\\nSwaggart that I mentioned above.  But CIC is MUCH, MUCH better - tremendous\\ndocumentation and insights.\\n \\nZane...\\n\\\"I don't have a nice Scriptural answer for why I believe it is at best un-\\nprofitable for Christians to engage in this type of activity - heresy hunting.\\\"\\n \\nMY REPLY...\\nWhy do you call it \\\"heresy hunting\\\"?  \\\"Hunting\\\" implies it isn't readily\\naccessible or available.  This movement is the fastest growing movement in\\nChristendom.  Hagin has sold over 40 million books and booklets.  Hinn has sold\\nmore books in the last couple of years than Swindoll and Dobson combined.  Fred\\nPrice has the largest church in terms of seating capacity in the USA.  Doesn't\\nsound like much \\\"hunting\\\" is needed.\\n \\nIt is Scriptural to expose doctrinal error.  I gave some verses to you before.\\nMore can be given.  Most of the epistles were written due to error (doctrinal,\\npractical) in the churches.  The early church had numerous councils to expose\\nerror and heresy.  It's not a new thing.  Remember Luther?\\n \\nZane...\\n\\\"I would like to point out though, that historically those who hunt heretics\\noften end up causing a bigger mess than the heretics... but this is my un-\\ndocumented opinion.\\\"\\n \\nMY REPLY...\\n(1) If you can provide documentation, it would be appreciated.\\n(2) Read Ephesians 4:11-16, esp. vss. 13 and 14 and tell me what causes\\n    disunity and immaturity in the body.\\n \\nEPH 4:13-14 till we all come to the unity of the faith and of the knowledge of\\nthe Son of God, to a perfect man, to the measure of the stature of the fullness\\nof Christ; that we should no longer be children, tossed to and fro and carried\\nabout with every wind of doctrine, by the trickery of men, in the cunning\\ncraftiness of deceitful plotting....\\n \\nDisunity, contrary to popular opinion, isn't caused by exposing error; it's\\ncaused by error.\\n \\nZane...\\n\\\"There are many who probably give no place for seeing the Scriptures as\\ndocumenting a Spiritual development or growth in its writers - but I would\\nsuggest that the fiery Paul of the letter to the Galatians mellows and\\nmatures into the one who loses all for the sake of Love in the End.\\\"\\n \\nMY REPLY...\\nMost scholars believe Paul wrote 2 Timothy last.  Let's examine his admonitions\\nto Tim to ascertain how mellow he had become...\\n \\n2TI 1:13-15 Hold fast the pattern of sound words which you have heard from me,\\nin faith and love which are in Christ Jesus. That good thing which was\\ncommitted to you, keep by the Holy Spirit who dwells in us. This you know, that\\nall those in Asia have turned away from me, among whom are Phygellus and\\nHermogenes.\\n \\n2TI 2:15-18 Be diligent to present yourself approved to God, a worker who does\\nnot need to be ashamed, rightly dividing the word of truth. But shun profane\\nand idle babblings, for they will increase to more ungodliness. And their\\nmessage will spread like cancer. Hymenaeus and Philetus are of this sort, who\\nhave strayed concerning the truth, saying that the resurrection is already\\npast; and they overthrow the faith of some.\\n \\n2TI 2:24-26 And a servant of the Lord must not quarrel but be gentle to all,\\nable to teach, patient, in humility correcting those who are in opposition, if\\nGod perhaps will grant them repentance, so that they may know the truth, and\\nthat they may come to their senses and escape the snare of the devil, having\\nbeen taken captive by him to do his will.\\n \\n2TI 3:6-9 For of this sort are those who creep into households and make\\ncaptives of gullible women loaded down with sins, led away by various lusts,\\nalways learning and never able to come to the knowledge of the truth. Now as\\nJannes and Jambres resisted Moses, so do these also resist the truth: men of\\ncorrupt minds, disapproved concerning the faith; but they will progress no\\nfurther, for their folly will be manifest to all, as theirs also was.\\n \\n2TI 3:12-17 Yes, and all who desire to live godly in Christ Jesus will suffer\\npersecution. But evil men and impostors will grow worse and worse, deceiving\\nand being deceived. But you must continue in the things which you have learned\\nand been assured of, knowing from whom you have learned them, and that from\\nchildhood you have known the Holy Scriptures, which are able to make you wise\\nfor salvation through faith which is in Christ Jesus. All Scripture is given by\\ninspiration of God, and is profitable for doctrine, for reproof, for\\ncorrection, for instruction in righteousness, that the man of God may be\\ncomplete, thoroughly equipped for every good work.\\n \\n2TI 4:2-5 Preach the word! Be ready in season and out of season. Convince,\\nrebuke, exhort, with all longsuffering and teaching. For the time will come\\nwhen they will not endure sound doctrine, but according to their own desires,\\nbecause they have itching ears, they will heap up for themselves teachers; and\\nthey will turn their ears away from the truth, and be turned aside to fables.\\nBut you be watchful in all things, endure afflictions, do the work of an\\nevangelist, fulfill your ministry.\\n \\n2TI 4:14-15 Alexander the coppersmith did me much harm. May the Lord repay him\\naccording to his works. You also must beware of him, for he has greatly\\nresisted our words.\\n \\nZane...\\n\\\"The picture I have of Paul is not of one who goes out of his way to destroy\\nthe ministry of wolves... but of one who teaches the sheep, with many tears,\\nthe necessity of absolutely not allowing themselves to be transformed into\\nwolves to protect themselves.\\\"\\n \\nMY REPLY...\\nACT 20:26-31 \\\"Therefore I testify to you this day that I am innocent of the\\nblood of all men. \\\"For I have not shunned to declare to you the whole counsel\\nof God. \\\"Therefore take heed to yourselves and to all the flock, among which\\nthe Holy Spirit has made you overseers, to shepherd the church of God which He\\npurchased with His own blood. \\\"For I know this, that after my departure savage\\nwolves will come in among you, not sparing the flock. \\\"Also from among\\nyourselves men will rise up, speaking perverse things, to draw away the\\ndisciples after themselves. \\\"Therefore watch, and remember that for three years\\nI did not cease to warn everyone night and day with tears.\\n \\nZane...\\n\\\"For all the warning Paul does, it is of note that he never once drops a name\\nof a wolf....  - but I will admit he cries in his beard at the end over those\\nwho have abandoned him - everyone in Asia wasn't it ?\\\"\\n \\nMY REPLY...\\nPaul mentioned names...\\n \\n1TI 1:18-20 This charge I commit to you, son Timothy, according to the\\nprophecies previously made concerning you, that by them you may wage the good\\nwarfare, having faith and a good conscience, which some having rejected,\\nconcerning the faith have suffered shipwreck, of whom are Hymenaeus and\\nAlexander, whom I delivered to Satan that they may learn not to blaspheme.\\n \\n2TI 1:15 This you know, that all those in Asia have turned away from me, among\\nwhom are Phygellus and Hermogenes.\\n \\n2TI 2:16-18 But shun profane and idle babblings, for they will increase to more\\nungodliness. And their message will spread like cancer. Hymenaeus and Philetus\\nare of this sort, who have strayed concerning the truth, saying that the\\nresurrection is already past; and they overthrow the faith of some.\\n \\n2TI 4:10 for Demas has forsaken me, having loved this present world, and has\\ndeparted for Thessalonica--Crescens for Galatia, Titus for Dalmatia.\\n \\n2TI 4:14-15 Alexander the coppersmith did me much harm. May the Lord repay him\\naccording to his works. You also must beware of him, for he has greatly\\nresisted our words.\\n \\nSo did John...\\n \\n3JO 1:9-10 I wrote to the church, but Diotrephes, who loves to have the\\npreeminence among them, does not receive us. Therefore, if I come, I will call\\nto mind his deeds which he does, prating against us with malicious words. And\\nnot content with that, he himself does not receive the brethren, and forbids\\nthose who wish to, putting them out of the church.\\n \\nJesus also singled out teachings and doctrines...\\n \\nREV 2:14-16 \\\"But I have a few things against you, because you have there those\\nwho hold the doctrine of Balaam, who taught Balak to put a stumbling block\\nbefore the children of Israel, to eat things sacrificed to idols, and to commit\\nsexual immorality. \\\"Thus you also have those who hold the doctrine of the\\nNicolaitans, which thing I hate. 'Repent, or else I will come to you quickly\\nand will fight against them with the sword of My mouth.\\n \\nREV 2:20-23 \\\"Nevertheless I have a few things against you, because you allow\\nthat woman Jezebel, who calls herself a prophetess, to teach and seduce My\\nservants to commit sexual immorality and eat things sacrificed to idols. \\\"And I\\ngave her time to repent of her sexual immorality, and she did not repent.\\n\\\"Indeed I will cast her into a sickbed, and those who commit adultery with her\\ninto great tribulation, unless they repent of their deeds. \\\"I will kill her\\nchildren with death, and all the churches shall know that I am He who searches\\nthe minds and hearts. And I will give to each one of you according to your\\nworks.\\n \\nZane...\\n\\\"I question too, the purposes of those who write books and build ministries\\non the faults - deliberate or otherwise - of others.  Maybe if they would\\nwander around in the desert eating locust and honey, or barely cakes...with\\nno worldly goods at stake, money to be made, or no reputations to maintain...\\nI would question their motives - conscious or otherwise - less.\\\"\\n \\nMY REPLY...\\nI won't comment on this because it deals with the intangible motives of others.\\nBut even if they had bad motives, remember what Paul said...\\n \\nPHI 1:15-18 Some indeed preach Christ even from envy and strife, and some also\\nfrom good will: The former preach Christ from selfish ambition, not sincerely,\\nsupposing to add affliction to my chains; but the latter out of love, knowing\\nthat I am appointed for the defense of the gospel. What then? Only that in\\nevery way, whether in pretense or in truth, Christ is preached; and in this I\\nrejoice, yes, and will rejoice.\\n \\nZane...\\n\\\"If we want to be true to the admonitions of Scripture - many of which you\\nlist - about protecting ourselves and the flock from wolves and winds of\\ndoctrines, I suggest we start by allowing the wolf-program in our own noetic\\npasture to be nailed to the Cross.\\\"\\n \\nMY REPLY...\\nPlease explain.\\n \\nZane...\\n\\\"Secondly, I suggest any heresy hunting be restricted to our own fellowships -\\nwhich in the strict Scriptural sense is the local city-church.\\\"\\n \\nMY REPLY...\\nIf heresy was not being propagated over the mass media, then it may not be\\nneeded to go mass media with the exposure.  Unfortunately, heresy is being\\ntaught not just in Copeland's church or Hagin's or Hinn's or Price's, but all\\nover the radio, in print, etc.  No pastor or church leader knows what materials\\nthe sheep are feeding on outside the church.  It's imperative that leadership\\nbe made aware of this, and CIC does just that.\\n \\nAlso, let's examine a passage of Scripture...\\n* EPH 4:11 And He Himself gave some to be apostles, some prophets, some\\nevangelists, and some pastors and teachers,\\n* EPH 4:12 for the equipping of the saints for the work of ministry, for the\\nedifying of the body of Christ,\\n \\nThese ministry gifts that the Lord installs in the church are not just for one\\nindividual church, but for \\\"the body of Christ\\\".\\nPaul was an apostle - he traveled all over distilling his message.  He was also\\na teacher -\\n1CO 4:17 For this reason I have sent Timothy to you, who is my beloved and\\nfaithful son in the Lord, who will remind you of my ways in Christ, as I teach\\neverywhere in every church.\\n1CO 7:17 But as God has distributed to each one, as the Lord has called each\\none, so let him walk. And so I ordain in all the churches.\\n \\nAlso -\\n1CO 12:28 And God has appointed these in the church: first apostles, second\\nprophets, third teachers, after that miracles, then gifts of healings, helps,\\nadministrations, varieties of tongues.\\n \\n* EPH 4:13 till we all come to the unity of the faith and of the knowledge of\\nthe Son of God, to a perfect man, to the measure of the stature of the fullness\\nof Christ;\\n \\nNotice that the \\\"Five-Fold\\\" ministries are going to be around \\\"till\\\" the church\\nis in \\\"unity of the faith and of the knowledge of the Son of God to a perfect\\nman\\\".  This, I believe will not occur fully until the Lord Jesus returns (see\\n1Cor. 13:9-12).  But God wants the body to continue on maturing.  What hinders\\nmaturity and unity of the body?\\n \\n* EPH 4:14 that we should no longer be children, tossed to and fro and carried\\nabout with every wind of doctrine, by the trickery of men, in the cunning\\ncraftiness of deceitful plotting,\\n \\nIt's clear that false doctrine, integrated into the church \\\"by the trickery of\\nmen\\\" causes (1) disunity [the thing we are striving for] and (2) spiritual\\nimmaturity - the church continues in spiritual childhood when Christians are\\n\\\"tossed to and fro and carried about with every wind of doctrine\\\".\\n \\nThe \\\"Five -Fold\\\" ministry, of which there does not appear to be clear\\nScriptural denominational boundaries (\\\"pastors\\\" appear responsible for their\\nindividual flock), is to deal with these doctrines (when necessary) in their\\nstruggle to equip the body.\\n \\nAll believers are called to do this to a degree...\\nJUD 1:3-4 Beloved, while I was very diligent to write to you concerning our\\ncommon salvation, I found it necessary to write to you exhorting you to contend\\nearnestly for the faith which was once for all delivered to the saints. For\\ncertain men have crept in unnoticed, who long ago were marked out for this\\ncondemnation, ungodly men, who turn the grace of our God into lewdness and deny\\nthe only Lord God and our Lord Jesus Christ.\\n \\nZane...\\n\\\"If you'll notice, in Scripture the heresy hunters that went from Church to\\nChurch and area to area, were the \\\"bad guys\\\" and they went after the \\\"good guy\\\"\\nnamely Paul - who they considered to be the arch heretic.\\\"\\n \\nMY REPLY...\\nThey were themselves heretics trying to discredit Paul who was preaching\\ncontrary to what they taught!\\n \\nZane...\\n\\\"Let's face it, the wolves are here for a reason.  And we are here for the\\nReason.  And let's hope the wolves become sheep, and the sheep, lambs.\\\"\\n \\nMY REPLY...\\nYes!\\n2TI 2:24-26 And a servant of the Lord must not quarrel but be gentle to all,\\n                                                           ~~~~~~~~~~~~~~~~\\nable to teach, patient, in humility correcting those who are in opposition, if\\n~~~~~~~~~~~~~~~~~~~~~~~~~~~~~~~~~~~~~~~~~~~~~~~~~~~~~~~~~~~~~~~~~~~~~~~~~~  ~~\\nGod perhaps will grant them repentance, so that they may know the truth, and\\n~~~~~~~~~~~~~~~~~~~~~~~~~~~~~~~~~~~~~~\\nthat they may come to their senses and escape the snare of the devil, having\\nbeen taken captive by him to do his will.\\n \\nAMEN!\\n\\n\\nFrank\\n-- \\n\\\"If one wished to contend with Him, he could not answer Him one time out\\n of a thousand.\\\"  JOB 9:3\\n\",\n          \"Path: cantaloupe.srv.cs.cmu.edu!crabapple.srv.cs.cmu.edu!bb3.andrew.cmu.edu!news.sei.cmu.edu!cis.ohio-state.edu!zaphod.mps.ohio-state.edu!howland.reston.ans.net!agate!dog.ee.lbl.gov!network.ucsd.edu!munnari.oz.au!goanna!escargot!minyos.xx.rmit.OZ.AU!s872505\\nFrom: s872505@minyos.xx.rmit.OZ.AU (Stephen Bokor)\\nNewsgroups: comp.sys.ibm.pc.hardware\\nSubject: Re: A: DRIVE WON'T BOOT\\nMessage-ID: <1r2h10INNh3l@escargot.xx.rmit.OZ.AU>\\nDate: 21 Apr 93 04:02:40 GMT\\nReferences: <120922@netnews.upenn.edu>\\nOrganization: Royal Melbourne Institute of Technology\\nLines: 36\\nNNTP-Posting-Host: minyos.xx.rmit.oz.au\\n\\nbalog@eniac.seas.upenn.edu (Eric J Balog) writes:\\n\\n>Hi!\\n\\n>I recently switched my 3.5\\\" drive to A:. The problem is, while I can read and\\n>write to both the new A: and B: correctly, I can't boot from a floppy in A:.\\n>I've checked the CMOS settings; it is set for Floppy Seek at Boot and Boot \\n>Order A:,C:. \\n\\n>Once, I had a floppy that did not have the systems files on it in A:. I got a\\n>message telling me to put a disk systems disk in the drive. It didn't work.\\n>When I do have a systems disk in the A: drive, this is what happens:\\n>1) Power-on and Memory Test;\\n>2) A: light comes on\\n>3) B: light comes on, followed by a short beep;\\n>4) HD light comes on for an instant;\\n>5) B: light comes on again, then nothing happens\\n\\n>The light goes off, there is no disk activity of any kind, and the screen \\n>blanks. I can't even use ctrl-alt-del.\\n\\n>Any suggestions.\\n\\nHave you checked: 1/ The setting of drive A: to 1.44 M floppy.\\n\\t\\t\\t\\t\\t\\t2/ The setting of drive B: to 1.2 M foppy.\\n\\t\\t\\t\\t\\t\\t3/ The cable connecting the two drives to\\n\\t\\t\\t\\t\\t\\tthe controller card (I can't remember which\\n\\t\\t\\t\\t\\t\\ttwo wires are swapped, but they determine\\n\\t\\t\\t\\t\\t\\twhich is drive A: & b:).\\n\\nI hope this is of some help :-)\\n\\n\\nSteve\\n\\ns872505@minyos.xx.oz.au\\n\",\n          \"Path: cantaloupe.srv.cs.cmu.edu!das-news.harvard.edu!noc.near.net!howland.reston.ans.net!ira.uka.de!news.dfn.de!mailgzrz.TU-Berlin.DE!news.netmbx.de!Germany.EU.net!rz.uni-hildesheim.de!agsc!erni.escape.de!s-link.escape.de!kwgeitz\\nFrom: kwgeitz@s-link.escape.de (Karl-W. Geitz)\\nNewsgroups: comp.os.ms-windows.misc\\nSubject: Re: Data segments and memory model usage\\nMessage-ID: <50phS3ykPo@s-link.escape.de>\\nOrganization: -S-LINK-> Public Mailbox, Braunschweig, Germany\\nDate: Fri, 14 May 1993 19:24:00 +0200\\nLines: 36\\n\\nHello phjm, you wrote:\\n\\n> Firstly, does Windows 3.1 in 386 enhanced mode do anything special\\n> with DLLs that have been compiled using the large memory model?\\n\\nNo.\\n\\n> We are being told that even in 386 enhanced mode Windows\\n> will load DLLs into *real memory below 640K* and page-lock it.\\n\\nNo.\\n\\n> My second question relates to static data inside DLLs. Is there\\n> any way at all to get multiple instances of the static data\\n> segment (DGROUP?)?\\n\\nNo, but...\\n\\nYou can allocate real static data within code segments!\\nWhen you need more dynamic memory you can allocate data on the global heap.\\n\\nYou can forget most of what was written about memory management. Under 3.1\\nyou have paged virtual memory. You can lock every block without hampering\\nthe memory manager. You can use far pointer everytime without always Lock/\\nUnlocking the memory block.\\n\\nAn besides: DLL's are mostly just disguised EXE's, that happen to be called\\nby another task.\\n\\n\\nKarl.\\n\\n------------------------------------------------------------------------\\nKarl-W.Geitz, Hauptstr.50, W-3320 Salzgitter 1, kwgeitz@s-link.escape.de\\nTEL: +49-5300-6701 FAX: +49-5300-6499 CIS: 100010,204 BIX: geitzkwg\\n## CrossPoint v2.1 ##\\n\"\n        ],\n        \"semantic_type\": \"\",\n        \"description\": \"\"\n      }\n    },\n    {\n      \"column\": \"Labels\",\n      \"properties\": {\n        \"dtype\": \"category\",\n        \"num_unique_values\": 20,\n        \"samples\": [\n          \"alt.atheism\",\n          \"talk.politics.mideast\",\n          \"soc.religion.christian\"\n        ],\n        \"semantic_type\": \"\",\n        \"description\": \"\"\n      }\n    }\n  ]\n}"
            }
          },
          "metadata": {},
          "execution_count": 2
        }
      ],
      "source": [
        "df=pd.read_csv('blogs_categories.csv')\n",
        "df"
      ]
    },
    {
      "cell_type": "code",
      "source": [
        "df.head()"
      ],
      "metadata": {
        "colab": {
          "base_uri": "https://localhost:8080/",
          "height": 206
        },
        "id": "Lx2tL0BYDrL5",
        "outputId": "97bb8bd3-67de-4124-8d64-d59f0753b478"
      },
      "execution_count": 3,
      "outputs": [
        {
          "output_type": "execute_result",
          "data": {
            "text/plain": [
              "   Unnamed: 0                                               Data       Labels\n",
              "0           0  Xref: cantaloupe.srv.cs.cmu.edu alt.atheism:49...  alt.atheism\n",
              "1           1  Xref: cantaloupe.srv.cs.cmu.edu alt.atheism:51...  alt.atheism\n",
              "2           2  Newsgroups: alt.atheism\\nPath: cantaloupe.srv....  alt.atheism\n",
              "3           3  Xref: cantaloupe.srv.cs.cmu.edu alt.atheism:51...  alt.atheism\n",
              "4           4  Xref: cantaloupe.srv.cs.cmu.edu alt.atheism:51...  alt.atheism"
            ],
            "text/html": [
              "\n",
              "  <div id=\"df-342e357c-252b-4ec0-b2ea-daa8f26d2234\" class=\"colab-df-container\">\n",
              "    <div>\n",
              "<style scoped>\n",
              "    .dataframe tbody tr th:only-of-type {\n",
              "        vertical-align: middle;\n",
              "    }\n",
              "\n",
              "    .dataframe tbody tr th {\n",
              "        vertical-align: top;\n",
              "    }\n",
              "\n",
              "    .dataframe thead th {\n",
              "        text-align: right;\n",
              "    }\n",
              "</style>\n",
              "<table border=\"1\" class=\"dataframe\">\n",
              "  <thead>\n",
              "    <tr style=\"text-align: right;\">\n",
              "      <th></th>\n",
              "      <th>Unnamed: 0</th>\n",
              "      <th>Data</th>\n",
              "      <th>Labels</th>\n",
              "    </tr>\n",
              "  </thead>\n",
              "  <tbody>\n",
              "    <tr>\n",
              "      <th>0</th>\n",
              "      <td>0</td>\n",
              "      <td>Xref: cantaloupe.srv.cs.cmu.edu alt.atheism:49...</td>\n",
              "      <td>alt.atheism</td>\n",
              "    </tr>\n",
              "    <tr>\n",
              "      <th>1</th>\n",
              "      <td>1</td>\n",
              "      <td>Xref: cantaloupe.srv.cs.cmu.edu alt.atheism:51...</td>\n",
              "      <td>alt.atheism</td>\n",
              "    </tr>\n",
              "    <tr>\n",
              "      <th>2</th>\n",
              "      <td>2</td>\n",
              "      <td>Newsgroups: alt.atheism\\nPath: cantaloupe.srv....</td>\n",
              "      <td>alt.atheism</td>\n",
              "    </tr>\n",
              "    <tr>\n",
              "      <th>3</th>\n",
              "      <td>3</td>\n",
              "      <td>Xref: cantaloupe.srv.cs.cmu.edu alt.atheism:51...</td>\n",
              "      <td>alt.atheism</td>\n",
              "    </tr>\n",
              "    <tr>\n",
              "      <th>4</th>\n",
              "      <td>4</td>\n",
              "      <td>Xref: cantaloupe.srv.cs.cmu.edu alt.atheism:51...</td>\n",
              "      <td>alt.atheism</td>\n",
              "    </tr>\n",
              "  </tbody>\n",
              "</table>\n",
              "</div>\n",
              "    <div class=\"colab-df-buttons\">\n",
              "\n",
              "  <div class=\"colab-df-container\">\n",
              "    <button class=\"colab-df-convert\" onclick=\"convertToInteractive('df-342e357c-252b-4ec0-b2ea-daa8f26d2234')\"\n",
              "            title=\"Convert this dataframe to an interactive table.\"\n",
              "            style=\"display:none;\">\n",
              "\n",
              "  <svg xmlns=\"http://www.w3.org/2000/svg\" height=\"24px\" viewBox=\"0 -960 960 960\">\n",
              "    <path d=\"M120-120v-720h720v720H120Zm60-500h600v-160H180v160Zm220 220h160v-160H400v160Zm0 220h160v-160H400v160ZM180-400h160v-160H180v160Zm440 0h160v-160H620v160ZM180-180h160v-160H180v160Zm440 0h160v-160H620v160Z\"/>\n",
              "  </svg>\n",
              "    </button>\n",
              "\n",
              "  <style>\n",
              "    .colab-df-container {\n",
              "      display:flex;\n",
              "      gap: 12px;\n",
              "    }\n",
              "\n",
              "    .colab-df-convert {\n",
              "      background-color: #E8F0FE;\n",
              "      border: none;\n",
              "      border-radius: 50%;\n",
              "      cursor: pointer;\n",
              "      display: none;\n",
              "      fill: #1967D2;\n",
              "      height: 32px;\n",
              "      padding: 0 0 0 0;\n",
              "      width: 32px;\n",
              "    }\n",
              "\n",
              "    .colab-df-convert:hover {\n",
              "      background-color: #E2EBFA;\n",
              "      box-shadow: 0px 1px 2px rgba(60, 64, 67, 0.3), 0px 1px 3px 1px rgba(60, 64, 67, 0.15);\n",
              "      fill: #174EA6;\n",
              "    }\n",
              "\n",
              "    .colab-df-buttons div {\n",
              "      margin-bottom: 4px;\n",
              "    }\n",
              "\n",
              "    [theme=dark] .colab-df-convert {\n",
              "      background-color: #3B4455;\n",
              "      fill: #D2E3FC;\n",
              "    }\n",
              "\n",
              "    [theme=dark] .colab-df-convert:hover {\n",
              "      background-color: #434B5C;\n",
              "      box-shadow: 0px 1px 3px 1px rgba(0, 0, 0, 0.15);\n",
              "      filter: drop-shadow(0px 1px 2px rgba(0, 0, 0, 0.3));\n",
              "      fill: #FFFFFF;\n",
              "    }\n",
              "  </style>\n",
              "\n",
              "    <script>\n",
              "      const buttonEl =\n",
              "        document.querySelector('#df-342e357c-252b-4ec0-b2ea-daa8f26d2234 button.colab-df-convert');\n",
              "      buttonEl.style.display =\n",
              "        google.colab.kernel.accessAllowed ? 'block' : 'none';\n",
              "\n",
              "      async function convertToInteractive(key) {\n",
              "        const element = document.querySelector('#df-342e357c-252b-4ec0-b2ea-daa8f26d2234');\n",
              "        const dataTable =\n",
              "          await google.colab.kernel.invokeFunction('convertToInteractive',\n",
              "                                                    [key], {});\n",
              "        if (!dataTable) return;\n",
              "\n",
              "        const docLinkHtml = 'Like what you see? Visit the ' +\n",
              "          '<a target=\"_blank\" href=https://colab.research.google.com/notebooks/data_table.ipynb>data table notebook</a>'\n",
              "          + ' to learn more about interactive tables.';\n",
              "        element.innerHTML = '';\n",
              "        dataTable['output_type'] = 'display_data';\n",
              "        await google.colab.output.renderOutput(dataTable, element);\n",
              "        const docLink = document.createElement('div');\n",
              "        docLink.innerHTML = docLinkHtml;\n",
              "        element.appendChild(docLink);\n",
              "      }\n",
              "    </script>\n",
              "  </div>\n",
              "\n",
              "\n",
              "<div id=\"df-a55d9cb5-0673-49f1-8616-4edf073cc204\">\n",
              "  <button class=\"colab-df-quickchart\" onclick=\"quickchart('df-a55d9cb5-0673-49f1-8616-4edf073cc204')\"\n",
              "            title=\"Suggest charts\"\n",
              "            style=\"display:none;\">\n",
              "\n",
              "<svg xmlns=\"http://www.w3.org/2000/svg\" height=\"24px\"viewBox=\"0 0 24 24\"\n",
              "     width=\"24px\">\n",
              "    <g>\n",
              "        <path d=\"M19 3H5c-1.1 0-2 .9-2 2v14c0 1.1.9 2 2 2h14c1.1 0 2-.9 2-2V5c0-1.1-.9-2-2-2zM9 17H7v-7h2v7zm4 0h-2V7h2v10zm4 0h-2v-4h2v4z\"/>\n",
              "    </g>\n",
              "</svg>\n",
              "  </button>\n",
              "\n",
              "<style>\n",
              "  .colab-df-quickchart {\n",
              "      --bg-color: #E8F0FE;\n",
              "      --fill-color: #1967D2;\n",
              "      --hover-bg-color: #E2EBFA;\n",
              "      --hover-fill-color: #174EA6;\n",
              "      --disabled-fill-color: #AAA;\n",
              "      --disabled-bg-color: #DDD;\n",
              "  }\n",
              "\n",
              "  [theme=dark] .colab-df-quickchart {\n",
              "      --bg-color: #3B4455;\n",
              "      --fill-color: #D2E3FC;\n",
              "      --hover-bg-color: #434B5C;\n",
              "      --hover-fill-color: #FFFFFF;\n",
              "      --disabled-bg-color: #3B4455;\n",
              "      --disabled-fill-color: #666;\n",
              "  }\n",
              "\n",
              "  .colab-df-quickchart {\n",
              "    background-color: var(--bg-color);\n",
              "    border: none;\n",
              "    border-radius: 50%;\n",
              "    cursor: pointer;\n",
              "    display: none;\n",
              "    fill: var(--fill-color);\n",
              "    height: 32px;\n",
              "    padding: 0;\n",
              "    width: 32px;\n",
              "  }\n",
              "\n",
              "  .colab-df-quickchart:hover {\n",
              "    background-color: var(--hover-bg-color);\n",
              "    box-shadow: 0 1px 2px rgba(60, 64, 67, 0.3), 0 1px 3px 1px rgba(60, 64, 67, 0.15);\n",
              "    fill: var(--button-hover-fill-color);\n",
              "  }\n",
              "\n",
              "  .colab-df-quickchart-complete:disabled,\n",
              "  .colab-df-quickchart-complete:disabled:hover {\n",
              "    background-color: var(--disabled-bg-color);\n",
              "    fill: var(--disabled-fill-color);\n",
              "    box-shadow: none;\n",
              "  }\n",
              "\n",
              "  .colab-df-spinner {\n",
              "    border: 2px solid var(--fill-color);\n",
              "    border-color: transparent;\n",
              "    border-bottom-color: var(--fill-color);\n",
              "    animation:\n",
              "      spin 1s steps(1) infinite;\n",
              "  }\n",
              "\n",
              "  @keyframes spin {\n",
              "    0% {\n",
              "      border-color: transparent;\n",
              "      border-bottom-color: var(--fill-color);\n",
              "      border-left-color: var(--fill-color);\n",
              "    }\n",
              "    20% {\n",
              "      border-color: transparent;\n",
              "      border-left-color: var(--fill-color);\n",
              "      border-top-color: var(--fill-color);\n",
              "    }\n",
              "    30% {\n",
              "      border-color: transparent;\n",
              "      border-left-color: var(--fill-color);\n",
              "      border-top-color: var(--fill-color);\n",
              "      border-right-color: var(--fill-color);\n",
              "    }\n",
              "    40% {\n",
              "      border-color: transparent;\n",
              "      border-right-color: var(--fill-color);\n",
              "      border-top-color: var(--fill-color);\n",
              "    }\n",
              "    60% {\n",
              "      border-color: transparent;\n",
              "      border-right-color: var(--fill-color);\n",
              "    }\n",
              "    80% {\n",
              "      border-color: transparent;\n",
              "      border-right-color: var(--fill-color);\n",
              "      border-bottom-color: var(--fill-color);\n",
              "    }\n",
              "    90% {\n",
              "      border-color: transparent;\n",
              "      border-bottom-color: var(--fill-color);\n",
              "    }\n",
              "  }\n",
              "</style>\n",
              "\n",
              "  <script>\n",
              "    async function quickchart(key) {\n",
              "      const quickchartButtonEl =\n",
              "        document.querySelector('#' + key + ' button');\n",
              "      quickchartButtonEl.disabled = true;  // To prevent multiple clicks.\n",
              "      quickchartButtonEl.classList.add('colab-df-spinner');\n",
              "      try {\n",
              "        const charts = await google.colab.kernel.invokeFunction(\n",
              "            'suggestCharts', [key], {});\n",
              "      } catch (error) {\n",
              "        console.error('Error during call to suggestCharts:', error);\n",
              "      }\n",
              "      quickchartButtonEl.classList.remove('colab-df-spinner');\n",
              "      quickchartButtonEl.classList.add('colab-df-quickchart-complete');\n",
              "    }\n",
              "    (() => {\n",
              "      let quickchartButtonEl =\n",
              "        document.querySelector('#df-a55d9cb5-0673-49f1-8616-4edf073cc204 button');\n",
              "      quickchartButtonEl.style.display =\n",
              "        google.colab.kernel.accessAllowed ? 'block' : 'none';\n",
              "    })();\n",
              "  </script>\n",
              "</div>\n",
              "\n",
              "    </div>\n",
              "  </div>\n"
            ],
            "application/vnd.google.colaboratory.intrinsic+json": {
              "type": "dataframe",
              "variable_name": "df",
              "summary": "{\n  \"name\": \"df\",\n  \"rows\": 19997,\n  \"fields\": [\n    {\n      \"column\": \"Unnamed: 0\",\n      \"properties\": {\n        \"dtype\": \"number\",\n        \"std\": 5772,\n        \"min\": 0,\n        \"max\": 19996,\n        \"num_unique_values\": 19997,\n        \"samples\": [\n          10747,\n          4949,\n          3352\n        ],\n        \"semantic_type\": \"\",\n        \"description\": \"\"\n      }\n    },\n    {\n      \"column\": \"Data\",\n      \"properties\": {\n        \"dtype\": \"string\",\n        \"num_unique_values\": 19466,\n        \"samples\": [\n          \"Xref: cantaloupe.srv.cs.cmu.edu soc.religion.christian:21662\\nPath: cantaloupe.srv.cs.cmu.edu!das-news.harvard.edu!noc.near.net!howland.reston.ans.net!agate!ames!pacbell.com!att-out!rutgers!igor.rutgers.edu!geneva.rutgers.edu!christian\\nFrom: af664@yfn.ysu.edu (Frank DeCenso, Jr.)\\nNewsgroups: soc.religion.christian\\nSubject: Re: _Christianity In Crisis_\\nMessage-ID: <May.18.00.54.53.1993.9551@geneva.rutgers.edu>\\nDate: 18 May 93 04:54:54 GMT\\nSender: hedrick@geneva.rutgers.edu\\nOrganization: Youngstown State/Youngstown Free-Net\\nLines: 371\\nApproved: christian@aramis.rutgers.edu\\n\\nFrom Bit.listserv.christia\\n\\nZane writes...\\n \\nFrom: FACN34B@SAUPM00.BITNET (zane of dhahan)\\n>Newsgroups: bit.listserv.christia\\nSubject: Christianity in Crisis\\nDate: Wed May 12 14:43:19 1993\\n \\n\\\"Frank, first of all, thanks for all of the great Scripture verses.  It\\nwas a pleasure to read them.\\\"\\n \\nMY REPLY...\\nYou are welcome, Zane.\\n \\nZane...\\n\\\"I am sure nothing that I will say will change your mind about it... but I\\nwould like to ask you if the book in question really does anything for you.\\nI mean, were you all caught up in the word/faith thing, but now that you\\nhave read the book you've been rescued from all of the error and pain that\\nwill result in your Christian life?\\\"\\n \\nMY REPLY...\\n(1) When I first became a Christian, I entered into the Word/Faith\\n    movement.  It was easy.  I wasn't grounded in the Word of God and sound\\n    doctrine.  When I visited Christian book stores, the cheapest books I\\n    could find to buy were the .50 and $1.00 books by Hagin and others.\\n    Consequently, I began receiving Hagin's monthly magazine (and they\\n    still send it to me), and also Copeland's (also, still sent to me).\\n    It wasn't until I read a booklet by Jimmy Swaggart called _Hyper Faith:\\n    The New Gnosticism_ that I began to realize the teachings I were\\n    partaking of were error.  I started reading the Bible more and studying\\n    more.  Sure enough, Jimmy was right in many points.  As part of my\\n    experience, I am alerting Christians, particularly new Christians, that\\n    these teachings are heretical and they need to do as the Bereans did in\\n    Acts 17:11 - check these teachings out with Scripture!\\n \\n(2) My brother in law was involved in a Word/Faith \\\"cult\\\" in my area - it's\\n    leader is real good friends with Benny Hinn.  Rather then going into\\n    much detail about this, suffice it to say he was deceived, mistreated, and\\n    has now fallen into atheism.  I'm still praying for him (Phil. 1:6).\\n \\n(3) The assistant pastor at the church I teach adult Sunday School in has been\\n    a `follower' of Copeland for 15 years.  He has thousands of tapes by the\\n    Faith teachers.  In the class recently, I quoted several of the teachers'\\n    heretical statements to his surprise.  Since then, I've been able to talk\\n    to him at length about these issues.\\n \\n(4) The leader of the Women's Group at my church is a Benny Hinn `fan'.\\n    Recently, I found that she has been lending _Good Morning, Holy Spirit_ to\\n    women in the church.  That prompted my quotes in Sunday School, as well as\\n    my lending CIC to people in the church.\\n \\nI'm well aware of the abuses and heresies perpetrated in this movement and\\nhave an urgency in my heart and life to warn people about the heresies.\\nWhat heresies?\\n    A. Jesus became sin - took on the very nature of the devil, and became\\n        one with him.\\n    B. Jesus' death on the cross wasn't enough to atone.\\n    C. Jesus was dragged to hell after His death, was beat and abused by\\n        Satan and demons, thus finishing our atonement.  Satan was ruling\\n        over Him there.\\n    D. Jesus was `born-again' in hell.\\n    E. Jesus died spiritually, lost His divinity, and reassumed it after\\n        the resurrection.\\n    F. We are gods.\\n \\nThese are heresies.  Documentation will be provided re: these teachings\\nupon request.\\n \\nZane...\\n\\\"Or what does it do for you?  Is it preventing you from going out and\\njoining up with the word/faith movement which you'd been contemplating\\njoining for so long, but now that you've read the book, you've been saved\\nfrom all of that?\\\"\\n \\nMY REPLY...\\nIt wasn't _Christianity In Crisis_ that helped me; it was a booklet by\\nSwaggart that I mentioned above.  But CIC is MUCH, MUCH better - tremendous\\ndocumentation and insights.\\n \\nZane...\\n\\\"I don't have a nice Scriptural answer for why I believe it is at best un-\\nprofitable for Christians to engage in this type of activity - heresy hunting.\\\"\\n \\nMY REPLY...\\nWhy do you call it \\\"heresy hunting\\\"?  \\\"Hunting\\\" implies it isn't readily\\naccessible or available.  This movement is the fastest growing movement in\\nChristendom.  Hagin has sold over 40 million books and booklets.  Hinn has sold\\nmore books in the last couple of years than Swindoll and Dobson combined.  Fred\\nPrice has the largest church in terms of seating capacity in the USA.  Doesn't\\nsound like much \\\"hunting\\\" is needed.\\n \\nIt is Scriptural to expose doctrinal error.  I gave some verses to you before.\\nMore can be given.  Most of the epistles were written due to error (doctrinal,\\npractical) in the churches.  The early church had numerous councils to expose\\nerror and heresy.  It's not a new thing.  Remember Luther?\\n \\nZane...\\n\\\"I would like to point out though, that historically those who hunt heretics\\noften end up causing a bigger mess than the heretics... but this is my un-\\ndocumented opinion.\\\"\\n \\nMY REPLY...\\n(1) If you can provide documentation, it would be appreciated.\\n(2) Read Ephesians 4:11-16, esp. vss. 13 and 14 and tell me what causes\\n    disunity and immaturity in the body.\\n \\nEPH 4:13-14 till we all come to the unity of the faith and of the knowledge of\\nthe Son of God, to a perfect man, to the measure of the stature of the fullness\\nof Christ; that we should no longer be children, tossed to and fro and carried\\nabout with every wind of doctrine, by the trickery of men, in the cunning\\ncraftiness of deceitful plotting....\\n \\nDisunity, contrary to popular opinion, isn't caused by exposing error; it's\\ncaused by error.\\n \\nZane...\\n\\\"There are many who probably give no place for seeing the Scriptures as\\ndocumenting a Spiritual development or growth in its writers - but I would\\nsuggest that the fiery Paul of the letter to the Galatians mellows and\\nmatures into the one who loses all for the sake of Love in the End.\\\"\\n \\nMY REPLY...\\nMost scholars believe Paul wrote 2 Timothy last.  Let's examine his admonitions\\nto Tim to ascertain how mellow he had become...\\n \\n2TI 1:13-15 Hold fast the pattern of sound words which you have heard from me,\\nin faith and love which are in Christ Jesus. That good thing which was\\ncommitted to you, keep by the Holy Spirit who dwells in us. This you know, that\\nall those in Asia have turned away from me, among whom are Phygellus and\\nHermogenes.\\n \\n2TI 2:15-18 Be diligent to present yourself approved to God, a worker who does\\nnot need to be ashamed, rightly dividing the word of truth. But shun profane\\nand idle babblings, for they will increase to more ungodliness. And their\\nmessage will spread like cancer. Hymenaeus and Philetus are of this sort, who\\nhave strayed concerning the truth, saying that the resurrection is already\\npast; and they overthrow the faith of some.\\n \\n2TI 2:24-26 And a servant of the Lord must not quarrel but be gentle to all,\\nable to teach, patient, in humility correcting those who are in opposition, if\\nGod perhaps will grant them repentance, so that they may know the truth, and\\nthat they may come to their senses and escape the snare of the devil, having\\nbeen taken captive by him to do his will.\\n \\n2TI 3:6-9 For of this sort are those who creep into households and make\\ncaptives of gullible women loaded down with sins, led away by various lusts,\\nalways learning and never able to come to the knowledge of the truth. Now as\\nJannes and Jambres resisted Moses, so do these also resist the truth: men of\\ncorrupt minds, disapproved concerning the faith; but they will progress no\\nfurther, for their folly will be manifest to all, as theirs also was.\\n \\n2TI 3:12-17 Yes, and all who desire to live godly in Christ Jesus will suffer\\npersecution. But evil men and impostors will grow worse and worse, deceiving\\nand being deceived. But you must continue in the things which you have learned\\nand been assured of, knowing from whom you have learned them, and that from\\nchildhood you have known the Holy Scriptures, which are able to make you wise\\nfor salvation through faith which is in Christ Jesus. All Scripture is given by\\ninspiration of God, and is profitable for doctrine, for reproof, for\\ncorrection, for instruction in righteousness, that the man of God may be\\ncomplete, thoroughly equipped for every good work.\\n \\n2TI 4:2-5 Preach the word! Be ready in season and out of season. Convince,\\nrebuke, exhort, with all longsuffering and teaching. For the time will come\\nwhen they will not endure sound doctrine, but according to their own desires,\\nbecause they have itching ears, they will heap up for themselves teachers; and\\nthey will turn their ears away from the truth, and be turned aside to fables.\\nBut you be watchful in all things, endure afflictions, do the work of an\\nevangelist, fulfill your ministry.\\n \\n2TI 4:14-15 Alexander the coppersmith did me much harm. May the Lord repay him\\naccording to his works. You also must beware of him, for he has greatly\\nresisted our words.\\n \\nZane...\\n\\\"The picture I have of Paul is not of one who goes out of his way to destroy\\nthe ministry of wolves... but of one who teaches the sheep, with many tears,\\nthe necessity of absolutely not allowing themselves to be transformed into\\nwolves to protect themselves.\\\"\\n \\nMY REPLY...\\nACT 20:26-31 \\\"Therefore I testify to you this day that I am innocent of the\\nblood of all men. \\\"For I have not shunned to declare to you the whole counsel\\nof God. \\\"Therefore take heed to yourselves and to all the flock, among which\\nthe Holy Spirit has made you overseers, to shepherd the church of God which He\\npurchased with His own blood. \\\"For I know this, that after my departure savage\\nwolves will come in among you, not sparing the flock. \\\"Also from among\\nyourselves men will rise up, speaking perverse things, to draw away the\\ndisciples after themselves. \\\"Therefore watch, and remember that for three years\\nI did not cease to warn everyone night and day with tears.\\n \\nZane...\\n\\\"For all the warning Paul does, it is of note that he never once drops a name\\nof a wolf....  - but I will admit he cries in his beard at the end over those\\nwho have abandoned him - everyone in Asia wasn't it ?\\\"\\n \\nMY REPLY...\\nPaul mentioned names...\\n \\n1TI 1:18-20 This charge I commit to you, son Timothy, according to the\\nprophecies previously made concerning you, that by them you may wage the good\\nwarfare, having faith and a good conscience, which some having rejected,\\nconcerning the faith have suffered shipwreck, of whom are Hymenaeus and\\nAlexander, whom I delivered to Satan that they may learn not to blaspheme.\\n \\n2TI 1:15 This you know, that all those in Asia have turned away from me, among\\nwhom are Phygellus and Hermogenes.\\n \\n2TI 2:16-18 But shun profane and idle babblings, for they will increase to more\\nungodliness. And their message will spread like cancer. Hymenaeus and Philetus\\nare of this sort, who have strayed concerning the truth, saying that the\\nresurrection is already past; and they overthrow the faith of some.\\n \\n2TI 4:10 for Demas has forsaken me, having loved this present world, and has\\ndeparted for Thessalonica--Crescens for Galatia, Titus for Dalmatia.\\n \\n2TI 4:14-15 Alexander the coppersmith did me much harm. May the Lord repay him\\naccording to his works. You also must beware of him, for he has greatly\\nresisted our words.\\n \\nSo did John...\\n \\n3JO 1:9-10 I wrote to the church, but Diotrephes, who loves to have the\\npreeminence among them, does not receive us. Therefore, if I come, I will call\\nto mind his deeds which he does, prating against us with malicious words. And\\nnot content with that, he himself does not receive the brethren, and forbids\\nthose who wish to, putting them out of the church.\\n \\nJesus also singled out teachings and doctrines...\\n \\nREV 2:14-16 \\\"But I have a few things against you, because you have there those\\nwho hold the doctrine of Balaam, who taught Balak to put a stumbling block\\nbefore the children of Israel, to eat things sacrificed to idols, and to commit\\nsexual immorality. \\\"Thus you also have those who hold the doctrine of the\\nNicolaitans, which thing I hate. 'Repent, or else I will come to you quickly\\nand will fight against them with the sword of My mouth.\\n \\nREV 2:20-23 \\\"Nevertheless I have a few things against you, because you allow\\nthat woman Jezebel, who calls herself a prophetess, to teach and seduce My\\nservants to commit sexual immorality and eat things sacrificed to idols. \\\"And I\\ngave her time to repent of her sexual immorality, and she did not repent.\\n\\\"Indeed I will cast her into a sickbed, and those who commit adultery with her\\ninto great tribulation, unless they repent of their deeds. \\\"I will kill her\\nchildren with death, and all the churches shall know that I am He who searches\\nthe minds and hearts. And I will give to each one of you according to your\\nworks.\\n \\nZane...\\n\\\"I question too, the purposes of those who write books and build ministries\\non the faults - deliberate or otherwise - of others.  Maybe if they would\\nwander around in the desert eating locust and honey, or barely cakes...with\\nno worldly goods at stake, money to be made, or no reputations to maintain...\\nI would question their motives - conscious or otherwise - less.\\\"\\n \\nMY REPLY...\\nI won't comment on this because it deals with the intangible motives of others.\\nBut even if they had bad motives, remember what Paul said...\\n \\nPHI 1:15-18 Some indeed preach Christ even from envy and strife, and some also\\nfrom good will: The former preach Christ from selfish ambition, not sincerely,\\nsupposing to add affliction to my chains; but the latter out of love, knowing\\nthat I am appointed for the defense of the gospel. What then? Only that in\\nevery way, whether in pretense or in truth, Christ is preached; and in this I\\nrejoice, yes, and will rejoice.\\n \\nZane...\\n\\\"If we want to be true to the admonitions of Scripture - many of which you\\nlist - about protecting ourselves and the flock from wolves and winds of\\ndoctrines, I suggest we start by allowing the wolf-program in our own noetic\\npasture to be nailed to the Cross.\\\"\\n \\nMY REPLY...\\nPlease explain.\\n \\nZane...\\n\\\"Secondly, I suggest any heresy hunting be restricted to our own fellowships -\\nwhich in the strict Scriptural sense is the local city-church.\\\"\\n \\nMY REPLY...\\nIf heresy was not being propagated over the mass media, then it may not be\\nneeded to go mass media with the exposure.  Unfortunately, heresy is being\\ntaught not just in Copeland's church or Hagin's or Hinn's or Price's, but all\\nover the radio, in print, etc.  No pastor or church leader knows what materials\\nthe sheep are feeding on outside the church.  It's imperative that leadership\\nbe made aware of this, and CIC does just that.\\n \\nAlso, let's examine a passage of Scripture...\\n* EPH 4:11 And He Himself gave some to be apostles, some prophets, some\\nevangelists, and some pastors and teachers,\\n* EPH 4:12 for the equipping of the saints for the work of ministry, for the\\nedifying of the body of Christ,\\n \\nThese ministry gifts that the Lord installs in the church are not just for one\\nindividual church, but for \\\"the body of Christ\\\".\\nPaul was an apostle - he traveled all over distilling his message.  He was also\\na teacher -\\n1CO 4:17 For this reason I have sent Timothy to you, who is my beloved and\\nfaithful son in the Lord, who will remind you of my ways in Christ, as I teach\\neverywhere in every church.\\n1CO 7:17 But as God has distributed to each one, as the Lord has called each\\none, so let him walk. And so I ordain in all the churches.\\n \\nAlso -\\n1CO 12:28 And God has appointed these in the church: first apostles, second\\nprophets, third teachers, after that miracles, then gifts of healings, helps,\\nadministrations, varieties of tongues.\\n \\n* EPH 4:13 till we all come to the unity of the faith and of the knowledge of\\nthe Son of God, to a perfect man, to the measure of the stature of the fullness\\nof Christ;\\n \\nNotice that the \\\"Five-Fold\\\" ministries are going to be around \\\"till\\\" the church\\nis in \\\"unity of the faith and of the knowledge of the Son of God to a perfect\\nman\\\".  This, I believe will not occur fully until the Lord Jesus returns (see\\n1Cor. 13:9-12).  But God wants the body to continue on maturing.  What hinders\\nmaturity and unity of the body?\\n \\n* EPH 4:14 that we should no longer be children, tossed to and fro and carried\\nabout with every wind of doctrine, by the trickery of men, in the cunning\\ncraftiness of deceitful plotting,\\n \\nIt's clear that false doctrine, integrated into the church \\\"by the trickery of\\nmen\\\" causes (1) disunity [the thing we are striving for] and (2) spiritual\\nimmaturity - the church continues in spiritual childhood when Christians are\\n\\\"tossed to and fro and carried about with every wind of doctrine\\\".\\n \\nThe \\\"Five -Fold\\\" ministry, of which there does not appear to be clear\\nScriptural denominational boundaries (\\\"pastors\\\" appear responsible for their\\nindividual flock), is to deal with these doctrines (when necessary) in their\\nstruggle to equip the body.\\n \\nAll believers are called to do this to a degree...\\nJUD 1:3-4 Beloved, while I was very diligent to write to you concerning our\\ncommon salvation, I found it necessary to write to you exhorting you to contend\\nearnestly for the faith which was once for all delivered to the saints. For\\ncertain men have crept in unnoticed, who long ago were marked out for this\\ncondemnation, ungodly men, who turn the grace of our God into lewdness and deny\\nthe only Lord God and our Lord Jesus Christ.\\n \\nZane...\\n\\\"If you'll notice, in Scripture the heresy hunters that went from Church to\\nChurch and area to area, were the \\\"bad guys\\\" and they went after the \\\"good guy\\\"\\nnamely Paul - who they considered to be the arch heretic.\\\"\\n \\nMY REPLY...\\nThey were themselves heretics trying to discredit Paul who was preaching\\ncontrary to what they taught!\\n \\nZane...\\n\\\"Let's face it, the wolves are here for a reason.  And we are here for the\\nReason.  And let's hope the wolves become sheep, and the sheep, lambs.\\\"\\n \\nMY REPLY...\\nYes!\\n2TI 2:24-26 And a servant of the Lord must not quarrel but be gentle to all,\\n                                                           ~~~~~~~~~~~~~~~~\\nable to teach, patient, in humility correcting those who are in opposition, if\\n~~~~~~~~~~~~~~~~~~~~~~~~~~~~~~~~~~~~~~~~~~~~~~~~~~~~~~~~~~~~~~~~~~~~~~~~~~  ~~\\nGod perhaps will grant them repentance, so that they may know the truth, and\\n~~~~~~~~~~~~~~~~~~~~~~~~~~~~~~~~~~~~~~\\nthat they may come to their senses and escape the snare of the devil, having\\nbeen taken captive by him to do his will.\\n \\nAMEN!\\n\\n\\nFrank\\n-- \\n\\\"If one wished to contend with Him, he could not answer Him one time out\\n of a thousand.\\\"  JOB 9:3\\n\",\n          \"Path: cantaloupe.srv.cs.cmu.edu!crabapple.srv.cs.cmu.edu!bb3.andrew.cmu.edu!news.sei.cmu.edu!cis.ohio-state.edu!zaphod.mps.ohio-state.edu!howland.reston.ans.net!agate!dog.ee.lbl.gov!network.ucsd.edu!munnari.oz.au!goanna!escargot!minyos.xx.rmit.OZ.AU!s872505\\nFrom: s872505@minyos.xx.rmit.OZ.AU (Stephen Bokor)\\nNewsgroups: comp.sys.ibm.pc.hardware\\nSubject: Re: A: DRIVE WON'T BOOT\\nMessage-ID: <1r2h10INNh3l@escargot.xx.rmit.OZ.AU>\\nDate: 21 Apr 93 04:02:40 GMT\\nReferences: <120922@netnews.upenn.edu>\\nOrganization: Royal Melbourne Institute of Technology\\nLines: 36\\nNNTP-Posting-Host: minyos.xx.rmit.oz.au\\n\\nbalog@eniac.seas.upenn.edu (Eric J Balog) writes:\\n\\n>Hi!\\n\\n>I recently switched my 3.5\\\" drive to A:. The problem is, while I can read and\\n>write to both the new A: and B: correctly, I can't boot from a floppy in A:.\\n>I've checked the CMOS settings; it is set for Floppy Seek at Boot and Boot \\n>Order A:,C:. \\n\\n>Once, I had a floppy that did not have the systems files on it in A:. I got a\\n>message telling me to put a disk systems disk in the drive. It didn't work.\\n>When I do have a systems disk in the A: drive, this is what happens:\\n>1) Power-on and Memory Test;\\n>2) A: light comes on\\n>3) B: light comes on, followed by a short beep;\\n>4) HD light comes on for an instant;\\n>5) B: light comes on again, then nothing happens\\n\\n>The light goes off, there is no disk activity of any kind, and the screen \\n>blanks. I can't even use ctrl-alt-del.\\n\\n>Any suggestions.\\n\\nHave you checked: 1/ The setting of drive A: to 1.44 M floppy.\\n\\t\\t\\t\\t\\t\\t2/ The setting of drive B: to 1.2 M foppy.\\n\\t\\t\\t\\t\\t\\t3/ The cable connecting the two drives to\\n\\t\\t\\t\\t\\t\\tthe controller card (I can't remember which\\n\\t\\t\\t\\t\\t\\ttwo wires are swapped, but they determine\\n\\t\\t\\t\\t\\t\\twhich is drive A: & b:).\\n\\nI hope this is of some help :-)\\n\\n\\nSteve\\n\\ns872505@minyos.xx.oz.au\\n\",\n          \"Path: cantaloupe.srv.cs.cmu.edu!das-news.harvard.edu!noc.near.net!howland.reston.ans.net!ira.uka.de!news.dfn.de!mailgzrz.TU-Berlin.DE!news.netmbx.de!Germany.EU.net!rz.uni-hildesheim.de!agsc!erni.escape.de!s-link.escape.de!kwgeitz\\nFrom: kwgeitz@s-link.escape.de (Karl-W. Geitz)\\nNewsgroups: comp.os.ms-windows.misc\\nSubject: Re: Data segments and memory model usage\\nMessage-ID: <50phS3ykPo@s-link.escape.de>\\nOrganization: -S-LINK-> Public Mailbox, Braunschweig, Germany\\nDate: Fri, 14 May 1993 19:24:00 +0200\\nLines: 36\\n\\nHello phjm, you wrote:\\n\\n> Firstly, does Windows 3.1 in 386 enhanced mode do anything special\\n> with DLLs that have been compiled using the large memory model?\\n\\nNo.\\n\\n> We are being told that even in 386 enhanced mode Windows\\n> will load DLLs into *real memory below 640K* and page-lock it.\\n\\nNo.\\n\\n> My second question relates to static data inside DLLs. Is there\\n> any way at all to get multiple instances of the static data\\n> segment (DGROUP?)?\\n\\nNo, but...\\n\\nYou can allocate real static data within code segments!\\nWhen you need more dynamic memory you can allocate data on the global heap.\\n\\nYou can forget most of what was written about memory management. Under 3.1\\nyou have paged virtual memory. You can lock every block without hampering\\nthe memory manager. You can use far pointer everytime without always Lock/\\nUnlocking the memory block.\\n\\nAn besides: DLL's are mostly just disguised EXE's, that happen to be called\\nby another task.\\n\\n\\nKarl.\\n\\n------------------------------------------------------------------------\\nKarl-W.Geitz, Hauptstr.50, W-3320 Salzgitter 1, kwgeitz@s-link.escape.de\\nTEL: +49-5300-6701 FAX: +49-5300-6499 CIS: 100010,204 BIX: geitzkwg\\n## CrossPoint v2.1 ##\\n\"\n        ],\n        \"semantic_type\": \"\",\n        \"description\": \"\"\n      }\n    },\n    {\n      \"column\": \"Labels\",\n      \"properties\": {\n        \"dtype\": \"category\",\n        \"num_unique_values\": 20,\n        \"samples\": [\n          \"alt.atheism\",\n          \"talk.politics.mideast\",\n          \"soc.religion.christian\"\n        ],\n        \"semantic_type\": \"\",\n        \"description\": \"\"\n      }\n    }\n  ]\n}"
            }
          },
          "metadata": {},
          "execution_count": 3
        }
      ]
    },
    {
      "cell_type": "code",
      "source": [
        "#checking null values\n",
        "df.isnull().sum()"
      ],
      "metadata": {
        "colab": {
          "base_uri": "https://localhost:8080/",
          "height": 178
        },
        "collapsed": true,
        "id": "cpUddk6iDuI5",
        "outputId": "bfeebea9-3730-4da9-fb05-3cf1ffe1a2ae"
      },
      "execution_count": 4,
      "outputs": [
        {
          "output_type": "execute_result",
          "data": {
            "text/plain": [
              "Unnamed: 0    0\n",
              "Data          0\n",
              "Labels        0\n",
              "dtype: int64"
            ],
            "text/html": [
              "<div>\n",
              "<style scoped>\n",
              "    .dataframe tbody tr th:only-of-type {\n",
              "        vertical-align: middle;\n",
              "    }\n",
              "\n",
              "    .dataframe tbody tr th {\n",
              "        vertical-align: top;\n",
              "    }\n",
              "\n",
              "    .dataframe thead th {\n",
              "        text-align: right;\n",
              "    }\n",
              "</style>\n",
              "<table border=\"1\" class=\"dataframe\">\n",
              "  <thead>\n",
              "    <tr style=\"text-align: right;\">\n",
              "      <th></th>\n",
              "      <th>0</th>\n",
              "    </tr>\n",
              "  </thead>\n",
              "  <tbody>\n",
              "    <tr>\n",
              "      <th>Unnamed: 0</th>\n",
              "      <td>0</td>\n",
              "    </tr>\n",
              "    <tr>\n",
              "      <th>Data</th>\n",
              "      <td>0</td>\n",
              "    </tr>\n",
              "    <tr>\n",
              "      <th>Labels</th>\n",
              "      <td>0</td>\n",
              "    </tr>\n",
              "  </tbody>\n",
              "</table>\n",
              "</div><br><label><b>dtype:</b> int64</label>"
            ]
          },
          "metadata": {},
          "execution_count": 4
        }
      ]
    },
    {
      "cell_type": "code",
      "source": [
        "#creating a column for length of the data\n",
        "df['len']=df['Data'].apply(len)\n",
        "df"
      ],
      "metadata": {
        "collapsed": true,
        "colab": {
          "base_uri": "https://localhost:8080/",
          "height": 423
        },
        "id": "k67j0uYyDv0i",
        "outputId": "7f3ae455-b1ea-4d97-d084-451f809c422a"
      },
      "execution_count": 5,
      "outputs": [
        {
          "output_type": "execute_result",
          "data": {
            "text/plain": [
              "       Unnamed: 0                                               Data  \\\n",
              "0               0  Xref: cantaloupe.srv.cs.cmu.edu alt.atheism:49...   \n",
              "1               1  Xref: cantaloupe.srv.cs.cmu.edu alt.atheism:51...   \n",
              "2               2  Newsgroups: alt.atheism\\nPath: cantaloupe.srv....   \n",
              "3               3  Xref: cantaloupe.srv.cs.cmu.edu alt.atheism:51...   \n",
              "4               4  Xref: cantaloupe.srv.cs.cmu.edu alt.atheism:51...   \n",
              "...           ...                                                ...   \n",
              "19992       19992  Xref: cantaloupe.srv.cs.cmu.edu alt.atheism:54...   \n",
              "19993       19993  Xref: cantaloupe.srv.cs.cmu.edu alt.atheism:54...   \n",
              "19994       19994  Xref: cantaloupe.srv.cs.cmu.edu talk.religion....   \n",
              "19995       19995  Xref: cantaloupe.srv.cs.cmu.edu talk.religion....   \n",
              "19996       19996  Xref: cantaloupe.srv.cs.cmu.edu talk.abortion:...   \n",
              "\n",
              "                   Labels    len  \n",
              "0             alt.atheism  12424  \n",
              "1             alt.atheism  32530  \n",
              "2             alt.atheism   4550  \n",
              "3             alt.atheism   2067  \n",
              "4             alt.atheism   1347  \n",
              "...                   ...    ...  \n",
              "19992  talk.religion.misc   1803  \n",
              "19993  talk.religion.misc   2087  \n",
              "19994  talk.religion.misc   1621  \n",
              "19995  talk.religion.misc   2627  \n",
              "19996  talk.religion.misc   1362  \n",
              "\n",
              "[19997 rows x 4 columns]"
            ],
            "text/html": [
              "\n",
              "  <div id=\"df-a33d484c-0555-4c9d-8b9c-6d8af8b312b6\" class=\"colab-df-container\">\n",
              "    <div>\n",
              "<style scoped>\n",
              "    .dataframe tbody tr th:only-of-type {\n",
              "        vertical-align: middle;\n",
              "    }\n",
              "\n",
              "    .dataframe tbody tr th {\n",
              "        vertical-align: top;\n",
              "    }\n",
              "\n",
              "    .dataframe thead th {\n",
              "        text-align: right;\n",
              "    }\n",
              "</style>\n",
              "<table border=\"1\" class=\"dataframe\">\n",
              "  <thead>\n",
              "    <tr style=\"text-align: right;\">\n",
              "      <th></th>\n",
              "      <th>Unnamed: 0</th>\n",
              "      <th>Data</th>\n",
              "      <th>Labels</th>\n",
              "      <th>len</th>\n",
              "    </tr>\n",
              "  </thead>\n",
              "  <tbody>\n",
              "    <tr>\n",
              "      <th>0</th>\n",
              "      <td>0</td>\n",
              "      <td>Xref: cantaloupe.srv.cs.cmu.edu alt.atheism:49...</td>\n",
              "      <td>alt.atheism</td>\n",
              "      <td>12424</td>\n",
              "    </tr>\n",
              "    <tr>\n",
              "      <th>1</th>\n",
              "      <td>1</td>\n",
              "      <td>Xref: cantaloupe.srv.cs.cmu.edu alt.atheism:51...</td>\n",
              "      <td>alt.atheism</td>\n",
              "      <td>32530</td>\n",
              "    </tr>\n",
              "    <tr>\n",
              "      <th>2</th>\n",
              "      <td>2</td>\n",
              "      <td>Newsgroups: alt.atheism\\nPath: cantaloupe.srv....</td>\n",
              "      <td>alt.atheism</td>\n",
              "      <td>4550</td>\n",
              "    </tr>\n",
              "    <tr>\n",
              "      <th>3</th>\n",
              "      <td>3</td>\n",
              "      <td>Xref: cantaloupe.srv.cs.cmu.edu alt.atheism:51...</td>\n",
              "      <td>alt.atheism</td>\n",
              "      <td>2067</td>\n",
              "    </tr>\n",
              "    <tr>\n",
              "      <th>4</th>\n",
              "      <td>4</td>\n",
              "      <td>Xref: cantaloupe.srv.cs.cmu.edu alt.atheism:51...</td>\n",
              "      <td>alt.atheism</td>\n",
              "      <td>1347</td>\n",
              "    </tr>\n",
              "    <tr>\n",
              "      <th>...</th>\n",
              "      <td>...</td>\n",
              "      <td>...</td>\n",
              "      <td>...</td>\n",
              "      <td>...</td>\n",
              "    </tr>\n",
              "    <tr>\n",
              "      <th>19992</th>\n",
              "      <td>19992</td>\n",
              "      <td>Xref: cantaloupe.srv.cs.cmu.edu alt.atheism:54...</td>\n",
              "      <td>talk.religion.misc</td>\n",
              "      <td>1803</td>\n",
              "    </tr>\n",
              "    <tr>\n",
              "      <th>19993</th>\n",
              "      <td>19993</td>\n",
              "      <td>Xref: cantaloupe.srv.cs.cmu.edu alt.atheism:54...</td>\n",
              "      <td>talk.religion.misc</td>\n",
              "      <td>2087</td>\n",
              "    </tr>\n",
              "    <tr>\n",
              "      <th>19994</th>\n",
              "      <td>19994</td>\n",
              "      <td>Xref: cantaloupe.srv.cs.cmu.edu talk.religion....</td>\n",
              "      <td>talk.religion.misc</td>\n",
              "      <td>1621</td>\n",
              "    </tr>\n",
              "    <tr>\n",
              "      <th>19995</th>\n",
              "      <td>19995</td>\n",
              "      <td>Xref: cantaloupe.srv.cs.cmu.edu talk.religion....</td>\n",
              "      <td>talk.religion.misc</td>\n",
              "      <td>2627</td>\n",
              "    </tr>\n",
              "    <tr>\n",
              "      <th>19996</th>\n",
              "      <td>19996</td>\n",
              "      <td>Xref: cantaloupe.srv.cs.cmu.edu talk.abortion:...</td>\n",
              "      <td>talk.religion.misc</td>\n",
              "      <td>1362</td>\n",
              "    </tr>\n",
              "  </tbody>\n",
              "</table>\n",
              "<p>19997 rows × 4 columns</p>\n",
              "</div>\n",
              "    <div class=\"colab-df-buttons\">\n",
              "\n",
              "  <div class=\"colab-df-container\">\n",
              "    <button class=\"colab-df-convert\" onclick=\"convertToInteractive('df-a33d484c-0555-4c9d-8b9c-6d8af8b312b6')\"\n",
              "            title=\"Convert this dataframe to an interactive table.\"\n",
              "            style=\"display:none;\">\n",
              "\n",
              "  <svg xmlns=\"http://www.w3.org/2000/svg\" height=\"24px\" viewBox=\"0 -960 960 960\">\n",
              "    <path d=\"M120-120v-720h720v720H120Zm60-500h600v-160H180v160Zm220 220h160v-160H400v160Zm0 220h160v-160H400v160ZM180-400h160v-160H180v160Zm440 0h160v-160H620v160ZM180-180h160v-160H180v160Zm440 0h160v-160H620v160Z\"/>\n",
              "  </svg>\n",
              "    </button>\n",
              "\n",
              "  <style>\n",
              "    .colab-df-container {\n",
              "      display:flex;\n",
              "      gap: 12px;\n",
              "    }\n",
              "\n",
              "    .colab-df-convert {\n",
              "      background-color: #E8F0FE;\n",
              "      border: none;\n",
              "      border-radius: 50%;\n",
              "      cursor: pointer;\n",
              "      display: none;\n",
              "      fill: #1967D2;\n",
              "      height: 32px;\n",
              "      padding: 0 0 0 0;\n",
              "      width: 32px;\n",
              "    }\n",
              "\n",
              "    .colab-df-convert:hover {\n",
              "      background-color: #E2EBFA;\n",
              "      box-shadow: 0px 1px 2px rgba(60, 64, 67, 0.3), 0px 1px 3px 1px rgba(60, 64, 67, 0.15);\n",
              "      fill: #174EA6;\n",
              "    }\n",
              "\n",
              "    .colab-df-buttons div {\n",
              "      margin-bottom: 4px;\n",
              "    }\n",
              "\n",
              "    [theme=dark] .colab-df-convert {\n",
              "      background-color: #3B4455;\n",
              "      fill: #D2E3FC;\n",
              "    }\n",
              "\n",
              "    [theme=dark] .colab-df-convert:hover {\n",
              "      background-color: #434B5C;\n",
              "      box-shadow: 0px 1px 3px 1px rgba(0, 0, 0, 0.15);\n",
              "      filter: drop-shadow(0px 1px 2px rgba(0, 0, 0, 0.3));\n",
              "      fill: #FFFFFF;\n",
              "    }\n",
              "  </style>\n",
              "\n",
              "    <script>\n",
              "      const buttonEl =\n",
              "        document.querySelector('#df-a33d484c-0555-4c9d-8b9c-6d8af8b312b6 button.colab-df-convert');\n",
              "      buttonEl.style.display =\n",
              "        google.colab.kernel.accessAllowed ? 'block' : 'none';\n",
              "\n",
              "      async function convertToInteractive(key) {\n",
              "        const element = document.querySelector('#df-a33d484c-0555-4c9d-8b9c-6d8af8b312b6');\n",
              "        const dataTable =\n",
              "          await google.colab.kernel.invokeFunction('convertToInteractive',\n",
              "                                                    [key], {});\n",
              "        if (!dataTable) return;\n",
              "\n",
              "        const docLinkHtml = 'Like what you see? Visit the ' +\n",
              "          '<a target=\"_blank\" href=https://colab.research.google.com/notebooks/data_table.ipynb>data table notebook</a>'\n",
              "          + ' to learn more about interactive tables.';\n",
              "        element.innerHTML = '';\n",
              "        dataTable['output_type'] = 'display_data';\n",
              "        await google.colab.output.renderOutput(dataTable, element);\n",
              "        const docLink = document.createElement('div');\n",
              "        docLink.innerHTML = docLinkHtml;\n",
              "        element.appendChild(docLink);\n",
              "      }\n",
              "    </script>\n",
              "  </div>\n",
              "\n",
              "\n",
              "<div id=\"df-384b5592-51b0-45b0-8682-b1754d9bb0b3\">\n",
              "  <button class=\"colab-df-quickchart\" onclick=\"quickchart('df-384b5592-51b0-45b0-8682-b1754d9bb0b3')\"\n",
              "            title=\"Suggest charts\"\n",
              "            style=\"display:none;\">\n",
              "\n",
              "<svg xmlns=\"http://www.w3.org/2000/svg\" height=\"24px\"viewBox=\"0 0 24 24\"\n",
              "     width=\"24px\">\n",
              "    <g>\n",
              "        <path d=\"M19 3H5c-1.1 0-2 .9-2 2v14c0 1.1.9 2 2 2h14c1.1 0 2-.9 2-2V5c0-1.1-.9-2-2-2zM9 17H7v-7h2v7zm4 0h-2V7h2v10zm4 0h-2v-4h2v4z\"/>\n",
              "    </g>\n",
              "</svg>\n",
              "  </button>\n",
              "\n",
              "<style>\n",
              "  .colab-df-quickchart {\n",
              "      --bg-color: #E8F0FE;\n",
              "      --fill-color: #1967D2;\n",
              "      --hover-bg-color: #E2EBFA;\n",
              "      --hover-fill-color: #174EA6;\n",
              "      --disabled-fill-color: #AAA;\n",
              "      --disabled-bg-color: #DDD;\n",
              "  }\n",
              "\n",
              "  [theme=dark] .colab-df-quickchart {\n",
              "      --bg-color: #3B4455;\n",
              "      --fill-color: #D2E3FC;\n",
              "      --hover-bg-color: #434B5C;\n",
              "      --hover-fill-color: #FFFFFF;\n",
              "      --disabled-bg-color: #3B4455;\n",
              "      --disabled-fill-color: #666;\n",
              "  }\n",
              "\n",
              "  .colab-df-quickchart {\n",
              "    background-color: var(--bg-color);\n",
              "    border: none;\n",
              "    border-radius: 50%;\n",
              "    cursor: pointer;\n",
              "    display: none;\n",
              "    fill: var(--fill-color);\n",
              "    height: 32px;\n",
              "    padding: 0;\n",
              "    width: 32px;\n",
              "  }\n",
              "\n",
              "  .colab-df-quickchart:hover {\n",
              "    background-color: var(--hover-bg-color);\n",
              "    box-shadow: 0 1px 2px rgba(60, 64, 67, 0.3), 0 1px 3px 1px rgba(60, 64, 67, 0.15);\n",
              "    fill: var(--button-hover-fill-color);\n",
              "  }\n",
              "\n",
              "  .colab-df-quickchart-complete:disabled,\n",
              "  .colab-df-quickchart-complete:disabled:hover {\n",
              "    background-color: var(--disabled-bg-color);\n",
              "    fill: var(--disabled-fill-color);\n",
              "    box-shadow: none;\n",
              "  }\n",
              "\n",
              "  .colab-df-spinner {\n",
              "    border: 2px solid var(--fill-color);\n",
              "    border-color: transparent;\n",
              "    border-bottom-color: var(--fill-color);\n",
              "    animation:\n",
              "      spin 1s steps(1) infinite;\n",
              "  }\n",
              "\n",
              "  @keyframes spin {\n",
              "    0% {\n",
              "      border-color: transparent;\n",
              "      border-bottom-color: var(--fill-color);\n",
              "      border-left-color: var(--fill-color);\n",
              "    }\n",
              "    20% {\n",
              "      border-color: transparent;\n",
              "      border-left-color: var(--fill-color);\n",
              "      border-top-color: var(--fill-color);\n",
              "    }\n",
              "    30% {\n",
              "      border-color: transparent;\n",
              "      border-left-color: var(--fill-color);\n",
              "      border-top-color: var(--fill-color);\n",
              "      border-right-color: var(--fill-color);\n",
              "    }\n",
              "    40% {\n",
              "      border-color: transparent;\n",
              "      border-right-color: var(--fill-color);\n",
              "      border-top-color: var(--fill-color);\n",
              "    }\n",
              "    60% {\n",
              "      border-color: transparent;\n",
              "      border-right-color: var(--fill-color);\n",
              "    }\n",
              "    80% {\n",
              "      border-color: transparent;\n",
              "      border-right-color: var(--fill-color);\n",
              "      border-bottom-color: var(--fill-color);\n",
              "    }\n",
              "    90% {\n",
              "      border-color: transparent;\n",
              "      border-bottom-color: var(--fill-color);\n",
              "    }\n",
              "  }\n",
              "</style>\n",
              "\n",
              "  <script>\n",
              "    async function quickchart(key) {\n",
              "      const quickchartButtonEl =\n",
              "        document.querySelector('#' + key + ' button');\n",
              "      quickchartButtonEl.disabled = true;  // To prevent multiple clicks.\n",
              "      quickchartButtonEl.classList.add('colab-df-spinner');\n",
              "      try {\n",
              "        const charts = await google.colab.kernel.invokeFunction(\n",
              "            'suggestCharts', [key], {});\n",
              "      } catch (error) {\n",
              "        console.error('Error during call to suggestCharts:', error);\n",
              "      }\n",
              "      quickchartButtonEl.classList.remove('colab-df-spinner');\n",
              "      quickchartButtonEl.classList.add('colab-df-quickchart-complete');\n",
              "    }\n",
              "    (() => {\n",
              "      let quickchartButtonEl =\n",
              "        document.querySelector('#df-384b5592-51b0-45b0-8682-b1754d9bb0b3 button');\n",
              "      quickchartButtonEl.style.display =\n",
              "        google.colab.kernel.accessAllowed ? 'block' : 'none';\n",
              "    })();\n",
              "  </script>\n",
              "</div>\n",
              "\n",
              "  <div id=\"id_a9c414f2-8d93-4dfc-a218-5889b6c5bb2c\">\n",
              "    <style>\n",
              "      .colab-df-generate {\n",
              "        background-color: #E8F0FE;\n",
              "        border: none;\n",
              "        border-radius: 50%;\n",
              "        cursor: pointer;\n",
              "        display: none;\n",
              "        fill: #1967D2;\n",
              "        height: 32px;\n",
              "        padding: 0 0 0 0;\n",
              "        width: 32px;\n",
              "      }\n",
              "\n",
              "      .colab-df-generate:hover {\n",
              "        background-color: #E2EBFA;\n",
              "        box-shadow: 0px 1px 2px rgba(60, 64, 67, 0.3), 0px 1px 3px 1px rgba(60, 64, 67, 0.15);\n",
              "        fill: #174EA6;\n",
              "      }\n",
              "\n",
              "      [theme=dark] .colab-df-generate {\n",
              "        background-color: #3B4455;\n",
              "        fill: #D2E3FC;\n",
              "      }\n",
              "\n",
              "      [theme=dark] .colab-df-generate:hover {\n",
              "        background-color: #434B5C;\n",
              "        box-shadow: 0px 1px 3px 1px rgba(0, 0, 0, 0.15);\n",
              "        filter: drop-shadow(0px 1px 2px rgba(0, 0, 0, 0.3));\n",
              "        fill: #FFFFFF;\n",
              "      }\n",
              "    </style>\n",
              "    <button class=\"colab-df-generate\" onclick=\"generateWithVariable('df')\"\n",
              "            title=\"Generate code using this dataframe.\"\n",
              "            style=\"display:none;\">\n",
              "\n",
              "  <svg xmlns=\"http://www.w3.org/2000/svg\" height=\"24px\"viewBox=\"0 0 24 24\"\n",
              "       width=\"24px\">\n",
              "    <path d=\"M7,19H8.4L18.45,9,17,7.55,7,17.6ZM5,21V16.75L18.45,3.32a2,2,0,0,1,2.83,0l1.4,1.43a1.91,1.91,0,0,1,.58,1.4,1.91,1.91,0,0,1-.58,1.4L9.25,21ZM18.45,9,17,7.55Zm-12,3A5.31,5.31,0,0,0,4.9,8.1,5.31,5.31,0,0,0,1,6.5,5.31,5.31,0,0,0,4.9,4.9,5.31,5.31,0,0,0,6.5,1,5.31,5.31,0,0,0,8.1,4.9,5.31,5.31,0,0,0,12,6.5,5.46,5.46,0,0,0,6.5,12Z\"/>\n",
              "  </svg>\n",
              "    </button>\n",
              "    <script>\n",
              "      (() => {\n",
              "      const buttonEl =\n",
              "        document.querySelector('#id_a9c414f2-8d93-4dfc-a218-5889b6c5bb2c button.colab-df-generate');\n",
              "      buttonEl.style.display =\n",
              "        google.colab.kernel.accessAllowed ? 'block' : 'none';\n",
              "\n",
              "      buttonEl.onclick = () => {\n",
              "        google.colab.notebook.generateWithVariable('df');\n",
              "      }\n",
              "      })();\n",
              "    </script>\n",
              "  </div>\n",
              "\n",
              "    </div>\n",
              "  </div>\n"
            ],
            "application/vnd.google.colaboratory.intrinsic+json": {
              "type": "dataframe",
              "variable_name": "df",
              "summary": "{\n  \"name\": \"df\",\n  \"rows\": 19997,\n  \"fields\": [\n    {\n      \"column\": \"Unnamed: 0\",\n      \"properties\": {\n        \"dtype\": \"number\",\n        \"std\": 5772,\n        \"min\": 0,\n        \"max\": 19996,\n        \"num_unique_values\": 19997,\n        \"samples\": [\n          10747,\n          4949,\n          3352\n        ],\n        \"semantic_type\": \"\",\n        \"description\": \"\"\n      }\n    },\n    {\n      \"column\": \"Data\",\n      \"properties\": {\n        \"dtype\": \"string\",\n        \"num_unique_values\": 19466,\n        \"samples\": [\n          \"Xref: cantaloupe.srv.cs.cmu.edu soc.religion.christian:21662\\nPath: cantaloupe.srv.cs.cmu.edu!das-news.harvard.edu!noc.near.net!howland.reston.ans.net!agate!ames!pacbell.com!att-out!rutgers!igor.rutgers.edu!geneva.rutgers.edu!christian\\nFrom: af664@yfn.ysu.edu (Frank DeCenso, Jr.)\\nNewsgroups: soc.religion.christian\\nSubject: Re: _Christianity In Crisis_\\nMessage-ID: <May.18.00.54.53.1993.9551@geneva.rutgers.edu>\\nDate: 18 May 93 04:54:54 GMT\\nSender: hedrick@geneva.rutgers.edu\\nOrganization: Youngstown State/Youngstown Free-Net\\nLines: 371\\nApproved: christian@aramis.rutgers.edu\\n\\nFrom Bit.listserv.christia\\n\\nZane writes...\\n \\nFrom: FACN34B@SAUPM00.BITNET (zane of dhahan)\\n>Newsgroups: bit.listserv.christia\\nSubject: Christianity in Crisis\\nDate: Wed May 12 14:43:19 1993\\n \\n\\\"Frank, first of all, thanks for all of the great Scripture verses.  It\\nwas a pleasure to read them.\\\"\\n \\nMY REPLY...\\nYou are welcome, Zane.\\n \\nZane...\\n\\\"I am sure nothing that I will say will change your mind about it... but I\\nwould like to ask you if the book in question really does anything for you.\\nI mean, were you all caught up in the word/faith thing, but now that you\\nhave read the book you've been rescued from all of the error and pain that\\nwill result in your Christian life?\\\"\\n \\nMY REPLY...\\n(1) When I first became a Christian, I entered into the Word/Faith\\n    movement.  It was easy.  I wasn't grounded in the Word of God and sound\\n    doctrine.  When I visited Christian book stores, the cheapest books I\\n    could find to buy were the .50 and $1.00 books by Hagin and others.\\n    Consequently, I began receiving Hagin's monthly magazine (and they\\n    still send it to me), and also Copeland's (also, still sent to me).\\n    It wasn't until I read a booklet by Jimmy Swaggart called _Hyper Faith:\\n    The New Gnosticism_ that I began to realize the teachings I were\\n    partaking of were error.  I started reading the Bible more and studying\\n    more.  Sure enough, Jimmy was right in many points.  As part of my\\n    experience, I am alerting Christians, particularly new Christians, that\\n    these teachings are heretical and they need to do as the Bereans did in\\n    Acts 17:11 - check these teachings out with Scripture!\\n \\n(2) My brother in law was involved in a Word/Faith \\\"cult\\\" in my area - it's\\n    leader is real good friends with Benny Hinn.  Rather then going into\\n    much detail about this, suffice it to say he was deceived, mistreated, and\\n    has now fallen into atheism.  I'm still praying for him (Phil. 1:6).\\n \\n(3) The assistant pastor at the church I teach adult Sunday School in has been\\n    a `follower' of Copeland for 15 years.  He has thousands of tapes by the\\n    Faith teachers.  In the class recently, I quoted several of the teachers'\\n    heretical statements to his surprise.  Since then, I've been able to talk\\n    to him at length about these issues.\\n \\n(4) The leader of the Women's Group at my church is a Benny Hinn `fan'.\\n    Recently, I found that she has been lending _Good Morning, Holy Spirit_ to\\n    women in the church.  That prompted my quotes in Sunday School, as well as\\n    my lending CIC to people in the church.\\n \\nI'm well aware of the abuses and heresies perpetrated in this movement and\\nhave an urgency in my heart and life to warn people about the heresies.\\nWhat heresies?\\n    A. Jesus became sin - took on the very nature of the devil, and became\\n        one with him.\\n    B. Jesus' death on the cross wasn't enough to atone.\\n    C. Jesus was dragged to hell after His death, was beat and abused by\\n        Satan and demons, thus finishing our atonement.  Satan was ruling\\n        over Him there.\\n    D. Jesus was `born-again' in hell.\\n    E. Jesus died spiritually, lost His divinity, and reassumed it after\\n        the resurrection.\\n    F. We are gods.\\n \\nThese are heresies.  Documentation will be provided re: these teachings\\nupon request.\\n \\nZane...\\n\\\"Or what does it do for you?  Is it preventing you from going out and\\njoining up with the word/faith movement which you'd been contemplating\\njoining for so long, but now that you've read the book, you've been saved\\nfrom all of that?\\\"\\n \\nMY REPLY...\\nIt wasn't _Christianity In Crisis_ that helped me; it was a booklet by\\nSwaggart that I mentioned above.  But CIC is MUCH, MUCH better - tremendous\\ndocumentation and insights.\\n \\nZane...\\n\\\"I don't have a nice Scriptural answer for why I believe it is at best un-\\nprofitable for Christians to engage in this type of activity - heresy hunting.\\\"\\n \\nMY REPLY...\\nWhy do you call it \\\"heresy hunting\\\"?  \\\"Hunting\\\" implies it isn't readily\\naccessible or available.  This movement is the fastest growing movement in\\nChristendom.  Hagin has sold over 40 million books and booklets.  Hinn has sold\\nmore books in the last couple of years than Swindoll and Dobson combined.  Fred\\nPrice has the largest church in terms of seating capacity in the USA.  Doesn't\\nsound like much \\\"hunting\\\" is needed.\\n \\nIt is Scriptural to expose doctrinal error.  I gave some verses to you before.\\nMore can be given.  Most of the epistles were written due to error (doctrinal,\\npractical) in the churches.  The early church had numerous councils to expose\\nerror and heresy.  It's not a new thing.  Remember Luther?\\n \\nZane...\\n\\\"I would like to point out though, that historically those who hunt heretics\\noften end up causing a bigger mess than the heretics... but this is my un-\\ndocumented opinion.\\\"\\n \\nMY REPLY...\\n(1) If you can provide documentation, it would be appreciated.\\n(2) Read Ephesians 4:11-16, esp. vss. 13 and 14 and tell me what causes\\n    disunity and immaturity in the body.\\n \\nEPH 4:13-14 till we all come to the unity of the faith and of the knowledge of\\nthe Son of God, to a perfect man, to the measure of the stature of the fullness\\nof Christ; that we should no longer be children, tossed to and fro and carried\\nabout with every wind of doctrine, by the trickery of men, in the cunning\\ncraftiness of deceitful plotting....\\n \\nDisunity, contrary to popular opinion, isn't caused by exposing error; it's\\ncaused by error.\\n \\nZane...\\n\\\"There are many who probably give no place for seeing the Scriptures as\\ndocumenting a Spiritual development or growth in its writers - but I would\\nsuggest that the fiery Paul of the letter to the Galatians mellows and\\nmatures into the one who loses all for the sake of Love in the End.\\\"\\n \\nMY REPLY...\\nMost scholars believe Paul wrote 2 Timothy last.  Let's examine his admonitions\\nto Tim to ascertain how mellow he had become...\\n \\n2TI 1:13-15 Hold fast the pattern of sound words which you have heard from me,\\nin faith and love which are in Christ Jesus. That good thing which was\\ncommitted to you, keep by the Holy Spirit who dwells in us. This you know, that\\nall those in Asia have turned away from me, among whom are Phygellus and\\nHermogenes.\\n \\n2TI 2:15-18 Be diligent to present yourself approved to God, a worker who does\\nnot need to be ashamed, rightly dividing the word of truth. But shun profane\\nand idle babblings, for they will increase to more ungodliness. And their\\nmessage will spread like cancer. Hymenaeus and Philetus are of this sort, who\\nhave strayed concerning the truth, saying that the resurrection is already\\npast; and they overthrow the faith of some.\\n \\n2TI 2:24-26 And a servant of the Lord must not quarrel but be gentle to all,\\nable to teach, patient, in humility correcting those who are in opposition, if\\nGod perhaps will grant them repentance, so that they may know the truth, and\\nthat they may come to their senses and escape the snare of the devil, having\\nbeen taken captive by him to do his will.\\n \\n2TI 3:6-9 For of this sort are those who creep into households and make\\ncaptives of gullible women loaded down with sins, led away by various lusts,\\nalways learning and never able to come to the knowledge of the truth. Now as\\nJannes and Jambres resisted Moses, so do these also resist the truth: men of\\ncorrupt minds, disapproved concerning the faith; but they will progress no\\nfurther, for their folly will be manifest to all, as theirs also was.\\n \\n2TI 3:12-17 Yes, and all who desire to live godly in Christ Jesus will suffer\\npersecution. But evil men and impostors will grow worse and worse, deceiving\\nand being deceived. But you must continue in the things which you have learned\\nand been assured of, knowing from whom you have learned them, and that from\\nchildhood you have known the Holy Scriptures, which are able to make you wise\\nfor salvation through faith which is in Christ Jesus. All Scripture is given by\\ninspiration of God, and is profitable for doctrine, for reproof, for\\ncorrection, for instruction in righteousness, that the man of God may be\\ncomplete, thoroughly equipped for every good work.\\n \\n2TI 4:2-5 Preach the word! Be ready in season and out of season. Convince,\\nrebuke, exhort, with all longsuffering and teaching. For the time will come\\nwhen they will not endure sound doctrine, but according to their own desires,\\nbecause they have itching ears, they will heap up for themselves teachers; and\\nthey will turn their ears away from the truth, and be turned aside to fables.\\nBut you be watchful in all things, endure afflictions, do the work of an\\nevangelist, fulfill your ministry.\\n \\n2TI 4:14-15 Alexander the coppersmith did me much harm. May the Lord repay him\\naccording to his works. You also must beware of him, for he has greatly\\nresisted our words.\\n \\nZane...\\n\\\"The picture I have of Paul is not of one who goes out of his way to destroy\\nthe ministry of wolves... but of one who teaches the sheep, with many tears,\\nthe necessity of absolutely not allowing themselves to be transformed into\\nwolves to protect themselves.\\\"\\n \\nMY REPLY...\\nACT 20:26-31 \\\"Therefore I testify to you this day that I am innocent of the\\nblood of all men. \\\"For I have not shunned to declare to you the whole counsel\\nof God. \\\"Therefore take heed to yourselves and to all the flock, among which\\nthe Holy Spirit has made you overseers, to shepherd the church of God which He\\npurchased with His own blood. \\\"For I know this, that after my departure savage\\nwolves will come in among you, not sparing the flock. \\\"Also from among\\nyourselves men will rise up, speaking perverse things, to draw away the\\ndisciples after themselves. \\\"Therefore watch, and remember that for three years\\nI did not cease to warn everyone night and day with tears.\\n \\nZane...\\n\\\"For all the warning Paul does, it is of note that he never once drops a name\\nof a wolf....  - but I will admit he cries in his beard at the end over those\\nwho have abandoned him - everyone in Asia wasn't it ?\\\"\\n \\nMY REPLY...\\nPaul mentioned names...\\n \\n1TI 1:18-20 This charge I commit to you, son Timothy, according to the\\nprophecies previously made concerning you, that by them you may wage the good\\nwarfare, having faith and a good conscience, which some having rejected,\\nconcerning the faith have suffered shipwreck, of whom are Hymenaeus and\\nAlexander, whom I delivered to Satan that they may learn not to blaspheme.\\n \\n2TI 1:15 This you know, that all those in Asia have turned away from me, among\\nwhom are Phygellus and Hermogenes.\\n \\n2TI 2:16-18 But shun profane and idle babblings, for they will increase to more\\nungodliness. And their message will spread like cancer. Hymenaeus and Philetus\\nare of this sort, who have strayed concerning the truth, saying that the\\nresurrection is already past; and they overthrow the faith of some.\\n \\n2TI 4:10 for Demas has forsaken me, having loved this present world, and has\\ndeparted for Thessalonica--Crescens for Galatia, Titus for Dalmatia.\\n \\n2TI 4:14-15 Alexander the coppersmith did me much harm. May the Lord repay him\\naccording to his works. You also must beware of him, for he has greatly\\nresisted our words.\\n \\nSo did John...\\n \\n3JO 1:9-10 I wrote to the church, but Diotrephes, who loves to have the\\npreeminence among them, does not receive us. Therefore, if I come, I will call\\nto mind his deeds which he does, prating against us with malicious words. And\\nnot content with that, he himself does not receive the brethren, and forbids\\nthose who wish to, putting them out of the church.\\n \\nJesus also singled out teachings and doctrines...\\n \\nREV 2:14-16 \\\"But I have a few things against you, because you have there those\\nwho hold the doctrine of Balaam, who taught Balak to put a stumbling block\\nbefore the children of Israel, to eat things sacrificed to idols, and to commit\\nsexual immorality. \\\"Thus you also have those who hold the doctrine of the\\nNicolaitans, which thing I hate. 'Repent, or else I will come to you quickly\\nand will fight against them with the sword of My mouth.\\n \\nREV 2:20-23 \\\"Nevertheless I have a few things against you, because you allow\\nthat woman Jezebel, who calls herself a prophetess, to teach and seduce My\\nservants to commit sexual immorality and eat things sacrificed to idols. \\\"And I\\ngave her time to repent of her sexual immorality, and she did not repent.\\n\\\"Indeed I will cast her into a sickbed, and those who commit adultery with her\\ninto great tribulation, unless they repent of their deeds. \\\"I will kill her\\nchildren with death, and all the churches shall know that I am He who searches\\nthe minds and hearts. And I will give to each one of you according to your\\nworks.\\n \\nZane...\\n\\\"I question too, the purposes of those who write books and build ministries\\non the faults - deliberate or otherwise - of others.  Maybe if they would\\nwander around in the desert eating locust and honey, or barely cakes...with\\nno worldly goods at stake, money to be made, or no reputations to maintain...\\nI would question their motives - conscious or otherwise - less.\\\"\\n \\nMY REPLY...\\nI won't comment on this because it deals with the intangible motives of others.\\nBut even if they had bad motives, remember what Paul said...\\n \\nPHI 1:15-18 Some indeed preach Christ even from envy and strife, and some also\\nfrom good will: The former preach Christ from selfish ambition, not sincerely,\\nsupposing to add affliction to my chains; but the latter out of love, knowing\\nthat I am appointed for the defense of the gospel. What then? Only that in\\nevery way, whether in pretense or in truth, Christ is preached; and in this I\\nrejoice, yes, and will rejoice.\\n \\nZane...\\n\\\"If we want to be true to the admonitions of Scripture - many of which you\\nlist - about protecting ourselves and the flock from wolves and winds of\\ndoctrines, I suggest we start by allowing the wolf-program in our own noetic\\npasture to be nailed to the Cross.\\\"\\n \\nMY REPLY...\\nPlease explain.\\n \\nZane...\\n\\\"Secondly, I suggest any heresy hunting be restricted to our own fellowships -\\nwhich in the strict Scriptural sense is the local city-church.\\\"\\n \\nMY REPLY...\\nIf heresy was not being propagated over the mass media, then it may not be\\nneeded to go mass media with the exposure.  Unfortunately, heresy is being\\ntaught not just in Copeland's church or Hagin's or Hinn's or Price's, but all\\nover the radio, in print, etc.  No pastor or church leader knows what materials\\nthe sheep are feeding on outside the church.  It's imperative that leadership\\nbe made aware of this, and CIC does just that.\\n \\nAlso, let's examine a passage of Scripture...\\n* EPH 4:11 And He Himself gave some to be apostles, some prophets, some\\nevangelists, and some pastors and teachers,\\n* EPH 4:12 for the equipping of the saints for the work of ministry, for the\\nedifying of the body of Christ,\\n \\nThese ministry gifts that the Lord installs in the church are not just for one\\nindividual church, but for \\\"the body of Christ\\\".\\nPaul was an apostle - he traveled all over distilling his message.  He was also\\na teacher -\\n1CO 4:17 For this reason I have sent Timothy to you, who is my beloved and\\nfaithful son in the Lord, who will remind you of my ways in Christ, as I teach\\neverywhere in every church.\\n1CO 7:17 But as God has distributed to each one, as the Lord has called each\\none, so let him walk. And so I ordain in all the churches.\\n \\nAlso -\\n1CO 12:28 And God has appointed these in the church: first apostles, second\\nprophets, third teachers, after that miracles, then gifts of healings, helps,\\nadministrations, varieties of tongues.\\n \\n* EPH 4:13 till we all come to the unity of the faith and of the knowledge of\\nthe Son of God, to a perfect man, to the measure of the stature of the fullness\\nof Christ;\\n \\nNotice that the \\\"Five-Fold\\\" ministries are going to be around \\\"till\\\" the church\\nis in \\\"unity of the faith and of the knowledge of the Son of God to a perfect\\nman\\\".  This, I believe will not occur fully until the Lord Jesus returns (see\\n1Cor. 13:9-12).  But God wants the body to continue on maturing.  What hinders\\nmaturity and unity of the body?\\n \\n* EPH 4:14 that we should no longer be children, tossed to and fro and carried\\nabout with every wind of doctrine, by the trickery of men, in the cunning\\ncraftiness of deceitful plotting,\\n \\nIt's clear that false doctrine, integrated into the church \\\"by the trickery of\\nmen\\\" causes (1) disunity [the thing we are striving for] and (2) spiritual\\nimmaturity - the church continues in spiritual childhood when Christians are\\n\\\"tossed to and fro and carried about with every wind of doctrine\\\".\\n \\nThe \\\"Five -Fold\\\" ministry, of which there does not appear to be clear\\nScriptural denominational boundaries (\\\"pastors\\\" appear responsible for their\\nindividual flock), is to deal with these doctrines (when necessary) in their\\nstruggle to equip the body.\\n \\nAll believers are called to do this to a degree...\\nJUD 1:3-4 Beloved, while I was very diligent to write to you concerning our\\ncommon salvation, I found it necessary to write to you exhorting you to contend\\nearnestly for the faith which was once for all delivered to the saints. For\\ncertain men have crept in unnoticed, who long ago were marked out for this\\ncondemnation, ungodly men, who turn the grace of our God into lewdness and deny\\nthe only Lord God and our Lord Jesus Christ.\\n \\nZane...\\n\\\"If you'll notice, in Scripture the heresy hunters that went from Church to\\nChurch and area to area, were the \\\"bad guys\\\" and they went after the \\\"good guy\\\"\\nnamely Paul - who they considered to be the arch heretic.\\\"\\n \\nMY REPLY...\\nThey were themselves heretics trying to discredit Paul who was preaching\\ncontrary to what they taught!\\n \\nZane...\\n\\\"Let's face it, the wolves are here for a reason.  And we are here for the\\nReason.  And let's hope the wolves become sheep, and the sheep, lambs.\\\"\\n \\nMY REPLY...\\nYes!\\n2TI 2:24-26 And a servant of the Lord must not quarrel but be gentle to all,\\n                                                           ~~~~~~~~~~~~~~~~\\nable to teach, patient, in humility correcting those who are in opposition, if\\n~~~~~~~~~~~~~~~~~~~~~~~~~~~~~~~~~~~~~~~~~~~~~~~~~~~~~~~~~~~~~~~~~~~~~~~~~~  ~~\\nGod perhaps will grant them repentance, so that they may know the truth, and\\n~~~~~~~~~~~~~~~~~~~~~~~~~~~~~~~~~~~~~~\\nthat they may come to their senses and escape the snare of the devil, having\\nbeen taken captive by him to do his will.\\n \\nAMEN!\\n\\n\\nFrank\\n-- \\n\\\"If one wished to contend with Him, he could not answer Him one time out\\n of a thousand.\\\"  JOB 9:3\\n\",\n          \"Path: cantaloupe.srv.cs.cmu.edu!crabapple.srv.cs.cmu.edu!bb3.andrew.cmu.edu!news.sei.cmu.edu!cis.ohio-state.edu!zaphod.mps.ohio-state.edu!howland.reston.ans.net!agate!dog.ee.lbl.gov!network.ucsd.edu!munnari.oz.au!goanna!escargot!minyos.xx.rmit.OZ.AU!s872505\\nFrom: s872505@minyos.xx.rmit.OZ.AU (Stephen Bokor)\\nNewsgroups: comp.sys.ibm.pc.hardware\\nSubject: Re: A: DRIVE WON'T BOOT\\nMessage-ID: <1r2h10INNh3l@escargot.xx.rmit.OZ.AU>\\nDate: 21 Apr 93 04:02:40 GMT\\nReferences: <120922@netnews.upenn.edu>\\nOrganization: Royal Melbourne Institute of Technology\\nLines: 36\\nNNTP-Posting-Host: minyos.xx.rmit.oz.au\\n\\nbalog@eniac.seas.upenn.edu (Eric J Balog) writes:\\n\\n>Hi!\\n\\n>I recently switched my 3.5\\\" drive to A:. The problem is, while I can read and\\n>write to both the new A: and B: correctly, I can't boot from a floppy in A:.\\n>I've checked the CMOS settings; it is set for Floppy Seek at Boot and Boot \\n>Order A:,C:. \\n\\n>Once, I had a floppy that did not have the systems files on it in A:. I got a\\n>message telling me to put a disk systems disk in the drive. It didn't work.\\n>When I do have a systems disk in the A: drive, this is what happens:\\n>1) Power-on and Memory Test;\\n>2) A: light comes on\\n>3) B: light comes on, followed by a short beep;\\n>4) HD light comes on for an instant;\\n>5) B: light comes on again, then nothing happens\\n\\n>The light goes off, there is no disk activity of any kind, and the screen \\n>blanks. I can't even use ctrl-alt-del.\\n\\n>Any suggestions.\\n\\nHave you checked: 1/ The setting of drive A: to 1.44 M floppy.\\n\\t\\t\\t\\t\\t\\t2/ The setting of drive B: to 1.2 M foppy.\\n\\t\\t\\t\\t\\t\\t3/ The cable connecting the two drives to\\n\\t\\t\\t\\t\\t\\tthe controller card (I can't remember which\\n\\t\\t\\t\\t\\t\\ttwo wires are swapped, but they determine\\n\\t\\t\\t\\t\\t\\twhich is drive A: & b:).\\n\\nI hope this is of some help :-)\\n\\n\\nSteve\\n\\ns872505@minyos.xx.oz.au\\n\",\n          \"Path: cantaloupe.srv.cs.cmu.edu!das-news.harvard.edu!noc.near.net!howland.reston.ans.net!ira.uka.de!news.dfn.de!mailgzrz.TU-Berlin.DE!news.netmbx.de!Germany.EU.net!rz.uni-hildesheim.de!agsc!erni.escape.de!s-link.escape.de!kwgeitz\\nFrom: kwgeitz@s-link.escape.de (Karl-W. Geitz)\\nNewsgroups: comp.os.ms-windows.misc\\nSubject: Re: Data segments and memory model usage\\nMessage-ID: <50phS3ykPo@s-link.escape.de>\\nOrganization: -S-LINK-> Public Mailbox, Braunschweig, Germany\\nDate: Fri, 14 May 1993 19:24:00 +0200\\nLines: 36\\n\\nHello phjm, you wrote:\\n\\n> Firstly, does Windows 3.1 in 386 enhanced mode do anything special\\n> with DLLs that have been compiled using the large memory model?\\n\\nNo.\\n\\n> We are being told that even in 386 enhanced mode Windows\\n> will load DLLs into *real memory below 640K* and page-lock it.\\n\\nNo.\\n\\n> My second question relates to static data inside DLLs. Is there\\n> any way at all to get multiple instances of the static data\\n> segment (DGROUP?)?\\n\\nNo, but...\\n\\nYou can allocate real static data within code segments!\\nWhen you need more dynamic memory you can allocate data on the global heap.\\n\\nYou can forget most of what was written about memory management. Under 3.1\\nyou have paged virtual memory. You can lock every block without hampering\\nthe memory manager. You can use far pointer everytime without always Lock/\\nUnlocking the memory block.\\n\\nAn besides: DLL's are mostly just disguised EXE's, that happen to be called\\nby another task.\\n\\n\\nKarl.\\n\\n------------------------------------------------------------------------\\nKarl-W.Geitz, Hauptstr.50, W-3320 Salzgitter 1, kwgeitz@s-link.escape.de\\nTEL: +49-5300-6701 FAX: +49-5300-6499 CIS: 100010,204 BIX: geitzkwg\\n## CrossPoint v2.1 ##\\n\"\n        ],\n        \"semantic_type\": \"\",\n        \"description\": \"\"\n      }\n    },\n    {\n      \"column\": \"Labels\",\n      \"properties\": {\n        \"dtype\": \"category\",\n        \"num_unique_values\": 20,\n        \"samples\": [\n          \"alt.atheism\",\n          \"talk.politics.mideast\",\n          \"soc.religion.christian\"\n        ],\n        \"semantic_type\": \"\",\n        \"description\": \"\"\n      }\n    },\n    {\n      \"column\": \"len\",\n      \"properties\": {\n        \"dtype\": \"number\",\n        \"std\": 3912,\n        \"min\": 345,\n        \"max\": 161040,\n        \"num_unique_values\": 4599,\n        \"samples\": [\n          887,\n          652,\n          1163\n        ],\n        \"semantic_type\": \"\",\n        \"description\": \"\"\n      }\n    }\n  ]\n}"
            }
          },
          "metadata": {},
          "execution_count": 5
        }
      ]
    },
    {
      "cell_type": "code",
      "source": [
        "df.hist(bins=100)"
      ],
      "metadata": {
        "collapsed": true,
        "colab": {
          "base_uri": "https://localhost:8080/",
          "height": 489
        },
        "id": "5IuI8uwdD3Th",
        "outputId": "6612c23d-0b84-407f-d46b-9e7bc0cfff3c"
      },
      "execution_count": 6,
      "outputs": [
        {
          "output_type": "execute_result",
          "data": {
            "text/plain": [
              "array([[<Axes: title={'center': 'Unnamed: 0'}>,\n",
              "        <Axes: title={'center': 'len'}>]], dtype=object)"
            ]
          },
          "metadata": {},
          "execution_count": 6
        },
        {
          "output_type": "display_data",
          "data": {
            "text/plain": [
              "<Figure size 640x480 with 2 Axes>"
            ],
            "image/png": "[encoded data removed]"
          },
          "metadata": {}
        }
      ]
    },
    {
      "cell_type": "code",
      "source": [
        "df.hist('len',by='Labels',bins=100)"
      ],
      "metadata": {
        "colab": {
          "base_uri": "https://localhost:8080/",
          "height": 841
        },
        "id": "XPMJAd4BD4To",
        "outputId": "df53b15c-cc74-4a92-9aa2-eec0cf3de7bd"
      },
      "execution_count": 7,
      "outputs": [
        {
          "output_type": "execute_result",
          "data": {
            "text/plain": [
              "array([[<Axes: title={'center': 'alt.atheism'}>,\n",
              "        <Axes: title={'center': 'comp.graphics'}>,\n",
              "        <Axes: title={'center': 'comp.os.ms-windows.misc'}>,\n",
              "        <Axes: title={'center': 'comp.sys.ibm.pc.hardware'}>],\n",
              "       [<Axes: title={'center': 'comp.sys.mac.hardware'}>,\n",
              "        <Axes: title={'center': 'comp.windows.x'}>,\n",
              "        <Axes: title={'center': 'misc.forsale'}>,\n",
              "        <Axes: title={'center': 'rec.autos'}>],\n",
              "       [<Axes: title={'center': 'rec.motorcycles'}>,\n",
              "        <Axes: title={'center': 'rec.sport.baseball'}>,\n",
              "        <Axes: title={'center': 'rec.sport.hockey'}>,\n",
              "        <Axes: title={'center': 'sci.crypt'}>],\n",
              "       [<Axes: title={'center': 'sci.electronics'}>,\n",
              "        <Axes: title={'center': 'sci.med'}>,\n",
              "        <Axes: title={'center': 'sci.space'}>,\n",
              "        <Axes: title={'center': 'soc.religion.christian'}>],\n",
              "       [<Axes: title={'center': 'talk.politics.guns'}>,\n",
              "        <Axes: title={'center': 'talk.politics.mideast'}>,\n",
              "        <Axes: title={'center': 'talk.politics.misc'}>,\n",
              "        <Axes: title={'center': 'talk.religion.misc'}>]], dtype=object)"
            ]
          },
          "metadata": {},
          "execution_count": 7
        },
        {
          "output_type": "display_data",
          "data": {
            "text/plain": [
              "<Figure size 640x480 with 20 Axes>"
            ],
            "image/png": "[encoded data removed]"
          },
          "metadata": {}
        }
      ]
    },
    {
      "cell_type": "code",
      "source": [
        "df['len'].describe()"
      ],
      "metadata": {
        "colab": {
          "base_uri": "https://localhost:8080/",
          "height": 335
        },
        "id": "1HaR3g5ND7hg",
        "outputId": "a4b36e6c-f9dd-471d-b769-25a140a58319"
      },
      "execution_count": 8,
      "outputs": [
        {
          "output_type": "execute_result",
          "data": {
            "text/plain": [
              "count     19997.000000\n",
              "mean       2306.974196\n",
              "std        3912.979447\n",
              "min         345.000000\n",
              "25%        1139.000000\n",
              "50%        1600.000000\n",
              "75%        2321.000000\n",
              "max      161040.000000\n",
              "Name: len, dtype: float64"
            ],
            "text/html": [
              "<div>\n",
              "<style scoped>\n",
              "    .dataframe tbody tr th:only-of-type {\n",
              "        vertical-align: middle;\n",
              "    }\n",
              "\n",
              "    .dataframe tbody tr th {\n",
              "        vertical-align: top;\n",
              "    }\n",
              "\n",
              "    .dataframe thead th {\n",
              "        text-align: right;\n",
              "    }\n",
              "</style>\n",
              "<table border=\"1\" class=\"dataframe\">\n",
              "  <thead>\n",
              "    <tr style=\"text-align: right;\">\n",
              "      <th></th>\n",
              "      <th>len</th>\n",
              "    </tr>\n",
              "  </thead>\n",
              "  <tbody>\n",
              "    <tr>\n",
              "      <th>count</th>\n",
              "      <td>19997.000000</td>\n",
              "    </tr>\n",
              "    <tr>\n",
              "      <th>mean</th>\n",
              "      <td>2306.974196</td>\n",
              "    </tr>\n",
              "    <tr>\n",
              "      <th>std</th>\n",
              "      <td>3912.979447</td>\n",
              "    </tr>\n",
              "    <tr>\n",
              "      <th>min</th>\n",
              "      <td>345.000000</td>\n",
              "    </tr>\n",
              "    <tr>\n",
              "      <th>25%</th>\n",
              "      <td>1139.000000</td>\n",
              "    </tr>\n",
              "    <tr>\n",
              "      <th>50%</th>\n",
              "      <td>1600.000000</td>\n",
              "    </tr>\n",
              "    <tr>\n",
              "      <th>75%</th>\n",
              "      <td>2321.000000</td>\n",
              "    </tr>\n",
              "    <tr>\n",
              "      <th>max</th>\n",
              "      <td>161040.000000</td>\n",
              "    </tr>\n",
              "  </tbody>\n",
              "</table>\n",
              "</div><br><label><b>dtype:</b> float64</label>"
            ]
          },
          "metadata": {},
          "execution_count": 8
        }
      ]
    },
    {
      "cell_type": "code",
      "source": [
        "#import nltk library\n",
        "import nltk\n",
        "nltk.download('all')"
      ],
      "metadata": {
        "colab": {
          "base_uri": "https://localhost:8080/"
        },
        "id": "A1jEf9abD_ax",
        "outputId": "b6b27d34-9bd6-4a09-e2f5-6fd4db1e0205"
      },
      "execution_count": 9,
      "outputs": [
        {
          "output_type": "stream",
          "name": "stderr",
          "text": [
            "[nltk_data] Downloading collection 'all'\n",
            "[nltk_data]    | \n",
            "[nltk_data]    | Downloading package abc to /root/nltk_data...\n",
            "[nltk_data]    |   Unzipping corpora/abc.zip.\n",
            "[nltk_data]    | Downloading package alpino to /root/nltk_data...\n",
            "[nltk_data]    |   Unzipping corpora/alpino.zip.\n",
            "[nltk_data]    | Downloading package averaged_perceptron_tagger to\n",
            "[nltk_data]    |     /root/nltk_data...\n",
            "[nltk_data]    |   Unzipping taggers/averaged_perceptron_tagger.zip.\n",
            "[nltk_data]    | Downloading package averaged_perceptron_tagger_eng to\n",
            "[nltk_data]    |     /root/nltk_data...\n",
            "[nltk_data]    |   Unzipping\n",
            "[nltk_data]    |       taggers/averaged_perceptron_tagger_eng.zip.\n",
            "[nltk_data]    | Downloading package averaged_perceptron_tagger_ru to\n",
            "[nltk_data]    |     /root/nltk_data...\n",
            "[nltk_data]    |   Unzipping\n",
            "[nltk_data]    |       taggers/averaged_perceptron_tagger_ru.zip.\n",
            "[nltk_data]    | Downloading package averaged_perceptron_tagger_rus to\n",
            "[nltk_data]    |     /root/nltk_data...\n",
            "[nltk_data]    |   Unzipping\n",
            "[nltk_data]    |       taggers/averaged_perceptron_tagger_rus.zip.\n",
            "[nltk_data]    | Downloading package basque_grammars to\n",
            "[nltk_data]    |     /root/nltk_data...\n",
            "[nltk_data]    |   Unzipping grammars/basque_grammars.zip.\n",
            "[nltk_data]    | Downloading package bcp47 to /root/nltk_data...\n",
            "[nltk_data]    | Downloading package biocreative_ppi to\n",
            "[nltk_data]    |     /root/nltk_data...\n",
            "[nltk_data]    |   Unzipping corpora/biocreative_ppi.zip.\n",
            "[nltk_data]    | Downloading package bllip_wsj_no_aux to\n",
            "[nltk_data]    |     /root/nltk_data...\n",
            "[nltk_data]    |   Unzipping models/bllip_wsj_no_aux.zip.\n",
            "[nltk_data]    | Downloading package book_grammars to\n",
            "[nltk_data]    |     /root/nltk_data...\n",
            "[nltk_data]    |   Unzipping grammars/book_grammars.zip.\n",
            "[nltk_data]    | Downloading package brown to /root/nltk_data...\n",
            "[nltk_data]    |   Unzipping corpora/brown.zip.\n",
            "[nltk_data]    | Downloading package brown_tei to /root/nltk_data...\n",
            "[nltk_data]    |   Unzipping corpora/brown_tei.zip.\n",
            "[nltk_data]    | Downloading package cess_cat to /root/nltk_data...\n",
            "[nltk_data]    |   Unzipping corpora/cess_cat.zip.\n",
            "[nltk_data]    | Downloading package cess_esp to /root/nltk_data...\n",
            "[nltk_data]    |   Unzipping corpora/cess_esp.zip.\n",
            "[nltk_data]    | Downloading package chat80 to /root/nltk_data...\n",
            "[nltk_data]    |   Unzipping corpora/chat80.zip.\n",
            "[nltk_data]    | Downloading package city_database to\n",
            "[nltk_data]    |     /root/nltk_data...\n",
            "[nltk_data]    |   Unzipping corpora/city_database.zip.\n",
            "[nltk_data]    | Downloading package cmudict to /root/nltk_data...\n",
            "[nltk_data]    |   Unzipping corpora/cmudict.zip.\n",
            "[nltk_data]    | Downloading package comparative_sentences to\n",
            "[nltk_data]    |     /root/nltk_data...\n",
            "[nltk_data]    |   Unzipping corpora/comparative_sentences.zip.\n",
            "[nltk_data]    | Downloading package comtrans to /root/nltk_data...\n",
            "[nltk_data]    | Downloading package conll2000 to /root/nltk_data...\n",
            "[nltk_data]    |   Unzipping corpora/conll2000.zip.\n",
            "[nltk_data]    | Downloading package conll2002 to /root/nltk_data...\n",
            "[nltk_data]    |   Unzipping corpora/conll2002.zip.\n",
            "[nltk_data]    | Downloading package conll2007 to /root/nltk_data...\n",
            "[nltk_data]    | Downloading package crubadan to /root/nltk_data...\n",
            "[nltk_data]    |   Unzipping corpora/crubadan.zip.\n",
            "[nltk_data]    | Downloading package dependency_treebank to\n",
            "[nltk_data]    |     /root/nltk_data...\n",
            "[nltk_data]    |   Unzipping corpora/dependency_treebank.zip.\n",
            "[nltk_data]    | Downloading package dolch to /root/nltk_data...\n",
            "[nltk_data]    |   Unzipping corpora/dolch.zip.\n",
            "[nltk_data]    | Downloading package europarl_raw to\n",
            "[nltk_data]    |     /root/nltk_data...\n",
            "[nltk_data]    |   Unzipping corpora/europarl_raw.zip.\n",
            "[nltk_data]    | Downloading package extended_omw to\n",
            "[nltk_data]    |     /root/nltk_data...\n",
            "[nltk_data]    | Downloading package floresta to /root/nltk_data...\n",
            "[nltk_data]    |   Unzipping corpora/floresta.zip.\n",
            "[nltk_data]    | Downloading package framenet_v15 to\n",
            "[nltk_data]    |     /root/nltk_data...\n",
            "[nltk_data]    |   Unzipping corpora/framenet_v15.zip.\n",
            "[nltk_data]    | Downloading package framenet_v17 to\n",
            "[nltk_data]    |     /root/nltk_data...\n",
            "[nltk_data]    |   Unzipping corpora/framenet_v17.zip.\n",
            "[nltk_data]    | Downloading package gazetteers to /root/nltk_data...\n",
            "[nltk_data]    |   Unzipping corpora/gazetteers.zip.\n",
            "[nltk_data]    | Downloading package genesis to /root/nltk_data...\n",
            "[nltk_data]    |   Unzipping corpora/genesis.zip.\n",
            "[nltk_data]    | Downloading package gutenberg to /root/nltk_data...\n",
            "[nltk_data]    |   Unzipping corpora/gutenberg.zip.\n",
            "[nltk_data]    | Downloading package ieer to /root/nltk_data...\n",
            "[nltk_data]    |   Unzipping corpora/ieer.zip.\n",
            "[nltk_data]    | Downloading package inaugural to /root/nltk_data...\n",
            "[nltk_data]    |   Unzipping corpora/inaugural.zip.\n",
            "[nltk_data]    | Downloading package indian to /root/nltk_data...\n",
            "[nltk_data]    |   Unzipping corpora/indian.zip.\n",
            "[nltk_data]    | Downloading package jeita to /root/nltk_data...\n",
            "[nltk_data]    | Downloading package kimmo to /root/nltk_data...\n",
            "[nltk_data]    |   Unzipping corpora/kimmo.zip.\n",
            "[nltk_data]    | Downloading package knbc to /root/nltk_data...\n",
            "[nltk_data]    | Downloading package large_grammars to\n",
            "[nltk_data]    |     /root/nltk_data...\n",
            "[nltk_data]    |   Unzipping grammars/large_grammars.zip.\n",
            "[nltk_data]    | Downloading package lin_thesaurus to\n",
            "[nltk_data]    |     /root/nltk_data...\n",
            "[nltk_data]    |   Unzipping corpora/lin_thesaurus.zip.\n",
            "[nltk_data]    | Downloading package mac_morpho to /root/nltk_data...\n",
            "[nltk_data]    |   Unzipping corpora/mac_morpho.zip.\n",
            "[nltk_data]    | Downloading package machado to /root/nltk_data...\n",
            "[nltk_data]    | Downloading package masc_tagged to /root/nltk_data...\n",
            "[nltk_data]    | Downloading package maxent_ne_chunker to\n",
            "[nltk_data]    |     /root/nltk_data...\n",
            "[nltk_data]    |   Unzipping chunkers/maxent_ne_chunker.zip.\n",
            "[nltk_data]    | Downloading package maxent_ne_chunker_tab to\n",
            "[nltk_data]    |     /root/nltk_data...\n",
            "[nltk_data]    |   Unzipping chunkers/maxent_ne_chunker_tab.zip.\n",
            "[nltk_data]    | Downloading package maxent_treebank_pos_tagger to\n",
            "[nltk_data]    |     /root/nltk_data...\n",
            "[nltk_data]    |   Unzipping taggers/maxent_treebank_pos_tagger.zip.\n",
            "[nltk_data]    | Downloading package maxent_treebank_pos_tagger_tab to\n",
            "[nltk_data]    |     /root/nltk_data...\n",
            "[nltk_data]    |   Unzipping\n",
            "[nltk_data]    |       taggers/maxent_treebank_pos_tagger_tab.zip.\n",
            "[nltk_data]    | Downloading package moses_sample to\n",
            "[nltk_data]    |     /root/nltk_data...\n",
            "[nltk_data]    |   Unzipping models/moses_sample.zip.\n",
            "[nltk_data]    | Downloading package movie_reviews to\n",
            "[nltk_data]    |     /root/nltk_data...\n",
            "[nltk_data]    |   Unzipping corpora/movie_reviews.zip.\n",
            "[nltk_data]    | Downloading package mte_teip5 to /root/nltk_data...\n",
            "[nltk_data]    |   Unzipping corpora/mte_teip5.zip.\n",
            "[nltk_data]    | Downloading package mwa_ppdb to /root/nltk_data...\n",
            "[nltk_data]    |   Unzipping misc/mwa_ppdb.zip.\n",
            "[nltk_data]    | Downloading package names to /root/nltk_data...\n",
            "[nltk_data]    |   Unzipping corpora/names.zip.\n",
            "[nltk_data]    | Downloading package nombank.1.0 to /root/nltk_data...\n",
            "[nltk_data]    | Downloading package nonbreaking_prefixes to\n",
            "[nltk_data]    |     /root/nltk_data...\n",
            "[nltk_data]    |   Unzipping corpora/nonbreaking_prefixes.zip.\n",
            "[nltk_data]    | Downloading package nps_chat to /root/nltk_data...\n",
            "[nltk_data]    |   Unzipping corpora/nps_chat.zip.\n",
            "[nltk_data]    | Downloading package omw to /root/nltk_data...\n",
            "[nltk_data]    | Downloading package omw-1.4 to /root/nltk_data...\n",
            "[nltk_data]    | Downloading package opinion_lexicon to\n",
            "[nltk_data]    |     /root/nltk_data...\n",
            "[nltk_data]    |   Unzipping corpora/opinion_lexicon.zip.\n",
            "[nltk_data]    | Downloading package panlex_swadesh to\n",
            "[nltk_data]    |     /root/nltk_data...\n",
            "[nltk_data]    | Downloading package paradigms to /root/nltk_data...\n",
            "[nltk_data]    |   Unzipping corpora/paradigms.zip.\n",
            "[nltk_data]    | Downloading package pe08 to /root/nltk_data...\n",
            "[nltk_data]    |   Unzipping corpora/pe08.zip.\n",
            "[nltk_data]    | Downloading package perluniprops to\n",
            "[nltk_data]    |     /root/nltk_data...\n",
            "[nltk_data]    |   Unzipping misc/perluniprops.zip.\n",
            "[nltk_data]    | Downloading package pil to /root/nltk_data...\n",
            "[nltk_data]    |   Unzipping corpora/pil.zip.\n",
            "[nltk_data]    | Downloading package pl196x to /root/nltk_data...\n",
            "[nltk_data]    |   Unzipping corpora/pl196x.zip.\n",
            "[nltk_data]    | Downloading package porter_test to /root/nltk_data...\n",
            "[nltk_data]    |   Unzipping stemmers/porter_test.zip.\n",
            "[nltk_data]    | Downloading package ppattach to /root/nltk_data...\n",
            "[nltk_data]    |   Unzipping corpora/ppattach.zip.\n",
            "[nltk_data]    | Downloading package problem_reports to\n",
            "[nltk_data]    |     /root/nltk_data...\n",
            "[nltk_data]    |   Unzipping corpora/problem_reports.zip.\n",
            "[nltk_data]    | Downloading package product_reviews_1 to\n",
            "[nltk_data]    |     /root/nltk_data...\n",
            "[nltk_data]    |   Unzipping corpora/product_reviews_1.zip.\n",
            "[nltk_data]    | Downloading package product_reviews_2 to\n",
            "[nltk_data]    |     /root/nltk_data...\n",
            "[nltk_data]    |   Unzipping corpora/product_reviews_2.zip.\n",
            "[nltk_data]    | Downloading package propbank to /root/nltk_data...\n",
            "[nltk_data]    | Downloading package pros_cons to /root/nltk_data...\n",
            "[nltk_data]    |   Unzipping corpora/pros_cons.zip.\n",
            "[nltk_data]    | Downloading package ptb to /root/nltk_data...\n",
            "[nltk_data]    |   Unzipping corpora/ptb.zip.\n",
            "[nltk_data]    | Downloading package punkt to /root/nltk_data...\n",
            "[nltk_data]    |   Unzipping tokenizers/punkt.zip.\n",
            "[nltk_data]    | Downloading package punkt_tab to /root/nltk_data...\n",
            "[nltk_data]    |   Unzipping tokenizers/punkt_tab.zip.\n",
            "[nltk_data]    | Downloading package qc to /root/nltk_data...\n",
            "[nltk_data]    |   Unzipping corpora/qc.zip.\n",
            "[nltk_data]    | Downloading package reuters to /root/nltk_data...\n",
            "[nltk_data]    | Downloading package rslp to /root/nltk_data...\n",
            "[nltk_data]    |   Unzipping stemmers/rslp.zip.\n",
            "[nltk_data]    | Downloading package rte to /root/nltk_data...\n",
            "[nltk_data]    |   Unzipping corpora/rte.zip.\n",
            "[nltk_data]    | Downloading package sample_grammars to\n",
            "[nltk_data]    |     /root/nltk_data...\n",
            "[nltk_data]    |   Unzipping grammars/sample_grammars.zip.\n",
            "[nltk_data]    | Downloading package semcor to /root/nltk_data...\n",
            "[nltk_data]    | Downloading package senseval to /root/nltk_data...\n",
            "[nltk_data]    |   Unzipping corpora/senseval.zip.\n",
            "[nltk_data]    | Downloading package sentence_polarity to\n",
            "[nltk_data]    |     /root/nltk_data...\n",
            "[nltk_data]    |   Unzipping corpora/sentence_polarity.zip.\n",
            "[nltk_data]    | Downloading package sentiwordnet to\n",
            "[nltk_data]    |     /root/nltk_data...\n",
            "[nltk_data]    |   Unzipping corpora/sentiwordnet.zip.\n",
            "[nltk_data]    | Downloading package shakespeare to /root/nltk_data...\n",
            "[nltk_data]    |   Unzipping corpora/shakespeare.zip.\n",
            "[nltk_data]    | Downloading package sinica_treebank to\n",
            "[nltk_data]    |     /root/nltk_data...\n",
            "[nltk_data]    |   Unzipping corpora/sinica_treebank.zip.\n",
            "[nltk_data]    | Downloading package smultron to /root/nltk_data...\n",
            "[nltk_data]    |   Unzipping corpora/smultron.zip.\n",
            "[nltk_data]    | Downloading package snowball_data to\n",
            "[nltk_data]    |     /root/nltk_data...\n",
            "[nltk_data]    | Downloading package spanish_grammars to\n",
            "[nltk_data]    |     /root/nltk_data...\n",
            "[nltk_data]    |   Unzipping grammars/spanish_grammars.zip.\n",
            "[nltk_data]    | Downloading package state_union to /root/nltk_data...\n",
            "[nltk_data]    |   Unzipping corpora/state_union.zip.\n",
            "[nltk_data]    | Downloading package stopwords to /root/nltk_data...\n",
            "[nltk_data]    |   Unzipping corpora/stopwords.zip.\n",
            "[nltk_data]    | Downloading package subjectivity to\n",
            "[nltk_data]    |     /root/nltk_data...\n",
            "[nltk_data]    |   Unzipping corpora/subjectivity.zip.\n",
            "[nltk_data]    | Downloading package swadesh to /root/nltk_data...\n",
            "[nltk_data]    |   Unzipping corpora/swadesh.zip.\n",
            "[nltk_data]    | Downloading package switchboard to /root/nltk_data...\n",
            "[nltk_data]    |   Unzipping corpora/switchboard.zip.\n",
            "[nltk_data]    | Downloading package tagsets to /root/nltk_data...\n",
            "[nltk_data]    |   Unzipping help/tagsets.zip.\n",
            "[nltk_data]    | Downloading package tagsets_json to\n",
            "[nltk_data]    |     /root/nltk_data...\n",
            "[nltk_data]    |   Unzipping help/tagsets_json.zip.\n",
            "[nltk_data]    | Downloading package timit to /root/nltk_data...\n",
            "[nltk_data]    |   Unzipping corpora/timit.zip.\n",
            "[nltk_data]    | Downloading package toolbox to /root/nltk_data...\n",
            "[nltk_data]    |   Unzipping corpora/toolbox.zip.\n",
            "[nltk_data]    | Downloading package treebank to /root/nltk_data...\n",
            "[nltk_data]    |   Unzipping corpora/treebank.zip.\n",
            "[nltk_data]    | Downloading package twitter_samples to\n",
            "[nltk_data]    |     /root/nltk_data...\n",
            "[nltk_data]    |   Unzipping corpora/twitter_samples.zip.\n",
            "[nltk_data]    | Downloading package udhr to /root/nltk_data...\n",
            "[nltk_data]    |   Unzipping corpora/udhr.zip.\n",
            "[nltk_data]    | Downloading package udhr2 to /root/nltk_data...\n",
            "[nltk_data]    |   Unzipping corpora/udhr2.zip.\n",
            "[nltk_data]    | Downloading package unicode_samples to\n",
            "[nltk_data]    |     /root/nltk_data...\n",
            "[nltk_data]    |   Unzipping corpora/unicode_samples.zip.\n",
            "[nltk_data]    | Downloading package universal_tagset to\n",
            "[nltk_data]    |     /root/nltk_data...\n",
            "[nltk_data]    |   Unzipping taggers/universal_tagset.zip.\n",
            "[nltk_data]    | Downloading package universal_treebanks_v20 to\n",
            "[nltk_data]    |     /root/nltk_data...\n",
            "[nltk_data]    | Downloading package vader_lexicon to\n",
            "[nltk_data]    |     /root/nltk_data...\n",
            "[nltk_data]    | Downloading package verbnet to /root/nltk_data...\n",
            "[nltk_data]    |   Unzipping corpora/verbnet.zip.\n",
            "[nltk_data]    | Downloading package verbnet3 to /root/nltk_data...\n",
            "[nltk_data]    |   Unzipping corpora/verbnet3.zip.\n",
            "[nltk_data]    | Downloading package webtext to /root/nltk_data...\n",
            "[nltk_data]    |   Unzipping corpora/webtext.zip.\n",
            "[nltk_data]    | Downloading package wmt15_eval to /root/nltk_data...\n",
            "[nltk_data]    |   Unzipping models/wmt15_eval.zip.\n",
            "[nltk_data]    | Downloading package word2vec_sample to\n",
            "[nltk_data]    |     /root/nltk_data...\n",
            "[nltk_data]    |   Unzipping models/word2vec_sample.zip.\n",
            "[nltk_data]    | Downloading package wordnet to /root/nltk_data...\n",
            "[nltk_data]    | Downloading package wordnet2021 to /root/nltk_data...\n",
            "[nltk_data]    | Downloading package wordnet2022 to /root/nltk_data...\n",
            "[nltk_data]    |   Unzipping corpora/wordnet2022.zip.\n",
            "[nltk_data]    | Downloading package wordnet31 to /root/nltk_data...\n",
            "[nltk_data]    | Downloading package wordnet_ic to /root/nltk_data...\n",
            "[nltk_data]    |   Unzipping corpora/wordnet_ic.zip.\n",
            "[nltk_data]    | Downloading package words to /root/nltk_data...\n",
            "[nltk_data]    |   Unzipping corpora/words.zip.\n",
            "[nltk_data]    | Downloading package ycoe to /root/nltk_data...\n",
            "[nltk_data]    |   Unzipping corpora/ycoe.zip.\n",
            "[nltk_data]    | \n",
            "[nltk_data]  Done downloading collection all\n"
          ]
        },
        {
          "output_type": "execute_result",
          "data": {
            "text/plain": [
              "True"
            ]
          },
          "metadata": {},
          "execution_count": 9
        }
      ]
    },
    {
      "cell_type": "code",
      "source": [
        "!pip install spacy"
      ],
      "metadata": {
        "colab": {
          "base_uri": "https://localhost:8080/"
        },
        "id": "DXk2Df15EB8B",
        "outputId": "0927d1a3-adb5-428c-c2c2-9eb54772358c"
      },
      "execution_count": 10,
      "outputs": [
        {
          "output_type": "stream",
          "name": "stdout",
          "text": [
            "Requirement already satisfied: spacy in /usr/local/lib/python3.10/dist-packages (3.7.6)\n",
            "Requirement already satisfied: spacy-legacy<3.1.0,>=3.0.11 in /usr/local/lib/python3.10/dist-packages (from spacy) (3.0.12)\n",
            "Requirement already satisfied: spacy-loggers<2.0.0,>=1.0.0 in /usr/local/lib/python3.10/dist-packages (from spacy) (1.0.5)\n",
            "Requirement already satisfied: murmurhash<1.1.0,>=0.28.0 in /usr/local/lib/python3.10/dist-packages (from spacy) (1.0.10)\n",
            "Requirement already satisfied: cymem<2.1.0,>=2.0.2 in /usr/local/lib/python3.10/dist-packages (from spacy) (2.0.8)\n",
            "Requirement already satisfied: preshed<3.1.0,>=3.0.2 in /usr/local/lib/python3.10/dist-packages (from spacy) (3.0.9)\n",
            "Requirement already satisfied: thinc<8.3.0,>=8.2.2 in /usr/local/lib/python3.10/dist-packages (from spacy) (8.2.5)\n",
            "Requirement already satisfied: wasabi<1.2.0,>=0.9.1 in /usr/local/lib/python3.10/dist-packages (from spacy) (1.1.3)\n",
            "Requirement already satisfied: srsly<3.0.0,>=2.4.3 in /usr/local/lib/python3.10/dist-packages (from spacy) (2.4.8)\n",
            "Requirement already satisfied: catalogue<2.1.0,>=2.0.6 in /usr/local/lib/python3.10/dist-packages (from spacy) (2.0.10)\n",
            "Requirement already satisfied: weasel<0.5.0,>=0.1.0 in /usr/local/lib/python3.10/dist-packages (from spacy) (0.4.1)\n",
            "Requirement already satisfied: typer<1.0.0,>=0.3.0 in /usr/local/lib/python3.10/dist-packages (from spacy) (0.12.5)\n",
            "Requirement already satisfied: tqdm<5.0.0,>=4.38.0 in /usr/local/lib/python3.10/dist-packages (from spacy) (4.66.5)\n",
            "Requirement already satisfied: requests<3.0.0,>=2.13.0 in /usr/local/lib/python3.10/dist-packages (from spacy) (2.32.3)\n",
            "Requirement already satisfied: pydantic!=1.8,!=1.8.1,<3.0.0,>=1.7.4 in /usr/local/lib/python3.10/dist-packages (from spacy) (2.9.1)\n",
            "Requirement already satisfied: jinja2 in /usr/local/lib/python3.10/dist-packages (from spacy) (3.1.4)\n",
            "Requirement already satisfied: setuptools in /usr/local/lib/python3.10/dist-packages (from spacy) (71.0.4)\n",
            "Requirement already satisfied: packaging>=20.0 in /usr/local/lib/python3.10/dist-packages (from spacy) (24.1)\n",
            "Requirement already satisfied: langcodes<4.0.0,>=3.2.0 in /usr/local/lib/python3.10/dist-packages (from spacy) (3.4.0)\n",
            "Requirement already satisfied: numpy>=1.19.0 in /usr/local/lib/python3.10/dist-packages (from spacy) (1.26.4)\n",
            "Requirement already satisfied: language-data>=1.2 in /usr/local/lib/python3.10/dist-packages (from langcodes<4.0.0,>=3.2.0->spacy) (1.2.0)\n",
            "Requirement already satisfied: annotated-types>=0.6.0 in /usr/local/lib/python3.10/dist-packages (from pydantic!=1.8,!=1.8.1,<3.0.0,>=1.7.4->spacy) (0.7.0)\n",
            "Requirement already satisfied: pydantic-core==2.23.3 in /usr/local/lib/python3.10/dist-packages (from pydantic!=1.8,!=1.8.1,<3.0.0,>=1.7.4->spacy) (2.23.3)\n",
            "Requirement already satisfied: typing-extensions>=4.6.1 in /usr/local/lib/python3.10/dist-packages (from pydantic!=1.8,!=1.8.1,<3.0.0,>=1.7.4->spacy) (4.12.2)\n",
            "Requirement already satisfied: charset-normalizer<4,>=2 in /usr/local/lib/python3.10/dist-packages (from requests<3.0.0,>=2.13.0->spacy) (3.3.2)\n",
            "Requirement already satisfied: idna<4,>=2.5 in /usr/local/lib/python3.10/dist-packages (from requests<3.0.0,>=2.13.0->spacy) (3.8)\n",
            "Requirement already satisfied: urllib3<3,>=1.21.1 in /usr/local/lib/python3.10/dist-packages (from requests<3.0.0,>=2.13.0->spacy) (2.0.7)\n",
            "Requirement already satisfied: certifi>=2017.4.17 in /usr/local/lib/python3.10/dist-packages (from requests<3.0.0,>=2.13.0->spacy) (2024.8.30)\n",
            "Requirement already satisfied: blis<0.8.0,>=0.7.8 in /usr/local/lib/python3.10/dist-packages (from thinc<8.3.0,>=8.2.2->spacy) (0.7.11)\n",
            "Requirement already satisfied: confection<1.0.0,>=0.0.1 in /usr/local/lib/python3.10/dist-packages (from thinc<8.3.0,>=8.2.2->spacy) (0.1.5)\n",
            "Requirement already satisfied: click>=8.0.0 in /usr/local/lib/python3.10/dist-packages (from typer<1.0.0,>=0.3.0->spacy) (8.1.7)\n",
            "Requirement already satisfied: shellingham>=1.3.0 in /usr/local/lib/python3.10/dist-packages (from typer<1.0.0,>=0.3.0->spacy) (1.5.4)\n",
            "Requirement already satisfied: rich>=10.11.0 in /usr/local/lib/python3.10/dist-packages (from typer<1.0.0,>=0.3.0->spacy) (13.8.1)\n",
            "Requirement already satisfied: cloudpathlib<1.0.0,>=0.7.0 in /usr/local/lib/python3.10/dist-packages (from weasel<0.5.0,>=0.1.0->spacy) (0.19.0)\n",
            "Requirement already satisfied: smart-open<8.0.0,>=5.2.1 in /usr/local/lib/python3.10/dist-packages (from weasel<0.5.0,>=0.1.0->spacy) (7.0.4)\n",
            "Requirement already satisfied: MarkupSafe>=2.0 in /usr/local/lib/python3.10/dist-packages (from jinja2->spacy) (2.1.5)\n",
            "Requirement already satisfied: marisa-trie>=0.7.7 in /usr/local/lib/python3.10/dist-packages (from language-data>=1.2->langcodes<4.0.0,>=3.2.0->spacy) (1.2.0)\n",
            "Requirement already satisfied: markdown-it-py>=2.2.0 in /usr/local/lib/python3.10/dist-packages (from rich>=10.11.0->typer<1.0.0,>=0.3.0->spacy) (3.0.0)\n",
            "Requirement already satisfied: pygments<3.0.0,>=2.13.0 in /usr/local/lib/python3.10/dist-packages (from rich>=10.11.0->typer<1.0.0,>=0.3.0->spacy) (2.16.1)\n",
            "Requirement already satisfied: wrapt in /usr/local/lib/python3.10/dist-packages (from smart-open<8.0.0,>=5.2.1->weasel<0.5.0,>=0.1.0->spacy) (1.16.0)\n",
            "Requirement already satisfied: mdurl~=0.1 in /usr/local/lib/python3.10/dist-packages (from markdown-it-py>=2.2.0->rich>=10.11.0->typer<1.0.0,>=0.3.0->spacy) (0.1.2)\n"
          ]
        }
      ]
    },
    {
      "cell_type": "code",
      "source": [
        "!pip install wordcloud"
      ],
      "metadata": {
        "colab": {
          "base_uri": "https://localhost:8080/"
        },
        "id": "8_B7hPtOEev6",
        "outputId": "9be42d8e-dacb-48bd-86f3-2617917b229a"
      },
      "execution_count": 11,
      "outputs": [
        {
          "output_type": "stream",
          "name": "stdout",
          "text": [
            "Requirement already satisfied: wordcloud in /usr/local/lib/python3.10/dist-packages (1.9.3)\n",
            "Requirement already satisfied: numpy>=1.6.1 in /usr/local/lib/python3.10/dist-packages (from wordcloud) (1.26.4)\n",
            "Requirement already satisfied: pillow in /usr/local/lib/python3.10/dist-packages (from wordcloud) (9.4.0)\n",
            "Requirement already satisfied: matplotlib in /usr/local/lib/python3.10/dist-packages (from wordcloud) (3.7.1)\n",
            "Requirement already satisfied: contourpy>=1.0.1 in /usr/local/lib/python3.10/dist-packages (from matplotlib->wordcloud) (1.3.0)\n",
            "Requirement already satisfied: cycler>=0.10 in /usr/local/lib/python3.10/dist-packages (from matplotlib->wordcloud) (0.12.1)\n",
            "Requirement already satisfied: fonttools>=4.22.0 in /usr/local/lib/python3.10/dist-packages (from matplotlib->wordcloud) (4.53.1)\n",
            "Requirement already satisfied: kiwisolver>=1.0.1 in /usr/local/lib/python3.10/dist-packages (from matplotlib->wordcloud) (1.4.7)\n",
            "Requirement already satisfied: packaging>=20.0 in /usr/local/lib/python3.10/dist-packages (from matplotlib->wordcloud) (24.1)\n",
            "Requirement already satisfied: pyparsing>=2.3.1 in /usr/local/lib/python3.10/dist-packages (from matplotlib->wordcloud) (3.1.4)\n",
            "Requirement already satisfied: python-dateutil>=2.7 in /usr/local/lib/python3.10/dist-packages (from matplotlib->wordcloud) (2.8.2)\n",
            "Requirement already satisfied: six>=1.5 in /usr/local/lib/python3.10/dist-packages (from python-dateutil>=2.7->matplotlib->wordcloud) (1.16.0)\n"
          ]
        }
      ]
    },
    {
      "cell_type": "code",
      "source": [
        "!python -m spacy download en_core_web_sm"
      ],
      "metadata": {
        "colab": {
          "base_uri": "https://localhost:8080/"
        },
        "id": "Y209vSN-EjTR",
        "outputId": "cb184f7c-2a7e-4f9b-f38b-6792a2d2dbe6"
      },
      "execution_count": 12,
      "outputs": [
        {
          "output_type": "stream",
          "name": "stdout",
          "text": [
            "Collecting en-core-web-sm==3.7.1\n",
            "  Downloading https://github.com/explosion/spacy-models/releases/download/en_core_web_sm-3.7.1/en_core_web_sm-3.7.1-py3-none-any.whl (12.8 MB)\n",
            "\u001b[2K     \u001b[90m━━━━━━━━━━━━━━━━━━━━━━━━━━━━━━━━━━━━━━━━\u001b[0m \u001b[32m12.8/12.8 MB\u001b[0m \u001b[31m34.6 MB/s\u001b[0m eta \u001b[36m0:00:00\u001b[0m\n",
            "\u001b[?25hRequirement already satisfied: spacy<3.8.0,>=3.7.2 in /usr/local/lib/python3.10/dist-packages (from en-core-web-sm==3.7.1) (3.7.6)\n",
            "Requirement already satisfied: spacy-legacy<3.1.0,>=3.0.11 in /usr/local/lib/python3.10/dist-packages (from spacy<3.8.0,>=3.7.2->en-core-web-sm==3.7.1) (3.0.12)\n",
            "Requirement already satisfied: spacy-loggers<2.0.0,>=1.0.0 in /usr/local/lib/python3.10/dist-packages (from spacy<3.8.0,>=3.7.2->en-core-web-sm==3.7.1) (1.0.5)\n",
            "Requirement already satisfied: murmurhash<1.1.0,>=0.28.0 in /usr/local/lib/python3.10/dist-packages (from spacy<3.8.0,>=3.7.2->en-core-web-sm==3.7.1) (1.0.10)\n",
            "Requirement already satisfied: cymem<2.1.0,>=2.0.2 in /usr/local/lib/python3.10/dist-packages (from spacy<3.8.0,>=3.7.2->en-core-web-sm==3.7.1) (2.0.8)\n",
            "Requirement already satisfied: preshed<3.1.0,>=3.0.2 in /usr/local/lib/python3.10/dist-packages (from spacy<3.8.0,>=3.7.2->en-core-web-sm==3.7.1) (3.0.9)\n",
            "Requirement already satisfied: thinc<8.3.0,>=8.2.2 in /usr/local/lib/python3.10/dist-packages (from spacy<3.8.0,>=3.7.2->en-core-web-sm==3.7.1) (8.2.5)\n",
            "Requirement already satisfied: wasabi<1.2.0,>=0.9.1 in /usr/local/lib/python3.10/dist-packages (from spacy<3.8.0,>=3.7.2->en-core-web-sm==3.7.1) (1.1.3)\n",
            "Requirement already satisfied: srsly<3.0.0,>=2.4.3 in /usr/local/lib/python3.10/dist-packages (from spacy<3.8.0,>=3.7.2->en-core-web-sm==3.7.1) (2.4.8)\n",
            "Requirement already satisfied: catalogue<2.1.0,>=2.0.6 in /usr/local/lib/python3.10/dist-packages (from spacy<3.8.0,>=3.7.2->en-core-web-sm==3.7.1) (2.0.10)\n",
            "Requirement already satisfied: weasel<0.5.0,>=0.1.0 in /usr/local/lib/python3.10/dist-packages (from spacy<3.8.0,>=3.7.2->en-core-web-sm==3.7.1) (0.4.1)\n",
            "Requirement already satisfied: typer<1.0.0,>=0.3.0 in /usr/local/lib/python3.10/dist-packages (from spacy<3.8.0,>=3.7.2->en-core-web-sm==3.7.1) (0.12.5)\n",
            "Requirement already satisfied: tqdm<5.0.0,>=4.38.0 in /usr/local/lib/python3.10/dist-packages (from spacy<3.8.0,>=3.7.2->en-core-web-sm==3.7.1) (4.66.5)\n",
            "Requirement already satisfied: requests<3.0.0,>=2.13.0 in /usr/local/lib/python3.10/dist-packages (from spacy<3.8.0,>=3.7.2->en-core-web-sm==3.7.1) (2.32.3)\n",
            "Requirement already satisfied: pydantic!=1.8,!=1.8.1,<3.0.0,>=1.7.4 in /usr/local/lib/python3.10/dist-packages (from spacy<3.8.0,>=3.7.2->en-core-web-sm==3.7.1) (2.9.1)\n",
            "Requirement already satisfied: jinja2 in /usr/local/lib/python3.10/dist-packages (from spacy<3.8.0,>=3.7.2->en-core-web-sm==3.7.1) (3.1.4)\n",
            "Requirement already satisfied: setuptools in /usr/local/lib/python3.10/dist-packages (from spacy<3.8.0,>=3.7.2->en-core-web-sm==3.7.1) (71.0.4)\n",
            "Requirement already satisfied: packaging>=20.0 in /usr/local/lib/python3.10/dist-packages (from spacy<3.8.0,>=3.7.2->en-core-web-sm==3.7.1) (24.1)\n",
            "Requirement already satisfied: langcodes<4.0.0,>=3.2.0 in /usr/local/lib/python3.10/dist-packages (from spacy<3.8.0,>=3.7.2->en-core-web-sm==3.7.1) (3.4.0)\n",
            "Requirement already satisfied: numpy>=1.19.0 in /usr/local/lib/python3.10/dist-packages (from spacy<3.8.0,>=3.7.2->en-core-web-sm==3.7.1) (1.26.4)\n",
            "Requirement already satisfied: language-data>=1.2 in /usr/local/lib/python3.10/dist-packages (from langcodes<4.0.0,>=3.2.0->spacy<3.8.0,>=3.7.2->en-core-web-sm==3.7.1) (1.2.0)\n",
            "Requirement already satisfied: annotated-types>=0.6.0 in /usr/local/lib/python3.10/dist-packages (from pydantic!=1.8,!=1.8.1,<3.0.0,>=1.7.4->spacy<3.8.0,>=3.7.2->en-core-web-sm==3.7.1) (0.7.0)\n",
            "Requirement already satisfied: pydantic-core==2.23.3 in /usr/local/lib/python3.10/dist-packages (from pydantic!=1.8,!=1.8.1,<3.0.0,>=1.7.4->spacy<3.8.0,>=3.7.2->en-core-web-sm==3.7.1) (2.23.3)\n",
            "Requirement already satisfied: typing-extensions>=4.6.1 in /usr/local/lib/python3.10/dist-packages (from pydantic!=1.8,!=1.8.1,<3.0.0,>=1.7.4->spacy<3.8.0,>=3.7.2->en-core-web-sm==3.7.1) (4.12.2)\n",
            "Requirement already satisfied: charset-normalizer<4,>=2 in /usr/local/lib/python3.10/dist-packages (from requests<3.0.0,>=2.13.0->spacy<3.8.0,>=3.7.2->en-core-web-sm==3.7.1) (3.3.2)\n",
            "Requirement already satisfied: idna<4,>=2.5 in /usr/local/lib/python3.10/dist-packages (from requests<3.0.0,>=2.13.0->spacy<3.8.0,>=3.7.2->en-core-web-sm==3.7.1) (3.8)\n",
            "Requirement already satisfied: urllib3<3,>=1.21.1 in /usr/local/lib/python3.10/dist-packages (from requests<3.0.0,>=2.13.0->spacy<3.8.0,>=3.7.2->en-core-web-sm==3.7.1) (2.0.7)\n",
            "Requirement already satisfied: certifi>=2017.4.17 in /usr/local/lib/python3.10/dist-packages (from requests<3.0.0,>=2.13.0->spacy<3.8.0,>=3.7.2->en-core-web-sm==3.7.1) (2024.8.30)\n",
            "Requirement already satisfied: blis<0.8.0,>=0.7.8 in /usr/local/lib/python3.10/dist-packages (from thinc<8.3.0,>=8.2.2->spacy<3.8.0,>=3.7.2->en-core-web-sm==3.7.1) (0.7.11)\n",
            "Requirement already satisfied: confection<1.0.0,>=0.0.1 in /usr/local/lib/python3.10/dist-packages (from thinc<8.3.0,>=8.2.2->spacy<3.8.0,>=3.7.2->en-core-web-sm==3.7.1) (0.1.5)\n",
            "Requirement already satisfied: click>=8.0.0 in /usr/local/lib/python3.10/dist-packages (from typer<1.0.0,>=0.3.0->spacy<3.8.0,>=3.7.2->en-core-web-sm==3.7.1) (8.1.7)\n",
            "Requirement already satisfied: shellingham>=1.3.0 in /usr/local/lib/python3.10/dist-packages (from typer<1.0.0,>=0.3.0->spacy<3.8.0,>=3.7.2->en-core-web-sm==3.7.1) (1.5.4)\n",
            "Requirement already satisfied: rich>=10.11.0 in /usr/local/lib/python3.10/dist-packages (from typer<1.0.0,>=0.3.0->spacy<3.8.0,>=3.7.2->en-core-web-sm==3.7.1) (13.8.1)\n",
            "Requirement already satisfied: cloudpathlib<1.0.0,>=0.7.0 in /usr/local/lib/python3.10/dist-packages (from weasel<0.5.0,>=0.1.0->spacy<3.8.0,>=3.7.2->en-core-web-sm==3.7.1) (0.19.0)\n",
            "Requirement already satisfied: smart-open<8.0.0,>=5.2.1 in /usr/local/lib/python3.10/dist-packages (from weasel<0.5.0,>=0.1.0->spacy<3.8.0,>=3.7.2->en-core-web-sm==3.7.1) (7.0.4)\n",
            "Requirement already satisfied: MarkupSafe>=2.0 in /usr/local/lib/python3.10/dist-packages (from jinja2->spacy<3.8.0,>=3.7.2->en-core-web-sm==3.7.1) (2.1.5)\n",
            "Requirement already satisfied: marisa-trie>=0.7.7 in /usr/local/lib/python3.10/dist-packages (from language-data>=1.2->langcodes<4.0.0,>=3.2.0->spacy<3.8.0,>=3.7.2->en-core-web-sm==3.7.1) (1.2.0)\n",
            "Requirement already satisfied: markdown-it-py>=2.2.0 in /usr/local/lib/python3.10/dist-packages (from rich>=10.11.0->typer<1.0.0,>=0.3.0->spacy<3.8.0,>=3.7.2->en-core-web-sm==3.7.1) (3.0.0)\n",
            "Requirement already satisfied: pygments<3.0.0,>=2.13.0 in /usr/local/lib/python3.10/dist-packages (from rich>=10.11.0->typer<1.0.0,>=0.3.0->spacy<3.8.0,>=3.7.2->en-core-web-sm==3.7.1) (2.16.1)\n",
            "Requirement already satisfied: wrapt in /usr/local/lib/python3.10/dist-packages (from smart-open<8.0.0,>=5.2.1->weasel<0.5.0,>=0.1.0->spacy<3.8.0,>=3.7.2->en-core-web-sm==3.7.1) (1.16.0)\n",
            "Requirement already satisfied: mdurl~=0.1 in /usr/local/lib/python3.10/dist-packages (from markdown-it-py>=2.2.0->rich>=10.11.0->typer<1.0.0,>=0.3.0->spacy<3.8.0,>=3.7.2->en-core-web-sm==3.7.1) (0.1.2)\n",
            "\u001b[38;5;2m✔ Download and installation successful\u001b[0m\n",
            "You can now load the package via spacy.load('en_core_web_sm')\n",
            "\u001b[38;5;3m⚠ Restart to reload dependencies\u001b[0m\n",
            "If you are in a Jupyter or Colab notebook, you may need to restart Python in\n",
            "order to load all the package's dependencies. You can do this by selecting the\n",
            "'Restart kernel' or 'Restart runtime' option.\n"
          ]
        }
      ]
    },
    {
      "cell_type": "code",
      "source": [
        "nltk.download('punkt')"
      ],
      "metadata": {
        "colab": {
          "base_uri": "https://localhost:8080/"
        },
        "id": "HJQZ0tRGEmPx",
        "outputId": "a8431169-de01-43da-975c-0e6af8493027"
      },
      "execution_count": 13,
      "outputs": [
        {
          "output_type": "stream",
          "name": "stderr",
          "text": [
            "[nltk_data] Downloading package punkt to /root/nltk_data...\n",
            "[nltk_data]   Package punkt is already up-to-date!\n"
          ]
        },
        {
          "output_type": "execute_result",
          "data": {
            "text/plain": [
              "True"
            ]
          },
          "metadata": {},
          "execution_count": 13
        }
      ]
    },
    {
      "cell_type": "code",
      "source": [
        "nltk.download('stopwords')"
      ],
      "metadata": {
        "colab": {
          "base_uri": "https://localhost:8080/"
        },
        "id": "TFYDJy5KEtSi",
        "outputId": "98f35f2b-6471-4579-f040-72eac96f2ad7"
      },
      "execution_count": 14,
      "outputs": [
        {
          "output_type": "stream",
          "name": "stderr",
          "text": [
            "[nltk_data] Downloading package stopwords to /root/nltk_data...\n",
            "[nltk_data]   Package stopwords is already up-to-date!\n"
          ]
        },
        {
          "output_type": "execute_result",
          "data": {
            "text/plain": [
              "True"
            ]
          },
          "metadata": {},
          "execution_count": 14
        }
      ]
    },
    {
      "cell_type": "code",
      "source": [
        "import re\n",
        "import nltk\n",
        "from nltk.corpus import stopwords\n",
        "from sklearn.feature_extraction.text import TfidfVectorizer\n",
        "from sklearn.model_selection import train_test_split\n",
        "from sklearn.naive_bayes import MultinomialNB\n",
        "from sklearn.metrics import accuracy_score,classification_report"
      ],
      "metadata": {
        "id": "j3ydERn-EvWj"
      },
      "execution_count": 15,
      "outputs": []
    },
    {
      "cell_type": "code",
      "source": [
        "def preprocess_text(text):\n",
        "    # Convert text to lowercase\n",
        "    text = text.lower()\n",
        "    # Remove punctuation\n",
        "    text = re.sub(r'[^\\w\\s]', '', text)\n",
        "    # Tokenization\n",
        "    tokens = nltk.word_tokenize(text)\n",
        "    # Remove stopwords\n",
        "    stopwords_list = set(stopwords.words('english'))\n",
        "    tokens = [word for word in tokens if word not in stopwords_list]\n",
        "    # Join tokens back into text\n",
        "    text = ' '.join(tokens)\n",
        "    return text"
      ],
      "metadata": {
        "id": "wBvBExSyEv1E"
      },
      "execution_count": 16,
      "outputs": []
    },
    {
      "cell_type": "code",
      "source": [
        "#Apply text preprocessing to the 'text' column\n",
        "df['cleaned_text']=df['Data'].apply(preprocess_text)"
      ],
      "metadata": {
        "id": "il6cVIBREz0h"
      },
      "execution_count": 17,
      "outputs": []
    },
    {
      "cell_type": "code",
      "source": [
        "#Feature extraction using TF-IDF\n",
        "tfidf_vec=TfidfVectorizer(max_features=5000)\n",
        "tfidf_vec"
      ],
      "metadata": {
        "colab": {
          "base_uri": "https://localhost:8080/",
          "height": 52
        },
        "id": "gb5r0z8WE0Sz",
        "outputId": "52e9dd25-8b74-45f6-aed6-2f89cc6f1e24"
      },
      "execution_count": 18,
      "outputs": [
        {
          "output_type": "execute_result",
          "data": {
            "text/plain": [
              "TfidfVectorizer(max_features=5000)"
            ],
            "text/html": [
              "<style>#sk-container-id-1 {color: black;}#sk-container-id-1 pre{padding: 0;}#sk-container-id-1 div.sk-toggleable {background-color: white;}#sk-container-id-1 label.sk-toggleable__label {cursor: pointer;display: block;width: 100%;margin-bottom: 0;padding: 0.3em;box-sizing: border-box;text-align: center;}#sk-container-id-1 label.sk-toggleable__label-arrow:before {content: \"▸\";float: left;margin-right: 0.25em;color: #696969;}#sk-container-id-1 label.sk-toggleable__label-arrow:hover:before {color: black;}#sk-container-id-1 div.sk-estimator:hover label.sk-toggleable__label-arrow:before {color: black;}#sk-container-id-1 div.sk-toggleable__content {max-height: 0;max-width: 0;overflow: hidden;text-align: left;background-color: #f0f8ff;}#sk-container-id-1 div.sk-toggleable__content pre {margin: 0.2em;color: black;border-radius: 0.25em;background-color: #f0f8ff;}#sk-container-id-1 input.sk-toggleable__control:checked~div.sk-toggleable__content {max-height: 200px;max-width: 100%;overflow: auto;}#sk-container-id-1 input.sk-toggleable__control:checked~label.sk-toggleable__label-arrow:before {content: \"▾\";}#sk-container-id-1 div.sk-estimator input.sk-toggleable__control:checked~label.sk-toggleable__label {background-color: #d4ebff;}#sk-container-id-1 div.sk-label input.sk-toggleable__control:checked~label.sk-toggleable__label {background-color: #d4ebff;}#sk-container-id-1 input.sk-hidden--visually {border: 0;clip: rect(1px 1px 1px 1px);clip: rect(1px, 1px, 1px, 1px);height: 1px;margin: -1px;overflow: hidden;padding: 0;position: absolute;width: 1px;}#sk-container-id-1 div.sk-estimator {font-family: monospace;background-color: #f0f8ff;border: 1px dotted black;border-radius: 0.25em;box-sizing: border-box;margin-bottom: 0.5em;}#sk-container-id-1 div.sk-estimator:hover {background-color: #d4ebff;}#sk-container-id-1 div.sk-parallel-item::after {content: \"\";width: 100%;border-bottom: 1px solid gray;flex-grow: 1;}#sk-container-id-1 div.sk-label:hover label.sk-toggleable__label {background-color: #d4ebff;}#sk-container-id-1 div.sk-serial::before {content: \"\";position: absolute;border-left: 1px solid gray;box-sizing: border-box;top: 0;bottom: 0;left: 50%;z-index: 0;}#sk-container-id-1 div.sk-serial {display: flex;flex-direction: column;align-items: center;background-color: white;padding-right: 0.2em;padding-left: 0.2em;position: relative;}#sk-container-id-1 div.sk-item {position: relative;z-index: 1;}#sk-container-id-1 div.sk-parallel {display: flex;align-items: stretch;justify-content: center;background-color: white;position: relative;}#sk-container-id-1 div.sk-item::before, #sk-container-id-1 div.sk-parallel-item::before {content: \"\";position: absolute;border-left: 1px solid gray;box-sizing: border-box;top: 0;bottom: 0;left: 50%;z-index: -1;}#sk-container-id-1 div.sk-parallel-item {display: flex;flex-direction: column;z-index: 1;position: relative;background-color: white;}#sk-container-id-1 div.sk-parallel-item:first-child::after {align-self: flex-end;width: 50%;}#sk-container-id-1 div.sk-parallel-item:last-child::after {align-self: flex-start;width: 50%;}#sk-container-id-1 div.sk-parallel-item:only-child::after {width: 0;}#sk-container-id-1 div.sk-dashed-wrapped {border: 1px dashed gray;margin: 0 0.4em 0.5em 0.4em;box-sizing: border-box;padding-bottom: 0.4em;background-color: white;}#sk-container-id-1 div.sk-label label {font-family: monospace;font-weight: bold;display: inline-block;line-height: 1.2em;}#sk-container-id-1 div.sk-label-container {text-align: center;}#sk-container-id-1 div.sk-container {/* jupyter's `normalize.less` sets `[hidden] { display: none; }` but bootstrap.min.css set `[hidden] { display: none !important; }` so we also need the `!important` here to be able to override the default hidden behavior on the sphinx rendered scikit-learn.org. See: https://github.com/scikit-learn/scikit-learn/issues/21755 */display: inline-block !important;position: relative;}#sk-container-id-1 div.sk-text-repr-fallback {display: none;}</style><div id=\"sk-container-id-1\" class=\"sk-top-container\"><div class=\"sk-text-repr-fallback\"><pre>TfidfVectorizer(max_features=5000)</pre><b>In a Jupyter environment, please rerun this cell to show the HTML representation or trust the notebook. <br />On GitHub, the HTML representation is unable to render, please try loading this page with nbviewer.org.</b></div><div class=\"sk-container\" hidden><div class=\"sk-item\"><div class=\"sk-estimator sk-toggleable\"><input class=\"sk-toggleable__control sk-hidden--visually\" id=\"sk-estimator-id-1\" type=\"checkbox\" checked><label for=\"sk-estimator-id-1\" class=\"sk-toggleable__label sk-toggleable__label-arrow\">TfidfVectorizer</label><div class=\"sk-toggleable__content\"><pre>TfidfVectorizer(max_features=5000)</pre></div></div></div></div></div>"
            ]
          },
          "metadata": {},
          "execution_count": 18
        }
      ]
    },
    {
      "cell_type": "code",
      "source": [
        "a=tfidf_vec.fit_transform(df['cleaned_text'])"
      ],
      "metadata": {
        "id": "KcWQSPmCE1ww"
      },
      "execution_count": 19,
      "outputs": []
    },
    {
      "cell_type": "code",
      "source": [
        "a"
      ],
      "metadata": {
        "colab": {
          "base_uri": "https://localhost:8080/"
        },
        "id": "n2O4OX2jE37Q",
        "outputId": "56ee1fc9-742c-4c52-fdea-b75daa001990"
      },
      "execution_count": 20,
      "outputs": [
        {
          "output_type": "execute_result",
          "data": {
            "text/plain": [
              "<19997x5000 sparse matrix of type '<class 'numpy.float64'>'\n",
              "\twith 1823934 stored elements in Compressed Sparse Row format>"
            ]
          },
          "metadata": {},
          "execution_count": 20
        }
      ]
    },
    {
      "cell_type": "code",
      "source": [
        "b=df['Labels']"
      ],
      "metadata": {
        "id": "reUPjZbUFBiJ"
      },
      "execution_count": 21,
      "outputs": []
    },
    {
      "cell_type": "code",
      "source": [
        "b"
      ],
      "metadata": {
        "colab": {
          "base_uri": "https://localhost:8080/",
          "height": 458
        },
        "id": "F1m3AB6gFCuE",
        "outputId": "beebee2d-b1a8-4532-f7b6-22ba54c5fd96"
      },
      "execution_count": 22,
      "outputs": [
        {
          "output_type": "execute_result",
          "data": {
            "text/plain": [
              "0               alt.atheism\n",
              "1               alt.atheism\n",
              "2               alt.atheism\n",
              "3               alt.atheism\n",
              "4               alt.atheism\n",
              "                ...        \n",
              "19992    talk.religion.misc\n",
              "19993    talk.religion.misc\n",
              "19994    talk.religion.misc\n",
              "19995    talk.religion.misc\n",
              "19996    talk.religion.misc\n",
              "Name: Labels, Length: 19997, dtype: object"
            ],
            "text/html": [
              "<div>\n",
              "<style scoped>\n",
              "    .dataframe tbody tr th:only-of-type {\n",
              "        vertical-align: middle;\n",
              "    }\n",
              "\n",
              "    .dataframe tbody tr th {\n",
              "        vertical-align: top;\n",
              "    }\n",
              "\n",
              "    .dataframe thead th {\n",
              "        text-align: right;\n",
              "    }\n",
              "</style>\n",
              "<table border=\"1\" class=\"dataframe\">\n",
              "  <thead>\n",
              "    <tr style=\"text-align: right;\">\n",
              "      <th></th>\n",
              "      <th>Labels</th>\n",
              "    </tr>\n",
              "  </thead>\n",
              "  <tbody>\n",
              "    <tr>\n",
              "      <th>0</th>\n",
              "      <td>alt.atheism</td>\n",
              "    </tr>\n",
              "    <tr>\n",
              "      <th>1</th>\n",
              "      <td>alt.atheism</td>\n",
              "    </tr>\n",
              "    <tr>\n",
              "      <th>2</th>\n",
              "      <td>alt.atheism</td>\n",
              "    </tr>\n",
              "    <tr>\n",
              "      <th>3</th>\n",
              "      <td>alt.atheism</td>\n",
              "    </tr>\n",
              "    <tr>\n",
              "      <th>4</th>\n",
              "      <td>alt.atheism</td>\n",
              "    </tr>\n",
              "    <tr>\n",
              "      <th>...</th>\n",
              "      <td>...</td>\n",
              "    </tr>\n",
              "    <tr>\n",
              "      <th>19992</th>\n",
              "      <td>talk.religion.misc</td>\n",
              "    </tr>\n",
              "    <tr>\n",
              "      <th>19993</th>\n",
              "      <td>talk.religion.misc</td>\n",
              "    </tr>\n",
              "    <tr>\n",
              "      <th>19994</th>\n",
              "      <td>talk.religion.misc</td>\n",
              "    </tr>\n",
              "    <tr>\n",
              "      <th>19995</th>\n",
              "      <td>talk.religion.misc</td>\n",
              "    </tr>\n",
              "    <tr>\n",
              "      <th>19996</th>\n",
              "      <td>talk.religion.misc</td>\n",
              "    </tr>\n",
              "  </tbody>\n",
              "</table>\n",
              "<p>19997 rows × 1 columns</p>\n",
              "</div><br><label><b>dtype:</b> object</label>"
            ]
          },
          "metadata": {},
          "execution_count": 22
        }
      ]
    },
    {
      "cell_type": "code",
      "source": [
        "#splitting the data into training and testing data\n",
        "x_train,x_test,y_train,y_test=train_test_split(a,b,test_size=0.75,random_state=100)"
      ],
      "metadata": {
        "id": "Pyj3AyqDFDw0"
      },
      "execution_count": 23,
      "outputs": []
    },
    {
      "cell_type": "code",
      "source": [
        "print(x_train.shape)\n",
        "print(y_train.shape)\n",
        "print(x_test.shape)\n",
        "print(y_test.shape)"
      ],
      "metadata": {
        "colab": {
          "base_uri": "https://localhost:8080/"
        },
        "id": "o92K7csUFF7B",
        "outputId": "6880055d-aaa6-4a41-dcfb-7941095ad0c8"
      },
      "execution_count": 24,
      "outputs": [
        {
          "output_type": "stream",
          "name": "stdout",
          "text": [
            "(4999, 5000)\n",
            "(4999,)\n",
            "(14998, 5000)\n",
            "(14998,)\n"
          ]
        }
      ]
    },
    {
      "cell_type": "code",
      "source": [
        "#using NaiveBayes algorithm\n",
        "naive_bayes=MultinomialNB()"
      ],
      "metadata": {
        "id": "TWEujj0dFHZ5"
      },
      "execution_count": 25,
      "outputs": []
    },
    {
      "cell_type": "code",
      "source": [
        "naive_bayes.fit(x_train,y_train)"
      ],
      "metadata": {
        "colab": {
          "base_uri": "https://localhost:8080/",
          "height": 75
        },
        "id": "aeiio-VDFJJ5",
        "outputId": "f406d9a9-5e87-460a-f7cf-3a7107cf0667"
      },
      "execution_count": 26,
      "outputs": [
        {
          "output_type": "execute_result",
          "data": {
            "text/plain": [
              "MultinomialNB()"
            ],
            "text/html": [
              "<style>#sk-container-id-2 {color: black;}#sk-container-id-2 pre{padding: 0;}#sk-container-id-2 div.sk-toggleable {background-color: white;}#sk-container-id-2 label.sk-toggleable__label {cursor: pointer;display: block;width: 100%;margin-bottom: 0;padding: 0.3em;box-sizing: border-box;text-align: center;}#sk-container-id-2 label.sk-toggleable__label-arrow:before {content: \"▸\";float: left;margin-right: 0.25em;color: #696969;}#sk-container-id-2 label.sk-toggleable__label-arrow:hover:before {color: black;}#sk-container-id-2 div.sk-estimator:hover label.sk-toggleable__label-arrow:before {color: black;}#sk-container-id-2 div.sk-toggleable__content {max-height: 0;max-width: 0;overflow: hidden;text-align: left;background-color: #f0f8ff;}#sk-container-id-2 div.sk-toggleable__content pre {margin: 0.2em;color: black;border-radius: 0.25em;background-color: #f0f8ff;}#sk-container-id-2 input.sk-toggleable__control:checked~div.sk-toggleable__content {max-height: 200px;max-width: 100%;overflow: auto;}#sk-container-id-2 input.sk-toggleable__control:checked~label.sk-toggleable__label-arrow:before {content: \"▾\";}#sk-container-id-2 div.sk-estimator input.sk-toggleable__control:checked~label.sk-toggleable__label {background-color: #d4ebff;}#sk-container-id-2 div.sk-label input.sk-toggleable__control:checked~label.sk-toggleable__label {background-color: #d4ebff;}#sk-container-id-2 input.sk-hidden--visually {border: 0;clip: rect(1px 1px 1px 1px);clip: rect(1px, 1px, 1px, 1px);height: 1px;margin: -1px;overflow: hidden;padding: 0;position: absolute;width: 1px;}#sk-container-id-2 div.sk-estimator {font-family: monospace;background-color: #f0f8ff;border: 1px dotted black;border-radius: 0.25em;box-sizing: border-box;margin-bottom: 0.5em;}#sk-container-id-2 div.sk-estimator:hover {background-color: #d4ebff;}#sk-container-id-2 div.sk-parallel-item::after {content: \"\";width: 100%;border-bottom: 1px solid gray;flex-grow: 1;}#sk-container-id-2 div.sk-label:hover label.sk-toggleable__label {background-color: #d4ebff;}#sk-container-id-2 div.sk-serial::before {content: \"\";position: absolute;border-left: 1px solid gray;box-sizing: border-box;top: 0;bottom: 0;left: 50%;z-index: 0;}#sk-container-id-2 div.sk-serial {display: flex;flex-direction: column;align-items: center;background-color: white;padding-right: 0.2em;padding-left: 0.2em;position: relative;}#sk-container-id-2 div.sk-item {position: relative;z-index: 1;}#sk-container-id-2 div.sk-parallel {display: flex;align-items: stretch;justify-content: center;background-color: white;position: relative;}#sk-container-id-2 div.sk-item::before, #sk-container-id-2 div.sk-parallel-item::before {content: \"\";position: absolute;border-left: 1px solid gray;box-sizing: border-box;top: 0;bottom: 0;left: 50%;z-index: -1;}#sk-container-id-2 div.sk-parallel-item {display: flex;flex-direction: column;z-index: 1;position: relative;background-color: white;}#sk-container-id-2 div.sk-parallel-item:first-child::after {align-self: flex-end;width: 50%;}#sk-container-id-2 div.sk-parallel-item:last-child::after {align-self: flex-start;width: 50%;}#sk-container-id-2 div.sk-parallel-item:only-child::after {width: 0;}#sk-container-id-2 div.sk-dashed-wrapped {border: 1px dashed gray;margin: 0 0.4em 0.5em 0.4em;box-sizing: border-box;padding-bottom: 0.4em;background-color: white;}#sk-container-id-2 div.sk-label label {font-family: monospace;font-weight: bold;display: inline-block;line-height: 1.2em;}#sk-container-id-2 div.sk-label-container {text-align: center;}#sk-container-id-2 div.sk-container {/* jupyter's `normalize.less` sets `[hidden] { display: none; }` but bootstrap.min.css set `[hidden] { display: none !important; }` so we also need the `!important` here to be able to override the default hidden behavior on the sphinx rendered scikit-learn.org. See: https://github.com/scikit-learn/scikit-learn/issues/21755 */display: inline-block !important;position: relative;}#sk-container-id-2 div.sk-text-repr-fallback {display: none;}</style><div id=\"sk-container-id-2\" class=\"sk-top-container\"><div class=\"sk-text-repr-fallback\"><pre>MultinomialNB()</pre><b>In a Jupyter environment, please rerun this cell to show the HTML representation or trust the notebook. <br />On GitHub, the HTML representation is unable to render, please try loading this page with nbviewer.org.</b></div><div class=\"sk-container\" hidden><div class=\"sk-item\"><div class=\"sk-estimator sk-toggleable\"><input class=\"sk-toggleable__control sk-hidden--visually\" id=\"sk-estimator-id-2\" type=\"checkbox\" checked><label for=\"sk-estimator-id-2\" class=\"sk-toggleable__label sk-toggleable__label-arrow\">MultinomialNB</label><div class=\"sk-toggleable__content\"><pre>MultinomialNB()</pre></div></div></div></div></div>"
            ]
          },
          "metadata": {},
          "execution_count": 26
        }
      ]
    },
    {
      "cell_type": "code",
      "source": [
        "# predicting the data\n",
        "y_pred=naive_bayes.predict(x_test)"
      ],
      "metadata": {
        "id": "Y0Ar1fbMFKnh"
      },
      "execution_count": 27,
      "outputs": []
    },
    {
      "cell_type": "code",
      "source": [
        "y_pred"
      ],
      "metadata": {
        "colab": {
          "base_uri": "https://localhost:8080/"
        },
        "id": "m_nsFP9JFMGB",
        "outputId": "30e88bb3-fa09-42fd-8fa0-f6264d8f11d2"
      },
      "execution_count": 28,
      "outputs": [
        {
          "output_type": "execute_result",
          "data": {
            "text/plain": [
              "array(['sci.med', 'talk.politics.misc', 'comp.sys.mac.hardware', ...,\n",
              "       'comp.os.ms-windows.misc', 'rec.sport.hockey',\n",
              "       'comp.sys.mac.hardware'], dtype='<U24')"
            ]
          },
          "metadata": {},
          "execution_count": 28
        }
      ]
    },
    {
      "cell_type": "code",
      "source": [
        "#  finding performance metrics using accuracy score,precision,recall and f1 score\n",
        "accuracy_score(y_test,y_pred)"
      ],
      "metadata": {
        "colab": {
          "base_uri": "https://localhost:8080/"
        },
        "id": "QV9mb3vtFNw5",
        "outputId": "9767c0fe-98fb-48d8-ed45-9c01ae2a5761"
      },
      "execution_count": 29,
      "outputs": [
        {
          "output_type": "execute_result",
          "data": {
            "text/plain": [
              "0.853047072943059"
            ]
          },
          "metadata": {},
          "execution_count": 29
        }
      ]
    },
    {
      "cell_type": "code",
      "source": [
        "classification_report(y_test,y_pred)"
      ],
      "metadata": {
        "colab": {
          "base_uri": "https://localhost:8080/",
          "height": 91
        },
        "id": "IdX2qRdvFPNq",
        "outputId": "a644f12c-b0d5-4ed2-82c4-0a158293162e"
      },
      "execution_count": 30,
      "outputs": [
        {
          "output_type": "execute_result",
          "data": {
            "text/plain": [
              "'                          precision    recall  f1-score   support\\n\\n             alt.atheism       0.76      0.79      0.78       750\\n           comp.graphics       0.81      0.84      0.83       741\\n comp.os.ms-windows.misc       0.70      0.88      0.78       735\\ncomp.sys.ibm.pc.hardware       0.77      0.80      0.78       750\\n   comp.sys.mac.hardware       0.84      0.91      0.87       733\\n          comp.windows.x       0.89      0.88      0.88       745\\n            misc.forsale       0.87      0.83      0.85       762\\n               rec.autos       0.90      0.87      0.89       753\\n         rec.motorcycles       0.96      0.93      0.95       757\\n      rec.sport.baseball       0.97      0.96      0.97       756\\n        rec.sport.hockey       0.98      0.97      0.98       758\\n               sci.crypt       0.93      0.95      0.94       741\\n         sci.electronics       0.90      0.76      0.83       752\\n                 sci.med       0.98      0.89      0.93       767\\n               sci.space       0.94      0.92      0.93       751\\n  soc.religion.christian       0.87      0.99      0.92       748\\n      talk.politics.guns       0.67      0.93      0.78       733\\n   talk.politics.mideast       0.94      0.87      0.91       777\\n      talk.politics.misc       0.77      0.64      0.70       749\\n      talk.religion.misc       0.66      0.45      0.53       740\\n\\n                accuracy                           0.85     14998\\n               macro avg       0.86      0.85      0.85     14998\\n            weighted avg       0.86      0.85      0.85     14998\\n'"
            ],
            "application/vnd.google.colaboratory.intrinsic+json": {
              "type": "string"
            }
          },
          "metadata": {},
          "execution_count": 30
        }
      ]
    },
    {
      "cell_type": "code",
      "source": [
        "from nltk.sentiment.vader import SentimentIntensityAnalyzer"
      ],
      "metadata": {
        "id": "b2TVjHmsFQxb"
      },
      "execution_count": 31,
      "outputs": []
    },
    {
      "cell_type": "code",
      "source": [
        "!python -m nltk.downloader vader_lexicon"
      ],
      "metadata": {
        "colab": {
          "base_uri": "https://localhost:8080/"
        },
        "id": "UE8u7ZOqFSUR",
        "outputId": "fa6bd7bb-5ec7-476f-dd75-1d3f051b6a4d"
      },
      "execution_count": 32,
      "outputs": [
        {
          "output_type": "stream",
          "name": "stdout",
          "text": [
            "/usr/lib/python3.10/runpy.py:126: RuntimeWarning: 'nltk.downloader' found in sys.modules after import of package 'nltk', but prior to execution of 'nltk.downloader'; this may result in unpredictable behaviour\n",
            "  warn(RuntimeWarning(msg))\n",
            "[nltk_data] Downloading package vader_lexicon to /root/nltk_data...\n",
            "[nltk_data]   Package vader_lexicon is already up-to-date!\n"
          ]
        }
      ]
    },
    {
      "cell_type": "code",
      "source": [
        "#sentiment Analysis\n",
        "sent_analy=SentimentIntensityAnalyzer()"
      ],
      "metadata": {
        "id": "pSmNp5N_FUCU"
      },
      "execution_count": 33,
      "outputs": []
    },
    {
      "cell_type": "code",
      "source": [
        "sentiments=[]\n",
        "for text in df['Data']:\n",
        "  sentiment_scr=sent_analy.polarity_scores(text)\n",
        "  if sentiment_scr['compound']>0:\n",
        "    sentiments.append('positive+ve')\n",
        "  elif sentiment_scr['compound']<0:\n",
        "    sentiments.append('negative-ve')\n",
        "  else:\n",
        "    sentiments.append('neutral')"
      ],
      "metadata": {
        "id": "cw6taphdFVlS"
      },
      "execution_count": 34,
      "outputs": []
    },
    {
      "cell_type": "code",
      "source": [
        "# adding sentiments to the data\n",
        "df['sentiment']=sentiments"
      ],
      "metadata": {
        "id": "IolgfHauFXbR"
      },
      "execution_count": 35,
      "outputs": []
    },
    {
      "cell_type": "code",
      "source": [
        "#Examining the distribution of sentiments\n",
        "sentiment_dist=df.groupby(['Labels','sentiment']).size().unstack(fill_value=0)\n",
        "print(\"\\n sentiment Distribution Across Categories:\")\n",
        "print(sentiment_dist)"
      ],
      "metadata": {
        "colab": {
          "base_uri": "https://localhost:8080/"
        },
        "id": "9UwGE6VUFZQp",
        "outputId": "e13533e8-39b5-4c8b-e7a7-487c53f1fe36"
      },
      "execution_count": 36,
      "outputs": [
        {
          "output_type": "stream",
          "name": "stdout",
          "text": [
            "\n",
            " sentiment Distribution Across Categories:\n",
            "sentiment                 negative-ve  neutral  positive+ve\n",
            "Labels                                                     \n",
            "alt.atheism                       379        8          613\n",
            "comp.graphics                     123       47          830\n",
            "comp.os.ms-windows.misc           204       45          751\n",
            "comp.sys.ibm.pc.hardware          218       19          763\n",
            "comp.sys.mac.hardware             243       47          710\n",
            "comp.windows.x                    226       40          734\n",
            "misc.forsale                      126       70          804\n",
            "rec.autos                         304       28          668\n",
            "rec.motorcycles                   311       20          669\n",
            "rec.sport.baseball                228       39          733\n",
            "rec.sport.hockey                  259       16          725\n",
            "sci.crypt                         300        7          693\n",
            "sci.electronics                   178       36          786\n",
            "sci.med                           346       22          632\n",
            "sci.space                         271       21          708\n",
            "soc.religion.christian            260        0          737\n",
            "talk.politics.guns                659       10          331\n",
            "talk.politics.mideast             649        6          345\n",
            "talk.politics.misc                526        4          470\n",
            "talk.religion.misc                389        6          605\n"
          ]
        }
      ]
    },
    {
      "cell_type": "code",
      "source": [
        "from sklearn.metrics import accuracy_score,precision_score,recall_score,f1_score"
      ],
      "metadata": {
        "id": "ySbD2revFan5"
      },
      "execution_count": 37,
      "outputs": []
    },
    {
      "cell_type": "code",
      "source": [
        "# Naive Bayes Classifier and performance metrics\n",
        "accuracy_scr=accuracy_score(y_test,y_pred)\n",
        "accuracy_scr"
      ],
      "metadata": {
        "colab": {
          "base_uri": "https://localhost:8080/"
        },
        "id": "9Uftv4A4FcbK",
        "outputId": "1b62aebf-df47-425f-df97-517e2ca4ac94"
      },
      "execution_count": 38,
      "outputs": [
        {
          "output_type": "execute_result",
          "data": {
            "text/plain": [
              "0.853047072943059"
            ]
          },
          "metadata": {},
          "execution_count": 38
        }
      ]
    },
    {
      "cell_type": "code",
      "source": [
        "precision_scr=precision_score(y_test,y_pred,average='weighted')\n",
        "precision_scr"
      ],
      "metadata": {
        "colab": {
          "base_uri": "https://localhost:8080/"
        },
        "id": "S-DUjGr_Fdqw",
        "outputId": "21309acd-2732-48e2-8e42-2007cc0916cb"
      },
      "execution_count": 39,
      "outputs": [
        {
          "output_type": "execute_result",
          "data": {
            "text/plain": [
              "0.8567915615927318"
            ]
          },
          "metadata": {},
          "execution_count": 39
        }
      ]
    },
    {
      "cell_type": "code",
      "source": [
        "recall_scr=recall_score(y_test,y_pred,average='weighted')\n",
        "recall_scr"
      ],
      "metadata": {
        "colab": {
          "base_uri": "https://localhost:8080/"
        },
        "id": "bHxWUDVMFe7S",
        "outputId": "5b2d258e-2d5f-4fda-b4db-a9b3bd28d12a"
      },
      "execution_count": 40,
      "outputs": [
        {
          "output_type": "execute_result",
          "data": {
            "text/plain": [
              "0.853047072943059"
            ]
          },
          "metadata": {},
          "execution_count": 40
        }
      ]
    },
    {
      "cell_type": "code",
      "source": [
        "f1_scr=f1_score(y_test,y_pred,average=\"weighted\")\n",
        "f1_scr"
      ],
      "metadata": {
        "colab": {
          "base_uri": "https://localhost:8080/"
        },
        "id": "fNcuRylKFhX6",
        "outputId": "99ffd6f7-aaa3-456d-a3b3-d783f6c42a24"
      },
      "execution_count": 41,
      "outputs": [
        {
          "output_type": "execute_result",
          "data": {
            "text/plain": [
              "0.8512460230617622"
            ]
          },
          "metadata": {},
          "execution_count": 41
        }
      ]
    }
  ]
}